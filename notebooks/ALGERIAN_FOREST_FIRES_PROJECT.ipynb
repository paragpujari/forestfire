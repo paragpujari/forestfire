{
  "cells": [
    {
      "cell_type": "markdown",
      "metadata": {
        "id": "YXlG47Kh1399"
      },
      "source": [
        "**Algerian Forest Fires Dataset**\n",
        "\n",
        "\n",
        "The Algerian Forest Fires dataset has 244 instances of data that is divided into two different regions. One is Bejaia Region that has 122 instances of data and the other is Sidi-Bel Region that has anothar 122 instances of data.\n",
        "\n",
        "\n",
        "Bejaia Region is considered as Region 0 and Sidi-Bel Region is considered as Region 1.\n",
        "\n",
        "\n",
        "The time period of the dataset is from June 2012 till september 2012. This dataset has total 11 independent attributes and 1 dependent(output) attribute.\n",
        "\n",
        "\n",
        "**Aim of this project:**\n",
        "\n",
        "The main objective of this project is to predict the Fire Weather Index for all the given input attributes based on some Regression Algorithms.\n"
      ]
    },
    {
      "cell_type": "markdown",
      "metadata": {
        "id": "K4dj5Eex4Btm"
      },
      "source": [
        "**Attribute Information:**\n",
        "\n",
        "(i) Date(DD/MM/YYYY) -> DD = Day, MM = Month, YY = Year, Weather Data Observations.\n",
        "\n",
        "(ii) Temperature -> Temperature in Degree Celcius.\n",
        "\n",
        "(iii) RH -> Relative Humidity\n",
        "\n",
        "(iv) Ws -> Wind Speed in km/hr.\n",
        "\n",
        "(v) Rain -> total rain received in mm.\n",
        "\n",
        "(vi) FFMC -> (Fine Fuel Moisture Code) index received from FWI system: 28.6 to 92.5\n",
        "\n",
        "(vii) DMC -> (Duff Moisture Code) index received from FWI system : 1.1 to 65.9\n",
        "\n",
        "(viii) DC -> (Drought Code) index received from FWI system: 7 to 220.4\n",
        "\n",
        "(ix) ISI -> (Initial Speed Index) received from FWI system: 0 to 18.5\n",
        "\n",
        "(x) BUI -> (Buildup Index) received from FWI system: 1.1 to 6.8\n",
        "\n",
        "(xi) FWI -> (Fire Weather Index) 0 to 31.1\n",
        "\n",
        "(xii) Classes -> Fire and Not Fire."
      ]
    },
    {
      "cell_type": "markdown",
      "metadata": {
        "id": "vd5n9ihk6lI6"
      },
      "source": [
        "**1. DATA GATHERING AND DATA INFORMATION:**"
      ]
    },
    {
      "cell_type": "code",
      "execution_count": 104,
      "metadata": {
        "id": "-OtM18w56MHJ"
      },
      "outputs": [],
      "source": [
        "# import all the necessary libraries\n",
        "\n",
        "import numpy as np\n",
        "import pandas as pd\n",
        "import matplotlib.pyplot as plt\n",
        "%matplotlib inline\n",
        "import seaborn as sns"
      ]
    },
    {
      "cell_type": "code",
      "execution_count": 105,
      "metadata": {
        "id": "x3_sUFkS68jx"
      },
      "outputs": [],
      "source": [
        "# loading the dataset\n",
        "data = pd.read_csv('/content/Algerian_forest_fires_cleaned_dataset.csv')"
      ]
    },
    {
      "cell_type": "code",
      "execution_count": 106,
      "metadata": {
        "colab": {
          "base_uri": "https://localhost:8080/"
        },
        "id": "vNf2LwSO7JuL",
        "outputId": "459e64ab-02df-4f47-c5f0-24b2bb509d2d"
      },
      "outputs": [
        {
          "name": "stdout",
          "output_type": "stream",
          "text": [
            "   day  month  year  Temperature  RH  Ws  Rain  FFMC  DMC    DC  ISI  BUI  \\\n",
            "0    1      6  2012           29  57  18   0.0  65.7  3.4   7.6  1.3  3.4   \n",
            "1    2      6  2012           29  61  13   1.3  64.4  4.1   7.6  1.0  3.9   \n",
            "2    3      6  2012           26  82  22  13.1  47.1  2.5   7.1  0.3  2.7   \n",
            "3    4      6  2012           25  89  13   2.5  28.6  1.3   6.9  0.0  1.7   \n",
            "4    5      6  2012           27  77  16   0.0  64.8  3.0  14.2  1.2  3.9   \n",
            "\n",
            "   FWI      Classes  Region  \n",
            "0  0.5  not fire          0  \n",
            "1  0.4  not fire          0  \n",
            "2  0.1  not fire          0  \n",
            "3  0.0  not fire          0  \n",
            "4  0.5  not fire          0  \n"
          ]
        }
      ],
      "source": [
        "# load the first five records of the dataset\n",
        "print(data.head())"
      ]
    },
    {
      "cell_type": "code",
      "execution_count": 107,
      "metadata": {
        "colab": {
          "base_uri": "https://localhost:8080/"
        },
        "id": "zJ4pUEek7PE6",
        "outputId": "f7fcf344-5fa0-4dbf-b3f0-241b06892291"
      },
      "outputs": [
        {
          "name": "stdout",
          "output_type": "stream",
          "text": [
            "     day  month  year  Temperature  RH  Ws  Rain  FFMC   DMC    DC  ISI   BUI  \\\n",
            "238   26      9  2012           30  65  14   0.0  85.4  16.0  44.5  4.5  16.9   \n",
            "239   27      9  2012           28  87  15   4.4  41.1   6.5   8.0  0.1   6.2   \n",
            "240   28      9  2012           27  87  29   0.5  45.9   3.5   7.9  0.4   3.4   \n",
            "241   29      9  2012           24  54  18   0.1  79.7   4.3  15.2  1.7   5.1   \n",
            "242   30      9  2012           24  64  15   0.2  67.3   3.8  16.5  1.2   4.8   \n",
            "\n",
            "     FWI       Classes  Region  \n",
            "238  6.5       fire          1  \n",
            "239  0.0   not fire          1  \n",
            "240  0.2   not fire          1  \n",
            "241  0.7   not fire          1  \n",
            "242  0.5  not fire           1  \n"
          ]
        }
      ],
      "source": [
        "# load the last five records of the datset\n",
        "print(data.tail())"
      ]
    },
    {
      "cell_type": "code",
      "execution_count": 108,
      "metadata": {
        "colab": {
          "base_uri": "https://localhost:8080/"
        },
        "id": "X-3TtRRJ7Uyj",
        "outputId": "5ac9ae5e-d5ea-4b5d-e421-f9685fefc1ef"
      },
      "outputs": [
        {
          "name": "stdout",
          "output_type": "stream",
          "text": [
            "(243, 15)\n"
          ]
        }
      ],
      "source": [
        "# depict the shape of the dataset\n",
        "print(data.shape)"
      ]
    },
    {
      "cell_type": "code",
      "execution_count": 109,
      "metadata": {
        "colab": {
          "base_uri": "https://localhost:8080/"
        },
        "id": "7-vdoVNt7aeh",
        "outputId": "f0bf9c77-6fa2-485b-8023-1e2dd0321a68"
      },
      "outputs": [
        {
          "name": "stdout",
          "output_type": "stream",
          "text": [
            "<class 'pandas.core.frame.DataFrame'>\n",
            "RangeIndex: 243 entries, 0 to 242\n",
            "Data columns (total 15 columns):\n",
            " #   Column       Non-Null Count  Dtype  \n",
            "---  ------       --------------  -----  \n",
            " 0   day          243 non-null    int64  \n",
            " 1   month        243 non-null    int64  \n",
            " 2   year         243 non-null    int64  \n",
            " 3   Temperature  243 non-null    int64  \n",
            " 4   RH           243 non-null    int64  \n",
            " 5   Ws           243 non-null    int64  \n",
            " 6   Rain         243 non-null    float64\n",
            " 7   FFMC         243 non-null    float64\n",
            " 8   DMC          243 non-null    float64\n",
            " 9   DC           243 non-null    float64\n",
            " 10  ISI          243 non-null    float64\n",
            " 11  BUI          243 non-null    float64\n",
            " 12  FWI          243 non-null    float64\n",
            " 13  Classes      243 non-null    object \n",
            " 14  Region       243 non-null    int64  \n",
            "dtypes: float64(7), int64(7), object(1)\n",
            "memory usage: 28.6+ KB\n",
            "None\n"
          ]
        }
      ],
      "source": [
        "# Get the information about all the columns in the dataset\n",
        "print(data.info())"
      ]
    },
    {
      "cell_type": "code",
      "execution_count": 110,
      "metadata": {
        "colab": {
          "base_uri": "https://localhost:8080/"
        },
        "id": "MY0LA8K07l7n",
        "outputId": "71faf4fd-f0d3-4071-a55a-d511368e85a4"
      },
      "outputs": [
        {
          "name": "stdout",
          "output_type": "stream",
          "text": [
            "              day       month    year  Temperature          RH          Ws  \\\n",
            "count  243.000000  243.000000   243.0   243.000000  243.000000  243.000000   \n",
            "mean    15.761317    7.502058  2012.0    32.152263   62.041152   15.493827   \n",
            "std      8.842552    1.114793     0.0     3.628039   14.828160    2.811385   \n",
            "min      1.000000    6.000000  2012.0    22.000000   21.000000    6.000000   \n",
            "25%      8.000000    7.000000  2012.0    30.000000   52.500000   14.000000   \n",
            "50%     16.000000    8.000000  2012.0    32.000000   63.000000   15.000000   \n",
            "75%     23.000000    8.000000  2012.0    35.000000   73.500000   17.000000   \n",
            "max     31.000000    9.000000  2012.0    42.000000   90.000000   29.000000   \n",
            "\n",
            "             Rain        FFMC         DMC          DC         ISI         BUI  \\\n",
            "count  243.000000  243.000000  243.000000  243.000000  243.000000  243.000000   \n",
            "mean     0.762963   77.842387   14.680658   49.430864    4.742387   16.690535   \n",
            "std      2.003207   14.349641   12.393040   47.665606    4.154234   14.228421   \n",
            "min      0.000000   28.600000    0.700000    6.900000    0.000000    1.100000   \n",
            "25%      0.000000   71.850000    5.800000   12.350000    1.400000    6.000000   \n",
            "50%      0.000000   83.300000   11.300000   33.100000    3.500000   12.400000   \n",
            "75%      0.500000   88.300000   20.800000   69.100000    7.250000   22.650000   \n",
            "max     16.800000   96.000000   65.900000  220.400000   19.000000   68.000000   \n",
            "\n",
            "              FWI      Region  \n",
            "count  243.000000  243.000000  \n",
            "mean     7.035391    0.497942  \n",
            "std      7.440568    0.501028  \n",
            "min      0.000000    0.000000  \n",
            "25%      0.700000    0.000000  \n",
            "50%      4.200000    0.000000  \n",
            "75%     11.450000    1.000000  \n",
            "max     31.100000    1.000000  \n"
          ]
        }
      ],
      "source": [
        "# Get the statistical summary about the dataset\n",
        "print(data.describe())"
      ]
    },
    {
      "cell_type": "code",
      "execution_count": 111,
      "metadata": {
        "colab": {
          "base_uri": "https://localhost:8080/"
        },
        "id": "1q9quu8m7y35",
        "outputId": "4705758a-80f4-4bdf-f4df-549123e9c42e"
      },
      "outputs": [
        {
          "name": "stdout",
          "output_type": "stream",
          "text": [
            "     day  month  year  Temperature  RH  Ws  Rain  FFMC   DMC    DC  ISI   BUI  \\\n",
            "0      1      6  2012           29  57  18   0.0  65.7   3.4   7.6  1.3   3.4   \n",
            "1      2      6  2012           29  61  13   1.3  64.4   4.1   7.6  1.0   3.9   \n",
            "2      3      6  2012           26  82  22  13.1  47.1   2.5   7.1  0.3   2.7   \n",
            "3      4      6  2012           25  89  13   2.5  28.6   1.3   6.9  0.0   1.7   \n",
            "4      5      6  2012           27  77  16   0.0  64.8   3.0  14.2  1.2   3.9   \n",
            "..   ...    ...   ...          ...  ..  ..   ...   ...   ...   ...  ...   ...   \n",
            "238   26      9  2012           30  65  14   0.0  85.4  16.0  44.5  4.5  16.9   \n",
            "239   27      9  2012           28  87  15   4.4  41.1   6.5   8.0  0.1   6.2   \n",
            "240   28      9  2012           27  87  29   0.5  45.9   3.5   7.9  0.4   3.4   \n",
            "241   29      9  2012           24  54  18   0.1  79.7   4.3  15.2  1.7   5.1   \n",
            "242   30      9  2012           24  64  15   0.2  67.3   3.8  16.5  1.2   4.8   \n",
            "\n",
            "     FWI       Classes  Region  \n",
            "0    0.5   not fire          0  \n",
            "1    0.4   not fire          0  \n",
            "2    0.1   not fire          0  \n",
            "3    0.0   not fire          0  \n",
            "4    0.5   not fire          0  \n",
            "..   ...           ...     ...  \n",
            "238  6.5       fire          1  \n",
            "239  0.0   not fire          1  \n",
            "240  0.2   not fire          1  \n",
            "241  0.7   not fire          1  \n",
            "242  0.5  not fire           1  \n",
            "\n",
            "[243 rows x 15 columns]\n"
          ]
        }
      ],
      "source": [
        "# load the entire dataset\n",
        "print(data)"
      ]
    },
    {
      "cell_type": "markdown",
      "metadata": {
        "id": "z_QT1nza8O5x"
      },
      "source": [
        "**2. EXPLORATORY DATA ANALYSIS:**"
      ]
    },
    {
      "cell_type": "code",
      "execution_count": 112,
      "metadata": {
        "colab": {
          "base_uri": "https://localhost:8080/"
        },
        "id": "RW6miGqP8VLa",
        "outputId": "8c0c0d33-b085-490f-b0d2-52aea10265df"
      },
      "outputs": [
        {
          "name": "stdout",
          "output_type": "stream",
          "text": [
            "day            0\n",
            "month          0\n",
            "year           0\n",
            "Temperature    0\n",
            "RH             0\n",
            "Ws             0\n",
            "Rain           0\n",
            "FFMC           0\n",
            "DMC            0\n",
            "DC             0\n",
            "ISI            0\n",
            "BUI            0\n",
            "FWI            0\n",
            "Classes        0\n",
            "Region         0\n",
            "dtype: int64\n"
          ]
        }
      ],
      "source": [
        "# Checking for the missing values in the dataset\n",
        "print(data.isnull().sum())"
      ]
    },
    {
      "cell_type": "markdown",
      "metadata": {
        "id": "1pIaEe_C8cRt"
      },
      "source": [
        "**OBSERVATIONS:**\n",
        "\n",
        "(i) From the above data, it is clear that there are no missing values in the dataset."
      ]
    },
    {
      "cell_type": "markdown",
      "metadata": {
        "id": "ULymJ35x8uoN"
      },
      "source": [
        "**DATASET INFO:**\n",
        "\n",
        "(i) The dataset is divided into two different regions. One is Bejaia Region from 0 to 122 index.\n",
        "\n",
        "(ii) Sidi-Bel Region from 123 to 244 index."
      ]
    },
    {
      "cell_type": "code",
      "execution_count": 113,
      "metadata": {
        "colab": {
          "base_uri": "https://localhost:8080/"
        },
        "id": "vHaMFkzD8_Jj",
        "outputId": "216c750b-292f-413f-c6d8-a0a7f712330a"
      },
      "outputs": [
        {
          "name": "stdout",
          "output_type": "stream",
          "text": [
            "<class 'pandas.core.frame.DataFrame'>\n",
            "RangeIndex: 243 entries, 0 to 242\n",
            "Data columns (total 15 columns):\n",
            " #   Column       Non-Null Count  Dtype  \n",
            "---  ------       --------------  -----  \n",
            " 0   day          243 non-null    int64  \n",
            " 1   month        243 non-null    int64  \n",
            " 2   year         243 non-null    int64  \n",
            " 3   Temperature  243 non-null    int64  \n",
            " 4   RH           243 non-null    int64  \n",
            " 5   Ws           243 non-null    int64  \n",
            " 6   Rain         243 non-null    float64\n",
            " 7   FFMC         243 non-null    float64\n",
            " 8   DMC          243 non-null    float64\n",
            " 9   DC           243 non-null    float64\n",
            " 10  ISI          243 non-null    float64\n",
            " 11  BUI          243 non-null    float64\n",
            " 12  FWI          243 non-null    float64\n",
            " 13  Classes      243 non-null    object \n",
            " 14  Region       243 non-null    int64  \n",
            "dtypes: float64(7), int64(7), object(1)\n",
            "memory usage: 28.6+ KB\n",
            "None\n"
          ]
        }
      ],
      "source": [
        "# Get the information about the dataset\n",
        "print(data.info())"
      ]
    },
    {
      "cell_type": "code",
      "execution_count": 114,
      "metadata": {
        "id": "pCMi-mUz9KWA"
      },
      "outputs": [],
      "source": [
        "# convert all the columns into object type\n",
        "data[['day']]                =    data[['day']].astype('object')\n",
        "data[['month']]              =    data[['month']].astype('object')\n",
        "data[['year']]               =    data[['year']].astype('object')\n",
        "data[['Temperature']]        =    data[['Temperature']].astype('object')\n",
        "data[['RH']]                 =    data[['RH']].astype('object')\n",
        "data[['Ws']]                 =    data[['Ws']].astype('object')\n",
        "\n",
        "\n",
        "data[['Rain']]               =    data[['Rain']].astype('object')\n",
        "data[['FFMC']]               =    data[['FFMC']].astype('object')\n",
        "data[['DMC']]                =    data[['DMC']].astype('object')\n",
        "data[['DC']]                 =    data[['DC']].astype('object')\n",
        "data[['ISI']]                =    data[['ISI']].astype('object')\n",
        "data[['BUI']]                =    data[['BUI']].astype('object')\n",
        "data[['FWI']]                =    data[['FWI']].astype('object')\n",
        "\n",
        "\n",
        "data[['Region']]             =    data[['Region']].astype('object')"
      ]
    },
    {
      "cell_type": "code",
      "execution_count": 115,
      "metadata": {
        "colab": {
          "base_uri": "https://localhost:8080/"
        },
        "id": "OiJmASBl-irF",
        "outputId": "9a2eefb6-0ec4-48cc-9c31-265267833e6b"
      },
      "outputs": [
        {
          "name": "stdout",
          "output_type": "stream",
          "text": [
            "<class 'pandas.core.frame.DataFrame'>\n",
            "RangeIndex: 243 entries, 0 to 242\n",
            "Data columns (total 15 columns):\n",
            " #   Column       Non-Null Count  Dtype \n",
            "---  ------       --------------  ----- \n",
            " 0   day          243 non-null    object\n",
            " 1   month        243 non-null    object\n",
            " 2   year         243 non-null    object\n",
            " 3   Temperature  243 non-null    object\n",
            " 4   RH           243 non-null    object\n",
            " 5   Ws           243 non-null    object\n",
            " 6   Rain         243 non-null    object\n",
            " 7   FFMC         243 non-null    object\n",
            " 8   DMC          243 non-null    object\n",
            " 9   DC           243 non-null    object\n",
            " 10  ISI          243 non-null    object\n",
            " 11  BUI          243 non-null    object\n",
            " 12  FWI          243 non-null    object\n",
            " 13  Classes      243 non-null    object\n",
            " 14  Region       243 non-null    object\n",
            "dtypes: object(15)\n",
            "memory usage: 28.6+ KB\n",
            "None\n"
          ]
        }
      ],
      "source": [
        "print(data.info())"
      ]
    },
    {
      "cell_type": "code",
      "execution_count": 116,
      "metadata": {
        "id": "cBfPiQJg-ng4"
      },
      "outputs": [],
      "source": [
        "# change the data type of the columns into their respective data types\n",
        "data[['day']]                =    data[['day']].astype('int64')\n",
        "data[['month']]              =    data[['month']].astype('int64')\n",
        "data[['year']]               =    data[['year']].astype('int64')\n",
        "data[['Temperature']]        =    data[['Temperature']].astype('int64')\n",
        "data[['RH']]                 =    data[['RH']].astype('int64')\n",
        "data[['Ws']]                 =    data[['Ws']].astype('int64')\n",
        "\n",
        "\n",
        "data[['Rain']]               =    data[['Rain']].astype('float64')\n",
        "data[['FFMC']]               =    data[['FFMC']].astype('float64')\n",
        "data[['DMC']]                =    data[['DMC']].astype('float64')\n",
        "data[['DC']]                 =    data[['DC']].astype('float64')\n",
        "data[['ISI']]                =    data[['ISI']].astype('float64')\n",
        "data[['BUI']]                =    data[['BUI']].astype('float64')\n",
        "data[['FWI']]                =    data[['FWI']].astype('float64')\n",
        "\n",
        "\n",
        "data[['Region']]             =    data[['Region']].astype('int64')"
      ]
    },
    {
      "cell_type": "code",
      "execution_count": 117,
      "metadata": {
        "colab": {
          "base_uri": "https://localhost:8080/"
        },
        "id": "r4zjlDTr-6Nn",
        "outputId": "ca7b2dfe-0375-4613-801f-745a8f325808"
      },
      "outputs": [
        {
          "name": "stdout",
          "output_type": "stream",
          "text": [
            "<class 'pandas.core.frame.DataFrame'>\n",
            "RangeIndex: 243 entries, 0 to 242\n",
            "Data columns (total 15 columns):\n",
            " #   Column       Non-Null Count  Dtype  \n",
            "---  ------       --------------  -----  \n",
            " 0   day          243 non-null    int64  \n",
            " 1   month        243 non-null    int64  \n",
            " 2   year         243 non-null    int64  \n",
            " 3   Temperature  243 non-null    int64  \n",
            " 4   RH           243 non-null    int64  \n",
            " 5   Ws           243 non-null    int64  \n",
            " 6   Rain         243 non-null    float64\n",
            " 7   FFMC         243 non-null    float64\n",
            " 8   DMC          243 non-null    float64\n",
            " 9   DC           243 non-null    float64\n",
            " 10  ISI          243 non-null    float64\n",
            " 11  BUI          243 non-null    float64\n",
            " 12  FWI          243 non-null    float64\n",
            " 13  Classes      243 non-null    object \n",
            " 14  Region       243 non-null    int64  \n",
            "dtypes: float64(7), int64(7), object(1)\n",
            "memory usage: 28.6+ KB\n",
            "None\n"
          ]
        }
      ],
      "source": [
        "print(data.info())"
      ]
    },
    {
      "cell_type": "code",
      "execution_count": 118,
      "metadata": {
        "colab": {
          "base_uri": "https://localhost:8080/"
        },
        "id": "K1vUhHqm-_Xc",
        "outputId": "cd21721e-562a-415b-9088-79842c68d942"
      },
      "outputs": [
        {
          "name": "stdout",
          "output_type": "stream",
          "text": [
            "   day  month  year  Temperature  RH  Ws  Rain  FFMC  DMC    DC  ISI  BUI  \\\n",
            "0    1      6  2012           29  57  18   0.0  65.7  3.4   7.6  1.3  3.4   \n",
            "1    2      6  2012           29  61  13   1.3  64.4  4.1   7.6  1.0  3.9   \n",
            "2    3      6  2012           26  82  22  13.1  47.1  2.5   7.1  0.3  2.7   \n",
            "3    4      6  2012           25  89  13   2.5  28.6  1.3   6.9  0.0  1.7   \n",
            "4    5      6  2012           27  77  16   0.0  64.8  3.0  14.2  1.2  3.9   \n",
            "\n",
            "   FWI      Classes  Region  \n",
            "0  0.5  not fire          0  \n",
            "1  0.4  not fire          0  \n",
            "2  0.1  not fire          0  \n",
            "3  0.0  not fire          0  \n",
            "4  0.5  not fire          0  \n"
          ]
        }
      ],
      "source": [
        "print(data.head())"
      ]
    },
    {
      "cell_type": "code",
      "execution_count": 119,
      "metadata": {
        "colab": {
          "base_uri": "https://localhost:8080/"
        },
        "id": "K9B2mfQY_BJd",
        "outputId": "aa902254-bffb-48c6-b3bb-a137b3bd8e79"
      },
      "outputs": [
        {
          "name": "stdout",
          "output_type": "stream",
          "text": [
            "day            0\n",
            "month          0\n",
            "year           0\n",
            "Temperature    0\n",
            "RH             0\n",
            "Ws             0\n",
            "Rain           0\n",
            "FFMC           0\n",
            "DMC            0\n",
            "DC             0\n",
            "ISI            0\n",
            "BUI            0\n",
            "FWI            0\n",
            "Classes        0\n",
            "Region         0\n",
            "dtype: int64\n"
          ]
        }
      ],
      "source": [
        "# checking for the missing values in the dataset\n",
        "print(data.isnull().sum())"
      ]
    },
    {
      "cell_type": "code",
      "execution_count": 120,
      "metadata": {
        "colab": {
          "base_uri": "https://localhost:8080/",
          "height": 81
        },
        "id": "FbQsDP5b_Qn1",
        "outputId": "89bc08f5-095e-4b92-cdeb-4008d9a8722e"
      },
      "outputs": [
        {
          "data": {
            "application/vnd.google.colaboratory.intrinsic+json": {
              "summary": "{\n  \"name\": \"data\",\n  \"rows\": 1,\n  \"fields\": [\n    {\n      \"column\": \"day\",\n      \"properties\": {\n        \"dtype\": \"number\",\n        \"std\": null,\n        \"min\": 1,\n        \"max\": 1,\n        \"num_unique_values\": 1,\n        \"samples\": [\n          1\n        ],\n        \"semantic_type\": \"\",\n        \"description\": \"\"\n      }\n    },\n    {\n      \"column\": \"month\",\n      \"properties\": {\n        \"dtype\": \"number\",\n        \"std\": null,\n        \"min\": 6,\n        \"max\": 6,\n        \"num_unique_values\": 1,\n        \"samples\": [\n          6\n        ],\n        \"semantic_type\": \"\",\n        \"description\": \"\"\n      }\n    },\n    {\n      \"column\": \"year\",\n      \"properties\": {\n        \"dtype\": \"number\",\n        \"std\": null,\n        \"min\": 2012,\n        \"max\": 2012,\n        \"num_unique_values\": 1,\n        \"samples\": [\n          2012\n        ],\n        \"semantic_type\": \"\",\n        \"description\": \"\"\n      }\n    },\n    {\n      \"column\": \"Temperature\",\n      \"properties\": {\n        \"dtype\": \"number\",\n        \"std\": null,\n        \"min\": 32,\n        \"max\": 32,\n        \"num_unique_values\": 1,\n        \"samples\": [\n          32\n        ],\n        \"semantic_type\": \"\",\n        \"description\": \"\"\n      }\n    },\n    {\n      \"column\": \"RH\",\n      \"properties\": {\n        \"dtype\": \"number\",\n        \"std\": null,\n        \"min\": 71,\n        \"max\": 71,\n        \"num_unique_values\": 1,\n        \"samples\": [\n          71\n        ],\n        \"semantic_type\": \"\",\n        \"description\": \"\"\n      }\n    },\n    {\n      \"column\": \"Ws\",\n      \"properties\": {\n        \"dtype\": \"number\",\n        \"std\": null,\n        \"min\": 12,\n        \"max\": 12,\n        \"num_unique_values\": 1,\n        \"samples\": [\n          12\n        ],\n        \"semantic_type\": \"\",\n        \"description\": \"\"\n      }\n    },\n    {\n      \"column\": \"Rain\",\n      \"properties\": {\n        \"dtype\": \"number\",\n        \"std\": null,\n        \"min\": 0.7,\n        \"max\": 0.7,\n        \"num_unique_values\": 1,\n        \"samples\": [\n          0.7\n        ],\n        \"semantic_type\": \"\",\n        \"description\": \"\"\n      }\n    },\n    {\n      \"column\": \"FFMC\",\n      \"properties\": {\n        \"dtype\": \"number\",\n        \"std\": null,\n        \"min\": 57.1,\n        \"max\": 57.1,\n        \"num_unique_values\": 1,\n        \"samples\": [\n          57.1\n        ],\n        \"semantic_type\": \"\",\n        \"description\": \"\"\n      }\n    },\n    {\n      \"column\": \"DMC\",\n      \"properties\": {\n        \"dtype\": \"number\",\n        \"std\": null,\n        \"min\": 2.5,\n        \"max\": 2.5,\n        \"num_unique_values\": 1,\n        \"samples\": [\n          2.5\n        ],\n        \"semantic_type\": \"\",\n        \"description\": \"\"\n      }\n    },\n    {\n      \"column\": \"DC\",\n      \"properties\": {\n        \"dtype\": \"number\",\n        \"std\": null,\n        \"min\": 8.2,\n        \"max\": 8.2,\n        \"num_unique_values\": 1,\n        \"samples\": [\n          8.2\n        ],\n        \"semantic_type\": \"\",\n        \"description\": \"\"\n      }\n    },\n    {\n      \"column\": \"ISI\",\n      \"properties\": {\n        \"dtype\": \"number\",\n        \"std\": null,\n        \"min\": 0.6,\n        \"max\": 0.6,\n        \"num_unique_values\": 1,\n        \"samples\": [\n          0.6\n        ],\n        \"semantic_type\": \"\",\n        \"description\": \"\"\n      }\n    },\n    {\n      \"column\": \"BUI\",\n      \"properties\": {\n        \"dtype\": \"number\",\n        \"std\": null,\n        \"min\": 2.8,\n        \"max\": 2.8,\n        \"num_unique_values\": 1,\n        \"samples\": [\n          2.8\n        ],\n        \"semantic_type\": \"\",\n        \"description\": \"\"\n      }\n    },\n    {\n      \"column\": \"FWI\",\n      \"properties\": {\n        \"dtype\": \"number\",\n        \"std\": null,\n        \"min\": 0.2,\n        \"max\": 0.2,\n        \"num_unique_values\": 1,\n        \"samples\": [\n          0.2\n        ],\n        \"semantic_type\": \"\",\n        \"description\": \"\"\n      }\n    },\n    {\n      \"column\": \"Classes\",\n      \"properties\": {\n        \"dtype\": \"string\",\n        \"num_unique_values\": 1,\n        \"samples\": [\n          \"not fire   \"\n        ],\n        \"semantic_type\": \"\",\n        \"description\": \"\"\n      }\n    },\n    {\n      \"column\": \"Region\",\n      \"properties\": {\n        \"dtype\": \"number\",\n        \"std\": null,\n        \"min\": 1,\n        \"max\": 1,\n        \"num_unique_values\": 1,\n        \"samples\": [\n          1\n        ],\n        \"semantic_type\": \"\",\n        \"description\": \"\"\n      }\n    }\n  ]\n}",
              "type": "dataframe"
            },
            "text/html": [
              "\n",
              "  <div id=\"df-8d5d55e1-a682-480e-ab62-1fd9a5c88bb8\" class=\"colab-df-container\">\n",
              "    <div>\n",
              "<style scoped>\n",
              "    .dataframe tbody tr th:only-of-type {\n",
              "        vertical-align: middle;\n",
              "    }\n",
              "\n",
              "    .dataframe tbody tr th {\n",
              "        vertical-align: top;\n",
              "    }\n",
              "\n",
              "    .dataframe thead th {\n",
              "        text-align: right;\n",
              "    }\n",
              "</style>\n",
              "<table border=\"1\" class=\"dataframe\">\n",
              "  <thead>\n",
              "    <tr style=\"text-align: right;\">\n",
              "      <th></th>\n",
              "      <th>day</th>\n",
              "      <th>month</th>\n",
              "      <th>year</th>\n",
              "      <th>Temperature</th>\n",
              "      <th>RH</th>\n",
              "      <th>Ws</th>\n",
              "      <th>Rain</th>\n",
              "      <th>FFMC</th>\n",
              "      <th>DMC</th>\n",
              "      <th>DC</th>\n",
              "      <th>ISI</th>\n",
              "      <th>BUI</th>\n",
              "      <th>FWI</th>\n",
              "      <th>Classes</th>\n",
              "      <th>Region</th>\n",
              "    </tr>\n",
              "  </thead>\n",
              "  <tbody>\n",
              "    <tr>\n",
              "      <th>122</th>\n",
              "      <td>1</td>\n",
              "      <td>6</td>\n",
              "      <td>2012</td>\n",
              "      <td>32</td>\n",
              "      <td>71</td>\n",
              "      <td>12</td>\n",
              "      <td>0.7</td>\n",
              "      <td>57.1</td>\n",
              "      <td>2.5</td>\n",
              "      <td>8.2</td>\n",
              "      <td>0.6</td>\n",
              "      <td>2.8</td>\n",
              "      <td>0.2</td>\n",
              "      <td>not fire</td>\n",
              "      <td>1</td>\n",
              "    </tr>\n",
              "  </tbody>\n",
              "</table>\n",
              "</div>\n",
              "    <div class=\"colab-df-buttons\">\n",
              "\n",
              "  <div class=\"colab-df-container\">\n",
              "    <button class=\"colab-df-convert\" onclick=\"convertToInteractive('df-8d5d55e1-a682-480e-ab62-1fd9a5c88bb8')\"\n",
              "            title=\"Convert this dataframe to an interactive table.\"\n",
              "            style=\"display:none;\">\n",
              "\n",
              "  <svg xmlns=\"http://www.w3.org/2000/svg\" height=\"24px\" viewBox=\"0 -960 960 960\">\n",
              "    <path d=\"M120-120v-720h720v720H120Zm60-500h600v-160H180v160Zm220 220h160v-160H400v160Zm0 220h160v-160H400v160ZM180-400h160v-160H180v160Zm440 0h160v-160H620v160ZM180-180h160v-160H180v160Zm440 0h160v-160H620v160Z\"/>\n",
              "  </svg>\n",
              "    </button>\n",
              "\n",
              "  <style>\n",
              "    .colab-df-container {\n",
              "      display:flex;\n",
              "      gap: 12px;\n",
              "    }\n",
              "\n",
              "    .colab-df-convert {\n",
              "      background-color: #E8F0FE;\n",
              "      border: none;\n",
              "      border-radius: 50%;\n",
              "      cursor: pointer;\n",
              "      display: none;\n",
              "      fill: #1967D2;\n",
              "      height: 32px;\n",
              "      padding: 0 0 0 0;\n",
              "      width: 32px;\n",
              "    }\n",
              "\n",
              "    .colab-df-convert:hover {\n",
              "      background-color: #E2EBFA;\n",
              "      box-shadow: 0px 1px 2px rgba(60, 64, 67, 0.3), 0px 1px 3px 1px rgba(60, 64, 67, 0.15);\n",
              "      fill: #174EA6;\n",
              "    }\n",
              "\n",
              "    .colab-df-buttons div {\n",
              "      margin-bottom: 4px;\n",
              "    }\n",
              "\n",
              "    [theme=dark] .colab-df-convert {\n",
              "      background-color: #3B4455;\n",
              "      fill: #D2E3FC;\n",
              "    }\n",
              "\n",
              "    [theme=dark] .colab-df-convert:hover {\n",
              "      background-color: #434B5C;\n",
              "      box-shadow: 0px 1px 3px 1px rgba(0, 0, 0, 0.15);\n",
              "      filter: drop-shadow(0px 1px 2px rgba(0, 0, 0, 0.3));\n",
              "      fill: #FFFFFF;\n",
              "    }\n",
              "  </style>\n",
              "\n",
              "    <script>\n",
              "      const buttonEl =\n",
              "        document.querySelector('#df-8d5d55e1-a682-480e-ab62-1fd9a5c88bb8 button.colab-df-convert');\n",
              "      buttonEl.style.display =\n",
              "        google.colab.kernel.accessAllowed ? 'block' : 'none';\n",
              "\n",
              "      async function convertToInteractive(key) {\n",
              "        const element = document.querySelector('#df-8d5d55e1-a682-480e-ab62-1fd9a5c88bb8');\n",
              "        const dataTable =\n",
              "          await google.colab.kernel.invokeFunction('convertToInteractive',\n",
              "                                                    [key], {});\n",
              "        if (!dataTable) return;\n",
              "\n",
              "        const docLinkHtml = 'Like what you see? Visit the ' +\n",
              "          '<a target=\"_blank\" href=https://colab.research.google.com/notebooks/data_table.ipynb>data table notebook</a>'\n",
              "          + ' to learn more about interactive tables.';\n",
              "        element.innerHTML = '';\n",
              "        dataTable['output_type'] = 'display_data';\n",
              "        await google.colab.output.renderOutput(dataTable, element);\n",
              "        const docLink = document.createElement('div');\n",
              "        docLink.innerHTML = docLinkHtml;\n",
              "        element.appendChild(docLink);\n",
              "      }\n",
              "    </script>\n",
              "  </div>\n",
              "\n",
              "\n",
              "    </div>\n",
              "  </div>\n"
            ],
            "text/plain": [
              "     day  month  year  Temperature  RH  Ws  Rain  FFMC  DMC   DC  ISI  BUI  \\\n",
              "122    1      6  2012           32  71  12   0.7  57.1  2.5  8.2  0.6  2.8   \n",
              "\n",
              "     FWI      Classes  Region  \n",
              "122  0.2  not fire          1  "
            ]
          },
          "execution_count": 120,
          "metadata": {},
          "output_type": "execute_result"
        }
      ],
      "source": [
        "# get the information at index 122\n",
        "data.iloc[[122]]"
      ]
    },
    {
      "cell_type": "code",
      "execution_count": 121,
      "metadata": {
        "colab": {
          "base_uri": "https://localhost:8080/"
        },
        "id": "1sNzm83c_S09",
        "outputId": "2fdbc346-537a-4b06-f021-06fa009699b2"
      },
      "outputs": [
        {
          "name": "stdout",
          "output_type": "stream",
          "text": [
            "Index(['day', 'month', 'year', 'Temperature', 'RH', 'Ws', 'Rain', 'FFMC',\n",
            "       'DMC', 'DC', 'ISI', 'BUI', 'FWI', 'Classes', 'Region'],\n",
            "      dtype='object')\n"
          ]
        }
      ],
      "source": [
        "# Get all the columns from the dataset\n",
        "print(data.columns)"
      ]
    },
    {
      "cell_type": "code",
      "execution_count": 122,
      "metadata": {
        "id": "SJqpahE6_c4D"
      },
      "outputs": [],
      "source": [
        "# fixing the spaces in the column names\n",
        "data.columns = data.columns.str.strip()"
      ]
    },
    {
      "cell_type": "code",
      "execution_count": 123,
      "metadata": {
        "colab": {
          "base_uri": "https://localhost:8080/"
        },
        "id": "TzO4XR5d_hvy",
        "outputId": "0e30492f-31ca-4d8a-c9d4-3149efc5e708"
      },
      "outputs": [
        {
          "name": "stdout",
          "output_type": "stream",
          "text": [
            "Index(['day', 'month', 'year', 'Temperature', 'RH', 'Ws', 'Rain', 'FFMC',\n",
            "       'DMC', 'DC', 'ISI', 'BUI', 'FWI', 'Classes', 'Region'],\n",
            "      dtype='object')\n"
          ]
        }
      ],
      "source": [
        "print(data.columns)"
      ]
    },
    {
      "cell_type": "code",
      "execution_count": 124,
      "metadata": {
        "colab": {
          "base_uri": "https://localhost:8080/"
        },
        "id": "6dHuhdzs_vgU",
        "outputId": "6d2c8449-cc35-446d-d6dc-fe6b2d339df2"
      },
      "outputs": [
        {
          "name": "stdout",
          "output_type": "stream",
          "text": [
            "<class 'pandas.core.frame.DataFrame'>\n",
            "RangeIndex: 243 entries, 0 to 242\n",
            "Data columns (total 15 columns):\n",
            " #   Column       Non-Null Count  Dtype  \n",
            "---  ------       --------------  -----  \n",
            " 0   day          243 non-null    int64  \n",
            " 1   month        243 non-null    int64  \n",
            " 2   year         243 non-null    int64  \n",
            " 3   Temperature  243 non-null    int64  \n",
            " 4   RH           243 non-null    int64  \n",
            " 5   Ws           243 non-null    int64  \n",
            " 6   Rain         243 non-null    float64\n",
            " 7   FFMC         243 non-null    float64\n",
            " 8   DMC          243 non-null    float64\n",
            " 9   DC           243 non-null    float64\n",
            " 10  ISI          243 non-null    float64\n",
            " 11  BUI          243 non-null    float64\n",
            " 12  FWI          243 non-null    float64\n",
            " 13  Classes      243 non-null    object \n",
            " 14  Region       243 non-null    int64  \n",
            "dtypes: float64(7), int64(7), object(1)\n",
            "memory usage: 28.6+ KB\n",
            "None\n"
          ]
        }
      ],
      "source": [
        "print(data.info())"
      ]
    },
    {
      "cell_type": "code",
      "execution_count": 125,
      "metadata": {
        "colab": {
          "base_uri": "https://localhost:8080/"
        },
        "id": "gqB-kK3Q_zsl",
        "outputId": "80cbf864-65f3-4d82-c09b-b72e17e90283"
      },
      "outputs": [
        {
          "name": "stdout",
          "output_type": "stream",
          "text": [
            "   day  month  year  Temperature  RH  Ws  Rain  FFMC  DMC    DC  ISI  BUI  \\\n",
            "0    1      6  2012           29  57  18   0.0  65.7  3.4   7.6  1.3  3.4   \n",
            "1    2      6  2012           29  61  13   1.3  64.4  4.1   7.6  1.0  3.9   \n",
            "2    3      6  2012           26  82  22  13.1  47.1  2.5   7.1  0.3  2.7   \n",
            "3    4      6  2012           25  89  13   2.5  28.6  1.3   6.9  0.0  1.7   \n",
            "4    5      6  2012           27  77  16   0.0  64.8  3.0  14.2  1.2  3.9   \n",
            "\n",
            "   FWI      Classes  Region  \n",
            "0  0.5  not fire          0  \n",
            "1  0.4  not fire          0  \n",
            "2  0.1  not fire          0  \n",
            "3  0.0  not fire          0  \n",
            "4  0.5  not fire          0  \n"
          ]
        }
      ],
      "source": [
        "print(data.head())"
      ]
    },
    {
      "cell_type": "code",
      "execution_count": 126,
      "metadata": {
        "id": "C1DuU1Wg_2dF"
      },
      "outputs": [],
      "source": [
        "# drop day, month and year from the dataset\n",
        "\n",
        "df_copy = data.drop((['day','month','year']), axis = 1)"
      ]
    },
    {
      "cell_type": "code",
      "execution_count": 127,
      "metadata": {
        "colab": {
          "base_uri": "https://localhost:8080/",
          "height": 206
        },
        "id": "MRtQqMSOAFzH",
        "outputId": "32966066-6270-4ec2-a8a7-190684ce0334"
      },
      "outputs": [
        {
          "data": {
            "application/vnd.google.colaboratory.intrinsic+json": {
              "summary": "{\n  \"name\": \"df_copy\",\n  \"rows\": 243,\n  \"fields\": [\n    {\n      \"column\": \"Temperature\",\n      \"properties\": {\n        \"dtype\": \"number\",\n        \"std\": 3,\n        \"min\": 22,\n        \"max\": 42,\n        \"num_unique_values\": 19,\n        \"samples\": [\n          29,\n          33,\n          36\n        ],\n        \"semantic_type\": \"\",\n        \"description\": \"\"\n      }\n    },\n    {\n      \"column\": \"RH\",\n      \"properties\": {\n        \"dtype\": \"number\",\n        \"std\": 14,\n        \"min\": 21,\n        \"max\": 90,\n        \"num_unique_values\": 62,\n        \"samples\": [\n          83,\n          31,\n          57\n        ],\n        \"semantic_type\": \"\",\n        \"description\": \"\"\n      }\n    },\n    {\n      \"column\": \"Ws\",\n      \"properties\": {\n        \"dtype\": \"number\",\n        \"std\": 2,\n        \"min\": 6,\n        \"max\": 29,\n        \"num_unique_values\": 18,\n        \"samples\": [\n          18,\n          13,\n          21\n        ],\n        \"semantic_type\": \"\",\n        \"description\": \"\"\n      }\n    },\n    {\n      \"column\": \"Rain\",\n      \"properties\": {\n        \"dtype\": \"number\",\n        \"std\": 2.003206795506829,\n        \"min\": 0.0,\n        \"max\": 16.8,\n        \"num_unique_values\": 39,\n        \"samples\": [\n          6.0,\n          4.1,\n          0.2\n        ],\n        \"semantic_type\": \"\",\n        \"description\": \"\"\n      }\n    },\n    {\n      \"column\": \"FFMC\",\n      \"properties\": {\n        \"dtype\": \"number\",\n        \"std\": 14.349641256730104,\n        \"min\": 28.6,\n        \"max\": 96.0,\n        \"num_unique_values\": 173,\n        \"samples\": [\n          64.5,\n          72.6,\n          87.7\n        ],\n        \"semantic_type\": \"\",\n        \"description\": \"\"\n      }\n    },\n    {\n      \"column\": \"DMC\",\n      \"properties\": {\n        \"dtype\": \"number\",\n        \"std\": 12.393039751223832,\n        \"min\": 0.7,\n        \"max\": 65.9,\n        \"num_unique_values\": 165,\n        \"samples\": [\n          16.9,\n          18.0,\n          23.6\n        ],\n        \"semantic_type\": \"\",\n        \"description\": \"\"\n      }\n    },\n    {\n      \"column\": \"DC\",\n      \"properties\": {\n        \"dtype\": \"number\",\n        \"std\": 47.66560598458993,\n        \"min\": 6.9,\n        \"max\": 220.4,\n        \"num_unique_values\": 197,\n        \"samples\": [\n          90.1,\n          14.7,\n          27.1\n        ],\n        \"semantic_type\": \"\",\n        \"description\": \"\"\n      }\n    },\n    {\n      \"column\": \"ISI\",\n      \"properties\": {\n        \"dtype\": \"number\",\n        \"std\": 4.154233833368701,\n        \"min\": 0.0,\n        \"max\": 19.0,\n        \"num_unique_values\": 106,\n        \"samples\": [\n          13.1,\n          4.8,\n          1.2\n        ],\n        \"semantic_type\": \"\",\n        \"description\": \"\"\n      }\n    },\n    {\n      \"column\": \"BUI\",\n      \"properties\": {\n        \"dtype\": \"number\",\n        \"std\": 14.228421131468963,\n        \"min\": 1.1,\n        \"max\": 68.0,\n        \"num_unique_values\": 173,\n        \"samples\": [\n          4.6,\n          8.3,\n          7.7\n        ],\n        \"semantic_type\": \"\",\n        \"description\": \"\"\n      }\n    },\n    {\n      \"column\": \"FWI\",\n      \"properties\": {\n        \"dtype\": \"number\",\n        \"std\": 7.440567726345277,\n        \"min\": 0.0,\n        \"max\": 31.1,\n        \"num_unique_values\": 125,\n        \"samples\": [\n          15.0,\n          10.7,\n          2.1\n        ],\n        \"semantic_type\": \"\",\n        \"description\": \"\"\n      }\n    },\n    {\n      \"column\": \"Classes\",\n      \"properties\": {\n        \"dtype\": \"category\",\n        \"num_unique_values\": 8,\n        \"samples\": [\n          \"fire   \",\n          \"not fire \",\n          \"not fire   \"\n        ],\n        \"semantic_type\": \"\",\n        \"description\": \"\"\n      }\n    },\n    {\n      \"column\": \"Region\",\n      \"properties\": {\n        \"dtype\": \"number\",\n        \"std\": 0,\n        \"min\": 0,\n        \"max\": 1,\n        \"num_unique_values\": 2,\n        \"samples\": [\n          1,\n          0\n        ],\n        \"semantic_type\": \"\",\n        \"description\": \"\"\n      }\n    }\n  ]\n}",
              "type": "dataframe",
              "variable_name": "df_copy"
            },
            "text/html": [
              "\n",
              "  <div id=\"df-d22c93d3-7e2c-4f1d-bd20-3bbf6dd37e5d\" class=\"colab-df-container\">\n",
              "    <div>\n",
              "<style scoped>\n",
              "    .dataframe tbody tr th:only-of-type {\n",
              "        vertical-align: middle;\n",
              "    }\n",
              "\n",
              "    .dataframe tbody tr th {\n",
              "        vertical-align: top;\n",
              "    }\n",
              "\n",
              "    .dataframe thead th {\n",
              "        text-align: right;\n",
              "    }\n",
              "</style>\n",
              "<table border=\"1\" class=\"dataframe\">\n",
              "  <thead>\n",
              "    <tr style=\"text-align: right;\">\n",
              "      <th></th>\n",
              "      <th>Temperature</th>\n",
              "      <th>RH</th>\n",
              "      <th>Ws</th>\n",
              "      <th>Rain</th>\n",
              "      <th>FFMC</th>\n",
              "      <th>DMC</th>\n",
              "      <th>DC</th>\n",
              "      <th>ISI</th>\n",
              "      <th>BUI</th>\n",
              "      <th>FWI</th>\n",
              "      <th>Classes</th>\n",
              "      <th>Region</th>\n",
              "    </tr>\n",
              "  </thead>\n",
              "  <tbody>\n",
              "    <tr>\n",
              "      <th>0</th>\n",
              "      <td>29</td>\n",
              "      <td>57</td>\n",
              "      <td>18</td>\n",
              "      <td>0.0</td>\n",
              "      <td>65.7</td>\n",
              "      <td>3.4</td>\n",
              "      <td>7.6</td>\n",
              "      <td>1.3</td>\n",
              "      <td>3.4</td>\n",
              "      <td>0.5</td>\n",
              "      <td>not fire</td>\n",
              "      <td>0</td>\n",
              "    </tr>\n",
              "    <tr>\n",
              "      <th>1</th>\n",
              "      <td>29</td>\n",
              "      <td>61</td>\n",
              "      <td>13</td>\n",
              "      <td>1.3</td>\n",
              "      <td>64.4</td>\n",
              "      <td>4.1</td>\n",
              "      <td>7.6</td>\n",
              "      <td>1.0</td>\n",
              "      <td>3.9</td>\n",
              "      <td>0.4</td>\n",
              "      <td>not fire</td>\n",
              "      <td>0</td>\n",
              "    </tr>\n",
              "    <tr>\n",
              "      <th>2</th>\n",
              "      <td>26</td>\n",
              "      <td>82</td>\n",
              "      <td>22</td>\n",
              "      <td>13.1</td>\n",
              "      <td>47.1</td>\n",
              "      <td>2.5</td>\n",
              "      <td>7.1</td>\n",
              "      <td>0.3</td>\n",
              "      <td>2.7</td>\n",
              "      <td>0.1</td>\n",
              "      <td>not fire</td>\n",
              "      <td>0</td>\n",
              "    </tr>\n",
              "    <tr>\n",
              "      <th>3</th>\n",
              "      <td>25</td>\n",
              "      <td>89</td>\n",
              "      <td>13</td>\n",
              "      <td>2.5</td>\n",
              "      <td>28.6</td>\n",
              "      <td>1.3</td>\n",
              "      <td>6.9</td>\n",
              "      <td>0.0</td>\n",
              "      <td>1.7</td>\n",
              "      <td>0.0</td>\n",
              "      <td>not fire</td>\n",
              "      <td>0</td>\n",
              "    </tr>\n",
              "    <tr>\n",
              "      <th>4</th>\n",
              "      <td>27</td>\n",
              "      <td>77</td>\n",
              "      <td>16</td>\n",
              "      <td>0.0</td>\n",
              "      <td>64.8</td>\n",
              "      <td>3.0</td>\n",
              "      <td>14.2</td>\n",
              "      <td>1.2</td>\n",
              "      <td>3.9</td>\n",
              "      <td>0.5</td>\n",
              "      <td>not fire</td>\n",
              "      <td>0</td>\n",
              "    </tr>\n",
              "  </tbody>\n",
              "</table>\n",
              "</div>\n",
              "    <div class=\"colab-df-buttons\">\n",
              "\n",
              "  <div class=\"colab-df-container\">\n",
              "    <button class=\"colab-df-convert\" onclick=\"convertToInteractive('df-d22c93d3-7e2c-4f1d-bd20-3bbf6dd37e5d')\"\n",
              "            title=\"Convert this dataframe to an interactive table.\"\n",
              "            style=\"display:none;\">\n",
              "\n",
              "  <svg xmlns=\"http://www.w3.org/2000/svg\" height=\"24px\" viewBox=\"0 -960 960 960\">\n",
              "    <path d=\"M120-120v-720h720v720H120Zm60-500h600v-160H180v160Zm220 220h160v-160H400v160Zm0 220h160v-160H400v160ZM180-400h160v-160H180v160Zm440 0h160v-160H620v160ZM180-180h160v-160H180v160Zm440 0h160v-160H620v160Z\"/>\n",
              "  </svg>\n",
              "    </button>\n",
              "\n",
              "  <style>\n",
              "    .colab-df-container {\n",
              "      display:flex;\n",
              "      gap: 12px;\n",
              "    }\n",
              "\n",
              "    .colab-df-convert {\n",
              "      background-color: #E8F0FE;\n",
              "      border: none;\n",
              "      border-radius: 50%;\n",
              "      cursor: pointer;\n",
              "      display: none;\n",
              "      fill: #1967D2;\n",
              "      height: 32px;\n",
              "      padding: 0 0 0 0;\n",
              "      width: 32px;\n",
              "    }\n",
              "\n",
              "    .colab-df-convert:hover {\n",
              "      background-color: #E2EBFA;\n",
              "      box-shadow: 0px 1px 2px rgba(60, 64, 67, 0.3), 0px 1px 3px 1px rgba(60, 64, 67, 0.15);\n",
              "      fill: #174EA6;\n",
              "    }\n",
              "\n",
              "    .colab-df-buttons div {\n",
              "      margin-bottom: 4px;\n",
              "    }\n",
              "\n",
              "    [theme=dark] .colab-df-convert {\n",
              "      background-color: #3B4455;\n",
              "      fill: #D2E3FC;\n",
              "    }\n",
              "\n",
              "    [theme=dark] .colab-df-convert:hover {\n",
              "      background-color: #434B5C;\n",
              "      box-shadow: 0px 1px 3px 1px rgba(0, 0, 0, 0.15);\n",
              "      filter: drop-shadow(0px 1px 2px rgba(0, 0, 0, 0.3));\n",
              "      fill: #FFFFFF;\n",
              "    }\n",
              "  </style>\n",
              "\n",
              "    <script>\n",
              "      const buttonEl =\n",
              "        document.querySelector('#df-d22c93d3-7e2c-4f1d-bd20-3bbf6dd37e5d button.colab-df-convert');\n",
              "      buttonEl.style.display =\n",
              "        google.colab.kernel.accessAllowed ? 'block' : 'none';\n",
              "\n",
              "      async function convertToInteractive(key) {\n",
              "        const element = document.querySelector('#df-d22c93d3-7e2c-4f1d-bd20-3bbf6dd37e5d');\n",
              "        const dataTable =\n",
              "          await google.colab.kernel.invokeFunction('convertToInteractive',\n",
              "                                                    [key], {});\n",
              "        if (!dataTable) return;\n",
              "\n",
              "        const docLinkHtml = 'Like what you see? Visit the ' +\n",
              "          '<a target=\"_blank\" href=https://colab.research.google.com/notebooks/data_table.ipynb>data table notebook</a>'\n",
              "          + ' to learn more about interactive tables.';\n",
              "        element.innerHTML = '';\n",
              "        dataTable['output_type'] = 'display_data';\n",
              "        await google.colab.output.renderOutput(dataTable, element);\n",
              "        const docLink = document.createElement('div');\n",
              "        docLink.innerHTML = docLinkHtml;\n",
              "        element.appendChild(docLink);\n",
              "      }\n",
              "    </script>\n",
              "  </div>\n",
              "\n",
              "\n",
              "<div id=\"df-264a7b17-d746-43c6-aa95-c178512fa0e6\">\n",
              "  <button class=\"colab-df-quickchart\" onclick=\"quickchart('df-264a7b17-d746-43c6-aa95-c178512fa0e6')\"\n",
              "            title=\"Suggest charts\"\n",
              "            style=\"display:none;\">\n",
              "\n",
              "<svg xmlns=\"http://www.w3.org/2000/svg\" height=\"24px\"viewBox=\"0 0 24 24\"\n",
              "     width=\"24px\">\n",
              "    <g>\n",
              "        <path d=\"M19 3H5c-1.1 0-2 .9-2 2v14c0 1.1.9 2 2 2h14c1.1 0 2-.9 2-2V5c0-1.1-.9-2-2-2zM9 17H7v-7h2v7zm4 0h-2V7h2v10zm4 0h-2v-4h2v4z\"/>\n",
              "    </g>\n",
              "</svg>\n",
              "  </button>\n",
              "\n",
              "<style>\n",
              "  .colab-df-quickchart {\n",
              "      --bg-color: #E8F0FE;\n",
              "      --fill-color: #1967D2;\n",
              "      --hover-bg-color: #E2EBFA;\n",
              "      --hover-fill-color: #174EA6;\n",
              "      --disabled-fill-color: #AAA;\n",
              "      --disabled-bg-color: #DDD;\n",
              "  }\n",
              "\n",
              "  [theme=dark] .colab-df-quickchart {\n",
              "      --bg-color: #3B4455;\n",
              "      --fill-color: #D2E3FC;\n",
              "      --hover-bg-color: #434B5C;\n",
              "      --hover-fill-color: #FFFFFF;\n",
              "      --disabled-bg-color: #3B4455;\n",
              "      --disabled-fill-color: #666;\n",
              "  }\n",
              "\n",
              "  .colab-df-quickchart {\n",
              "    background-color: var(--bg-color);\n",
              "    border: none;\n",
              "    border-radius: 50%;\n",
              "    cursor: pointer;\n",
              "    display: none;\n",
              "    fill: var(--fill-color);\n",
              "    height: 32px;\n",
              "    padding: 0;\n",
              "    width: 32px;\n",
              "  }\n",
              "\n",
              "  .colab-df-quickchart:hover {\n",
              "    background-color: var(--hover-bg-color);\n",
              "    box-shadow: 0 1px 2px rgba(60, 64, 67, 0.3), 0 1px 3px 1px rgba(60, 64, 67, 0.15);\n",
              "    fill: var(--button-hover-fill-color);\n",
              "  }\n",
              "\n",
              "  .colab-df-quickchart-complete:disabled,\n",
              "  .colab-df-quickchart-complete:disabled:hover {\n",
              "    background-color: var(--disabled-bg-color);\n",
              "    fill: var(--disabled-fill-color);\n",
              "    box-shadow: none;\n",
              "  }\n",
              "\n",
              "  .colab-df-spinner {\n",
              "    border: 2px solid var(--fill-color);\n",
              "    border-color: transparent;\n",
              "    border-bottom-color: var(--fill-color);\n",
              "    animation:\n",
              "      spin 1s steps(1) infinite;\n",
              "  }\n",
              "\n",
              "  @keyframes spin {\n",
              "    0% {\n",
              "      border-color: transparent;\n",
              "      border-bottom-color: var(--fill-color);\n",
              "      border-left-color: var(--fill-color);\n",
              "    }\n",
              "    20% {\n",
              "      border-color: transparent;\n",
              "      border-left-color: var(--fill-color);\n",
              "      border-top-color: var(--fill-color);\n",
              "    }\n",
              "    30% {\n",
              "      border-color: transparent;\n",
              "      border-left-color: var(--fill-color);\n",
              "      border-top-color: var(--fill-color);\n",
              "      border-right-color: var(--fill-color);\n",
              "    }\n",
              "    40% {\n",
              "      border-color: transparent;\n",
              "      border-right-color: var(--fill-color);\n",
              "      border-top-color: var(--fill-color);\n",
              "    }\n",
              "    60% {\n",
              "      border-color: transparent;\n",
              "      border-right-color: var(--fill-color);\n",
              "    }\n",
              "    80% {\n",
              "      border-color: transparent;\n",
              "      border-right-color: var(--fill-color);\n",
              "      border-bottom-color: var(--fill-color);\n",
              "    }\n",
              "    90% {\n",
              "      border-color: transparent;\n",
              "      border-bottom-color: var(--fill-color);\n",
              "    }\n",
              "  }\n",
              "</style>\n",
              "\n",
              "  <script>\n",
              "    async function quickchart(key) {\n",
              "      const quickchartButtonEl =\n",
              "        document.querySelector('#' + key + ' button');\n",
              "      quickchartButtonEl.disabled = true;  // To prevent multiple clicks.\n",
              "      quickchartButtonEl.classList.add('colab-df-spinner');\n",
              "      try {\n",
              "        const charts = await google.colab.kernel.invokeFunction(\n",
              "            'suggestCharts', [key], {});\n",
              "      } catch (error) {\n",
              "        console.error('Error during call to suggestCharts:', error);\n",
              "      }\n",
              "      quickchartButtonEl.classList.remove('colab-df-spinner');\n",
              "      quickchartButtonEl.classList.add('colab-df-quickchart-complete');\n",
              "    }\n",
              "    (() => {\n",
              "      let quickchartButtonEl =\n",
              "        document.querySelector('#df-264a7b17-d746-43c6-aa95-c178512fa0e6 button');\n",
              "      quickchartButtonEl.style.display =\n",
              "        google.colab.kernel.accessAllowed ? 'block' : 'none';\n",
              "    })();\n",
              "  </script>\n",
              "</div>\n",
              "\n",
              "    </div>\n",
              "  </div>\n"
            ],
            "text/plain": [
              "   Temperature  RH  Ws  Rain  FFMC  DMC    DC  ISI  BUI  FWI      Classes  \\\n",
              "0           29  57  18   0.0  65.7  3.4   7.6  1.3  3.4  0.5  not fire      \n",
              "1           29  61  13   1.3  64.4  4.1   7.6  1.0  3.9  0.4  not fire      \n",
              "2           26  82  22  13.1  47.1  2.5   7.1  0.3  2.7  0.1  not fire      \n",
              "3           25  89  13   2.5  28.6  1.3   6.9  0.0  1.7  0.0  not fire      \n",
              "4           27  77  16   0.0  64.8  3.0  14.2  1.2  3.9  0.5  not fire      \n",
              "\n",
              "   Region  \n",
              "0       0  \n",
              "1       0  \n",
              "2       0  \n",
              "3       0  \n",
              "4       0  "
            ]
          },
          "execution_count": 127,
          "metadata": {},
          "output_type": "execute_result"
        }
      ],
      "source": [
        "df_copy.head()"
      ]
    },
    {
      "cell_type": "code",
      "execution_count": 128,
      "metadata": {
        "colab": {
          "base_uri": "https://localhost:8080/"
        },
        "id": "YYklq3_zALDo",
        "outputId": "e3845f23-da09-4ff3-b40b-05a114491622"
      },
      "outputs": [
        {
          "data": {
            "text/plain": [
              "fire             131\n",
              "not fire         101\n",
              "fire               4\n",
              "fire               2\n",
              "not fire           2\n",
              "not fire           1\n",
              "not fire           1\n",
              "not fire           1\n",
              "Name: Classes, dtype: int64"
            ]
          },
          "execution_count": 128,
          "metadata": {},
          "output_type": "execute_result"
        }
      ],
      "source": [
        "# Categories in Classes\n",
        "df_copy['Classes'].value_counts()"
      ]
    },
    {
      "cell_type": "code",
      "execution_count": 129,
      "metadata": {
        "id": "aGHWuiQtAWvK"
      },
      "outputs": [],
      "source": [
        "# Encoding of the Categories in the Classes\n",
        "df_copy['Classes'] = np.where(df_copy['Classes'].str.contains('not fire'),0,1)"
      ]
    },
    {
      "cell_type": "code",
      "execution_count": 130,
      "metadata": {
        "colab": {
          "base_uri": "https://localhost:8080/"
        },
        "id": "vU1HRoWxAqXf",
        "outputId": "e4c9cb5c-2e3f-4f51-d7b2-ac2bb35419a5"
      },
      "outputs": [
        {
          "data": {
            "text/plain": [
              "1    137\n",
              "0    106\n",
              "Name: Classes, dtype: int64"
            ]
          },
          "execution_count": 130,
          "metadata": {},
          "output_type": "execute_result"
        }
      ],
      "source": [
        "df_copy['Classes'].value_counts()"
      ]
    },
    {
      "cell_type": "markdown",
      "metadata": {
        "id": "ZngNLSVcAy54"
      },
      "source": [
        "**OBSERVATIONS:**\n",
        "\n",
        "\n",
        "(i) There are total 137 entities in the fire class and 106 entities in the not fire class of the dataset.\n",
        "\n"
      ]
    },
    {
      "cell_type": "code",
      "execution_count": 131,
      "metadata": {
        "colab": {
          "base_uri": "https://localhost:8080/"
        },
        "id": "7IrLOATJAxyl",
        "outputId": "3c824d73-c477-4291-90cb-22c0caccee3c"
      },
      "outputs": [
        {
          "name": "stdout",
          "output_type": "stream",
          "text": [
            "   Temperature  RH  Ws  Rain  FFMC  DMC    DC  ISI  BUI  FWI  Classes  Region\n",
            "0           29  57  18   0.0  65.7  3.4   7.6  1.3  3.4  0.5        0       0\n",
            "1           29  61  13   1.3  64.4  4.1   7.6  1.0  3.9  0.4        0       0\n",
            "2           26  82  22  13.1  47.1  2.5   7.1  0.3  2.7  0.1        0       0\n",
            "3           25  89  13   2.5  28.6  1.3   6.9  0.0  1.7  0.0        0       0\n",
            "4           27  77  16   0.0  64.8  3.0  14.2  1.2  3.9  0.5        0       0\n"
          ]
        }
      ],
      "source": [
        "# display the first five records of the dataset\n",
        "print(df_copy.head())"
      ]
    },
    {
      "cell_type": "code",
      "execution_count": 132,
      "metadata": {
        "colab": {
          "base_uri": "https://localhost:8080/"
        },
        "id": "lrJRurN6BFbB",
        "outputId": "73630f5d-18bc-4803-9f86-7be0e220665c"
      },
      "outputs": [
        {
          "name": "stdout",
          "output_type": "stream",
          "text": [
            "     Temperature  RH  Ws  Rain  FFMC   DMC    DC  ISI   BUI  FWI  Classes  \\\n",
            "238           30  65  14   0.0  85.4  16.0  44.5  4.5  16.9  6.5        1   \n",
            "239           28  87  15   4.4  41.1   6.5   8.0  0.1   6.2  0.0        0   \n",
            "240           27  87  29   0.5  45.9   3.5   7.9  0.4   3.4  0.2        0   \n",
            "241           24  54  18   0.1  79.7   4.3  15.2  1.7   5.1  0.7        0   \n",
            "242           24  64  15   0.2  67.3   3.8  16.5  1.2   4.8  0.5        0   \n",
            "\n",
            "     Region  \n",
            "238       1  \n",
            "239       1  \n",
            "240       1  \n",
            "241       1  \n",
            "242       1  \n"
          ]
        }
      ],
      "source": [
        "# display the last five records of the dataset\n",
        "print(df_copy.tail())"
      ]
    },
    {
      "cell_type": "code",
      "execution_count": 133,
      "metadata": {
        "colab": {
          "base_uri": "https://localhost:8080/",
          "height": 517
        },
        "id": "hP0SkeRKBJb9",
        "outputId": "0da51301-e961-4fd2-cc3d-1afaa3830ca5"
      },
      "outputs": [
        {
          "name": "stderr",
          "output_type": "stream",
          "text": [
            "<ipython-input-133-1d6467d84698>:2: MatplotlibDeprecationWarning: The seaborn styles shipped by Matplotlib are deprecated since 3.6, as they no longer correspond to the styles shipped by seaborn. However, they will remain available as 'seaborn-v0_8-<style>'. Alternatively, directly use the seaborn API instead.\n",
            "  plt.style.use('seaborn')\n"
          ]
        },
        {
          "data": {
            "image/png": "[encoded data removed]",
            "text/plain": [
              "<Figure size 1800x500 with 12 Axes>"
            ]
          },
          "metadata": {},
          "output_type": "display_data"
        }
      ],
      "source": [
        "# Plot the density plot for all the features\n",
        "plt.style.use('seaborn')\n",
        "df_copy.hist(bins = 50, figsize = (18,5))\n",
        "plt.show()"
      ]
    },
    {
      "cell_type": "code",
      "execution_count": 134,
      "metadata": {
        "id": "YTm2WUdOBk2u"
      },
      "outputs": [],
      "source": [
        "# Percentage of the Pie Class\n",
        "percen = df_copy['Classes'].value_counts(normalize = True)* 100.0"
      ]
    },
    {
      "cell_type": "code",
      "execution_count": 135,
      "metadata": {
        "colab": {
          "base_uri": "https://localhost:8080/"
        },
        "id": "sIG4S7PxBwwB",
        "outputId": "702e401a-a150-455e-be8a-1697ebb7533e"
      },
      "outputs": [
        {
          "name": "stdout",
          "output_type": "stream",
          "text": [
            "1    56.378601\n",
            "0    43.621399\n",
            "Name: Classes, dtype: float64\n"
          ]
        }
      ],
      "source": [
        "print(percen)"
      ]
    },
    {
      "cell_type": "code",
      "execution_count": 136,
      "metadata": {
        "colab": {
          "base_uri": "https://localhost:8080/",
          "height": 442
        },
        "id": "U6A7AyaDB6k3",
        "outputId": "6143a8a0-d78d-4fa3-dd43-667a07471a90"
      },
      "outputs": [
        {
          "data": {
            "image/png": "[encoded data removed]",
            "text/plain": [
              "<Figure size 1000x500 with 1 Axes>"
            ]
          },
          "metadata": {},
          "output_type": "display_data"
        }
      ],
      "source": [
        "# Plotting for the pie chart of classes\n",
        "\n",
        "classlabels = ['not fire', 'fire']\n",
        "\n",
        "plt.figure(figsize = (10,5))\n",
        "\n",
        "plt.pie(percen, labels = classlabels, autopct = '%1.1f%%')\n",
        "\n",
        "plt.title('Pie Chart of Classes')\n",
        "\n",
        "plt.show()"
      ]
    },
    {
      "cell_type": "markdown",
      "metadata": {
        "id": "FFJ8Xb5vChWU"
      },
      "source": [
        "**OBSERVATION:**\n",
        "\n",
        "(i) 56.4% of the Algerian Forest is not covered with Forest Fires.\n",
        "\n",
        "(ii) 43.6% of the Algerian Forest is covered with Forest Fires."
      ]
    },
    {
      "cell_type": "markdown",
      "metadata": {
        "id": "Uk7ZEUXzC9rO"
      },
      "source": [
        "**CORRELATION:**"
      ]
    },
    {
      "cell_type": "code",
      "execution_count": 137,
      "metadata": {
        "colab": {
          "base_uri": "https://localhost:8080/",
          "height": 426
        },
        "id": "9-TESNjHDAkC",
        "outputId": "5bbebabf-aced-4cf4-8ff9-7ba75c8dfdff"
      },
      "outputs": [
        {
          "data": {
            "application/vnd.google.colaboratory.intrinsic+json": {
              "summary": "{\n  \"name\": \"df_copy\",\n  \"rows\": 12,\n  \"fields\": [\n    {\n      \"column\": \"Temperature\",\n      \"properties\": {\n        \"dtype\": \"number\",\n        \"std\": 0.4812177163936937,\n        \"min\": -0.651400338709241,\n        \"max\": 1.0,\n        \"num_unique_values\": 12,\n        \"samples\": [\n          0.5160154869282906,\n          0.566669878116237,\n          1.0\n        ],\n        \"semantic_type\": \"\",\n        \"description\": \"\"\n      }\n    },\n    {\n      \"column\": \"RH\",\n      \"properties\": {\n        \"dtype\": \"number\",\n        \"std\": 0.49903426792773004,\n        \"min\": -0.6866670434377354,\n        \"max\": 1.0,\n        \"num_unique_values\": 12,\n        \"samples\": [\n          -0.4321607413557422,\n          -0.5809567466893123,\n          -0.651400338709241\n        ],\n        \"semantic_type\": \"\",\n        \"description\": \"\"\n      }\n    },\n    {\n      \"column\": \"Ws\",\n      \"properties\": {\n        \"dtype\": \"number\",\n        \"std\": 0.32773569471261177,\n        \"min\": -0.2845098896793372,\n        \"max\": 1.0,\n        \"num_unique_values\": 12,\n        \"samples\": [\n          -0.06996363288941113,\n          0.03236777266168856,\n          -0.2845098896793372\n        ],\n        \"semantic_type\": \"\",\n        \"description\": \"\"\n      }\n    },\n    {\n      \"column\": \"Rain\",\n      \"properties\": {\n        \"dtype\": \"number\",\n        \"std\": 0.4197934153717571,\n        \"min\": -0.5439061882897656,\n        \"max\": 1.0,\n        \"num_unique_values\": 12,\n        \"samples\": [\n          -0.37909716520248304,\n          -0.3244215593312768,\n          -0.3264919235683732\n        ],\n        \"semantic_type\": \"\",\n        \"description\": \"\"\n      }\n    },\n    {\n      \"column\": \"FFMC\",\n      \"properties\": {\n        \"dtype\": \"number\",\n        \"std\": 0.5383605983804439,\n        \"min\": -0.6448734645051493,\n        \"max\": 1.0,\n        \"num_unique_values\": 12,\n        \"samples\": [\n          0.7694922970073381,\n          0.6911319706859315,\n          0.6765681454978703\n        ],\n        \"semantic_type\": \"\",\n        \"description\": \"\"\n      }\n    },\n    {\n      \"column\": \"DMC\",\n      \"properties\": {\n        \"dtype\": \"number\",\n        \"std\": 0.4856713480263609,\n        \"min\": -0.4085191879924509,\n        \"max\": 1.0,\n        \"num_unique_values\": 12,\n        \"samples\": [\n          0.5856577689867186,\n          0.8758641588191531,\n          0.48568692303508737\n        ],\n        \"semantic_type\": \"\",\n        \"description\": \"\"\n      }\n    },\n    {\n      \"column\": \"DC\",\n      \"properties\": {\n        \"dtype\": \"number\",\n        \"std\": 0.45152891625659786,\n        \"min\": -0.29802308080689033,\n        \"max\": 1.0,\n        \"num_unique_values\": 12,\n        \"samples\": [\n          0.5111233336622587,\n          0.7395205557052649,\n          0.3762835324075594\n        ],\n        \"semantic_type\": \"\",\n        \"description\": \"\"\n      }\n    },\n    {\n      \"column\": \"ISI\",\n      \"properties\": {\n        \"dtype\": \"number\",\n        \"std\": 0.5185929014546771,\n        \"min\": -0.6866670434377354,\n        \"max\": 1.0,\n        \"num_unique_values\": 12,\n        \"samples\": [\n          0.7351973881454745,\n          0.9228949343157855,\n          0.6038705585736152\n        ],\n        \"semantic_type\": \"\",\n        \"description\": \"\"\n      }\n    },\n    {\n      \"column\": \"BUI\",\n      \"properties\": {\n        \"dtype\": \"number\",\n        \"std\": 0.4845893992047555,\n        \"min\": -0.35384054752884353,\n        \"max\": 1.0,\n        \"num_unique_values\": 12,\n        \"samples\": [\n          0.5866394889697074,\n          0.8579730958964258,\n          0.4597894732607089\n        ],\n        \"semantic_type\": \"\",\n        \"description\": \"\"\n      }\n    },\n    {\n      \"column\": \"FWI\",\n      \"properties\": {\n        \"dtype\": \"number\",\n        \"std\": 0.5218493068747606,\n        \"min\": -0.5809567466893123,\n        \"max\": 1.0,\n        \"num_unique_values\": 12,\n        \"samples\": [\n          0.7192161486674156,\n          1.0,\n          0.566669878116237\n        ],\n        \"semantic_type\": \"\",\n        \"description\": \"\"\n      }\n    },\n    {\n      \"column\": \"Classes\",\n      \"properties\": {\n        \"dtype\": \"number\",\n        \"std\": 0.4653405558754816,\n        \"min\": -0.4321607413557422,\n        \"max\": 1.0,\n        \"num_unique_values\": 12,\n        \"samples\": [\n          1.0,\n          0.7192161486674156,\n          0.5160154869282906\n        ],\n        \"semantic_type\": \"\",\n        \"description\": \"\"\n      }\n    },\n    {\n      \"column\": \"Region\",\n      \"properties\": {\n        \"dtype\": \"number\",\n        \"std\": 0.3391485998390807,\n        \"min\": -0.40268162228962845,\n        \"max\": 1.0,\n        \"num_unique_values\": 12,\n        \"samples\": [\n          0.16234666254989277,\n          0.19710232928956803,\n          0.2695554562297727\n        ],\n        \"semantic_type\": \"\",\n        \"description\": \"\"\n      }\n    }\n  ]\n}",
              "type": "dataframe"
            },
            "text/html": [
              "\n",
              "  <div id=\"df-296b8621-3d36-454a-a5e7-966c1063ce76\" class=\"colab-df-container\">\n",
              "    <div>\n",
              "<style scoped>\n",
              "    .dataframe tbody tr th:only-of-type {\n",
              "        vertical-align: middle;\n",
              "    }\n",
              "\n",
              "    .dataframe tbody tr th {\n",
              "        vertical-align: top;\n",
              "    }\n",
              "\n",
              "    .dataframe thead th {\n",
              "        text-align: right;\n",
              "    }\n",
              "</style>\n",
              "<table border=\"1\" class=\"dataframe\">\n",
              "  <thead>\n",
              "    <tr style=\"text-align: right;\">\n",
              "      <th></th>\n",
              "      <th>Temperature</th>\n",
              "      <th>RH</th>\n",
              "      <th>Ws</th>\n",
              "      <th>Rain</th>\n",
              "      <th>FFMC</th>\n",
              "      <th>DMC</th>\n",
              "      <th>DC</th>\n",
              "      <th>ISI</th>\n",
              "      <th>BUI</th>\n",
              "      <th>FWI</th>\n",
              "      <th>Classes</th>\n",
              "      <th>Region</th>\n",
              "    </tr>\n",
              "  </thead>\n",
              "  <tbody>\n",
              "    <tr>\n",
              "      <th>Temperature</th>\n",
              "      <td>1.000000</td>\n",
              "      <td>-0.651400</td>\n",
              "      <td>-0.284510</td>\n",
              "      <td>-0.326492</td>\n",
              "      <td>0.676568</td>\n",
              "      <td>0.485687</td>\n",
              "      <td>0.376284</td>\n",
              "      <td>0.603871</td>\n",
              "      <td>0.459789</td>\n",
              "      <td>0.566670</td>\n",
              "      <td>0.516015</td>\n",
              "      <td>0.269555</td>\n",
              "    </tr>\n",
              "    <tr>\n",
              "      <th>RH</th>\n",
              "      <td>-0.651400</td>\n",
              "      <td>1.000000</td>\n",
              "      <td>0.244048</td>\n",
              "      <td>0.222356</td>\n",
              "      <td>-0.644873</td>\n",
              "      <td>-0.408519</td>\n",
              "      <td>-0.226941</td>\n",
              "      <td>-0.686667</td>\n",
              "      <td>-0.353841</td>\n",
              "      <td>-0.580957</td>\n",
              "      <td>-0.432161</td>\n",
              "      <td>-0.402682</td>\n",
              "    </tr>\n",
              "    <tr>\n",
              "      <th>Ws</th>\n",
              "      <td>-0.284510</td>\n",
              "      <td>0.244048</td>\n",
              "      <td>1.000000</td>\n",
              "      <td>0.171506</td>\n",
              "      <td>-0.166548</td>\n",
              "      <td>-0.000721</td>\n",
              "      <td>0.079135</td>\n",
              "      <td>0.008532</td>\n",
              "      <td>0.031438</td>\n",
              "      <td>0.032368</td>\n",
              "      <td>-0.069964</td>\n",
              "      <td>-0.181160</td>\n",
              "    </tr>\n",
              "    <tr>\n",
              "      <th>Rain</th>\n",
              "      <td>-0.326492</td>\n",
              "      <td>0.222356</td>\n",
              "      <td>0.171506</td>\n",
              "      <td>1.000000</td>\n",
              "      <td>-0.543906</td>\n",
              "      <td>-0.288773</td>\n",
              "      <td>-0.298023</td>\n",
              "      <td>-0.347484</td>\n",
              "      <td>-0.299852</td>\n",
              "      <td>-0.324422</td>\n",
              "      <td>-0.379097</td>\n",
              "      <td>-0.040013</td>\n",
              "    </tr>\n",
              "    <tr>\n",
              "      <th>FFMC</th>\n",
              "      <td>0.676568</td>\n",
              "      <td>-0.644873</td>\n",
              "      <td>-0.166548</td>\n",
              "      <td>-0.543906</td>\n",
              "      <td>1.000000</td>\n",
              "      <td>0.603608</td>\n",
              "      <td>0.507397</td>\n",
              "      <td>0.740007</td>\n",
              "      <td>0.592011</td>\n",
              "      <td>0.691132</td>\n",
              "      <td>0.769492</td>\n",
              "      <td>0.222241</td>\n",
              "    </tr>\n",
              "    <tr>\n",
              "      <th>DMC</th>\n",
              "      <td>0.485687</td>\n",
              "      <td>-0.408519</td>\n",
              "      <td>-0.000721</td>\n",
              "      <td>-0.288773</td>\n",
              "      <td>0.603608</td>\n",
              "      <td>1.000000</td>\n",
              "      <td>0.875925</td>\n",
              "      <td>0.680454</td>\n",
              "      <td>0.982248</td>\n",
              "      <td>0.875864</td>\n",
              "      <td>0.585658</td>\n",
              "      <td>0.192089</td>\n",
              "    </tr>\n",
              "    <tr>\n",
              "      <th>DC</th>\n",
              "      <td>0.376284</td>\n",
              "      <td>-0.226941</td>\n",
              "      <td>0.079135</td>\n",
              "      <td>-0.298023</td>\n",
              "      <td>0.507397</td>\n",
              "      <td>0.875925</td>\n",
              "      <td>1.000000</td>\n",
              "      <td>0.508643</td>\n",
              "      <td>0.941988</td>\n",
              "      <td>0.739521</td>\n",
              "      <td>0.511123</td>\n",
              "      <td>-0.078734</td>\n",
              "    </tr>\n",
              "    <tr>\n",
              "      <th>ISI</th>\n",
              "      <td>0.603871</td>\n",
              "      <td>-0.686667</td>\n",
              "      <td>0.008532</td>\n",
              "      <td>-0.347484</td>\n",
              "      <td>0.740007</td>\n",
              "      <td>0.680454</td>\n",
              "      <td>0.508643</td>\n",
              "      <td>1.000000</td>\n",
              "      <td>0.644093</td>\n",
              "      <td>0.922895</td>\n",
              "      <td>0.735197</td>\n",
              "      <td>0.263197</td>\n",
              "    </tr>\n",
              "    <tr>\n",
              "      <th>BUI</th>\n",
              "      <td>0.459789</td>\n",
              "      <td>-0.353841</td>\n",
              "      <td>0.031438</td>\n",
              "      <td>-0.299852</td>\n",
              "      <td>0.592011</td>\n",
              "      <td>0.982248</td>\n",
              "      <td>0.941988</td>\n",
              "      <td>0.644093</td>\n",
              "      <td>1.000000</td>\n",
              "      <td>0.857973</td>\n",
              "      <td>0.586639</td>\n",
              "      <td>0.089408</td>\n",
              "    </tr>\n",
              "    <tr>\n",
              "      <th>FWI</th>\n",
              "      <td>0.566670</td>\n",
              "      <td>-0.580957</td>\n",
              "      <td>0.032368</td>\n",
              "      <td>-0.324422</td>\n",
              "      <td>0.691132</td>\n",
              "      <td>0.875864</td>\n",
              "      <td>0.739521</td>\n",
              "      <td>0.922895</td>\n",
              "      <td>0.857973</td>\n",
              "      <td>1.000000</td>\n",
              "      <td>0.719216</td>\n",
              "      <td>0.197102</td>\n",
              "    </tr>\n",
              "    <tr>\n",
              "      <th>Classes</th>\n",
              "      <td>0.516015</td>\n",
              "      <td>-0.432161</td>\n",
              "      <td>-0.069964</td>\n",
              "      <td>-0.379097</td>\n",
              "      <td>0.769492</td>\n",
              "      <td>0.585658</td>\n",
              "      <td>0.511123</td>\n",
              "      <td>0.735197</td>\n",
              "      <td>0.586639</td>\n",
              "      <td>0.719216</td>\n",
              "      <td>1.000000</td>\n",
              "      <td>0.162347</td>\n",
              "    </tr>\n",
              "    <tr>\n",
              "      <th>Region</th>\n",
              "      <td>0.269555</td>\n",
              "      <td>-0.402682</td>\n",
              "      <td>-0.181160</td>\n",
              "      <td>-0.040013</td>\n",
              "      <td>0.222241</td>\n",
              "      <td>0.192089</td>\n",
              "      <td>-0.078734</td>\n",
              "      <td>0.263197</td>\n",
              "      <td>0.089408</td>\n",
              "      <td>0.197102</td>\n",
              "      <td>0.162347</td>\n",
              "      <td>1.000000</td>\n",
              "    </tr>\n",
              "  </tbody>\n",
              "</table>\n",
              "</div>\n",
              "    <div class=\"colab-df-buttons\">\n",
              "\n",
              "  <div class=\"colab-df-container\">\n",
              "    <button class=\"colab-df-convert\" onclick=\"convertToInteractive('df-296b8621-3d36-454a-a5e7-966c1063ce76')\"\n",
              "            title=\"Convert this dataframe to an interactive table.\"\n",
              "            style=\"display:none;\">\n",
              "\n",
              "  <svg xmlns=\"http://www.w3.org/2000/svg\" height=\"24px\" viewBox=\"0 -960 960 960\">\n",
              "    <path d=\"M120-120v-720h720v720H120Zm60-500h600v-160H180v160Zm220 220h160v-160H400v160Zm0 220h160v-160H400v160ZM180-400h160v-160H180v160Zm440 0h160v-160H620v160ZM180-180h160v-160H180v160Zm440 0h160v-160H620v160Z\"/>\n",
              "  </svg>\n",
              "    </button>\n",
              "\n",
              "  <style>\n",
              "    .colab-df-container {\n",
              "      display:flex;\n",
              "      gap: 12px;\n",
              "    }\n",
              "\n",
              "    .colab-df-convert {\n",
              "      background-color: #E8F0FE;\n",
              "      border: none;\n",
              "      border-radius: 50%;\n",
              "      cursor: pointer;\n",
              "      display: none;\n",
              "      fill: #1967D2;\n",
              "      height: 32px;\n",
              "      padding: 0 0 0 0;\n",
              "      width: 32px;\n",
              "    }\n",
              "\n",
              "    .colab-df-convert:hover {\n",
              "      background-color: #E2EBFA;\n",
              "      box-shadow: 0px 1px 2px rgba(60, 64, 67, 0.3), 0px 1px 3px 1px rgba(60, 64, 67, 0.15);\n",
              "      fill: #174EA6;\n",
              "    }\n",
              "\n",
              "    .colab-df-buttons div {\n",
              "      margin-bottom: 4px;\n",
              "    }\n",
              "\n",
              "    [theme=dark] .colab-df-convert {\n",
              "      background-color: #3B4455;\n",
              "      fill: #D2E3FC;\n",
              "    }\n",
              "\n",
              "    [theme=dark] .colab-df-convert:hover {\n",
              "      background-color: #434B5C;\n",
              "      box-shadow: 0px 1px 3px 1px rgba(0, 0, 0, 0.15);\n",
              "      filter: drop-shadow(0px 1px 2px rgba(0, 0, 0, 0.3));\n",
              "      fill: #FFFFFF;\n",
              "    }\n",
              "  </style>\n",
              "\n",
              "    <script>\n",
              "      const buttonEl =\n",
              "        document.querySelector('#df-296b8621-3d36-454a-a5e7-966c1063ce76 button.colab-df-convert');\n",
              "      buttonEl.style.display =\n",
              "        google.colab.kernel.accessAllowed ? 'block' : 'none';\n",
              "\n",
              "      async function convertToInteractive(key) {\n",
              "        const element = document.querySelector('#df-296b8621-3d36-454a-a5e7-966c1063ce76');\n",
              "        const dataTable =\n",
              "          await google.colab.kernel.invokeFunction('convertToInteractive',\n",
              "                                                    [key], {});\n",
              "        if (!dataTable) return;\n",
              "\n",
              "        const docLinkHtml = 'Like what you see? Visit the ' +\n",
              "          '<a target=\"_blank\" href=https://colab.research.google.com/notebooks/data_table.ipynb>data table notebook</a>'\n",
              "          + ' to learn more about interactive tables.';\n",
              "        element.innerHTML = '';\n",
              "        dataTable['output_type'] = 'display_data';\n",
              "        await google.colab.output.renderOutput(dataTable, element);\n",
              "        const docLink = document.createElement('div');\n",
              "        docLink.innerHTML = docLinkHtml;\n",
              "        element.appendChild(docLink);\n",
              "      }\n",
              "    </script>\n",
              "  </div>\n",
              "\n",
              "\n",
              "<div id=\"df-52a4b3da-ab34-43a5-807d-6db5b74f31ba\">\n",
              "  <button class=\"colab-df-quickchart\" onclick=\"quickchart('df-52a4b3da-ab34-43a5-807d-6db5b74f31ba')\"\n",
              "            title=\"Suggest charts\"\n",
              "            style=\"display:none;\">\n",
              "\n",
              "<svg xmlns=\"http://www.w3.org/2000/svg\" height=\"24px\"viewBox=\"0 0 24 24\"\n",
              "     width=\"24px\">\n",
              "    <g>\n",
              "        <path d=\"M19 3H5c-1.1 0-2 .9-2 2v14c0 1.1.9 2 2 2h14c1.1 0 2-.9 2-2V5c0-1.1-.9-2-2-2zM9 17H7v-7h2v7zm4 0h-2V7h2v10zm4 0h-2v-4h2v4z\"/>\n",
              "    </g>\n",
              "</svg>\n",
              "  </button>\n",
              "\n",
              "<style>\n",
              "  .colab-df-quickchart {\n",
              "      --bg-color: #E8F0FE;\n",
              "      --fill-color: #1967D2;\n",
              "      --hover-bg-color: #E2EBFA;\n",
              "      --hover-fill-color: #174EA6;\n",
              "      --disabled-fill-color: #AAA;\n",
              "      --disabled-bg-color: #DDD;\n",
              "  }\n",
              "\n",
              "  [theme=dark] .colab-df-quickchart {\n",
              "      --bg-color: #3B4455;\n",
              "      --fill-color: #D2E3FC;\n",
              "      --hover-bg-color: #434B5C;\n",
              "      --hover-fill-color: #FFFFFF;\n",
              "      --disabled-bg-color: #3B4455;\n",
              "      --disabled-fill-color: #666;\n",
              "  }\n",
              "\n",
              "  .colab-df-quickchart {\n",
              "    background-color: var(--bg-color);\n",
              "    border: none;\n",
              "    border-radius: 50%;\n",
              "    cursor: pointer;\n",
              "    display: none;\n",
              "    fill: var(--fill-color);\n",
              "    height: 32px;\n",
              "    padding: 0;\n",
              "    width: 32px;\n",
              "  }\n",
              "\n",
              "  .colab-df-quickchart:hover {\n",
              "    background-color: var(--hover-bg-color);\n",
              "    box-shadow: 0 1px 2px rgba(60, 64, 67, 0.3), 0 1px 3px 1px rgba(60, 64, 67, 0.15);\n",
              "    fill: var(--button-hover-fill-color);\n",
              "  }\n",
              "\n",
              "  .colab-df-quickchart-complete:disabled,\n",
              "  .colab-df-quickchart-complete:disabled:hover {\n",
              "    background-color: var(--disabled-bg-color);\n",
              "    fill: var(--disabled-fill-color);\n",
              "    box-shadow: none;\n",
              "  }\n",
              "\n",
              "  .colab-df-spinner {\n",
              "    border: 2px solid var(--fill-color);\n",
              "    border-color: transparent;\n",
              "    border-bottom-color: var(--fill-color);\n",
              "    animation:\n",
              "      spin 1s steps(1) infinite;\n",
              "  }\n",
              "\n",
              "  @keyframes spin {\n",
              "    0% {\n",
              "      border-color: transparent;\n",
              "      border-bottom-color: var(--fill-color);\n",
              "      border-left-color: var(--fill-color);\n",
              "    }\n",
              "    20% {\n",
              "      border-color: transparent;\n",
              "      border-left-color: var(--fill-color);\n",
              "      border-top-color: var(--fill-color);\n",
              "    }\n",
              "    30% {\n",
              "      border-color: transparent;\n",
              "      border-left-color: var(--fill-color);\n",
              "      border-top-color: var(--fill-color);\n",
              "      border-right-color: var(--fill-color);\n",
              "    }\n",
              "    40% {\n",
              "      border-color: transparent;\n",
              "      border-right-color: var(--fill-color);\n",
              "      border-top-color: var(--fill-color);\n",
              "    }\n",
              "    60% {\n",
              "      border-color: transparent;\n",
              "      border-right-color: var(--fill-color);\n",
              "    }\n",
              "    80% {\n",
              "      border-color: transparent;\n",
              "      border-right-color: var(--fill-color);\n",
              "      border-bottom-color: var(--fill-color);\n",
              "    }\n",
              "    90% {\n",
              "      border-color: transparent;\n",
              "      border-bottom-color: var(--fill-color);\n",
              "    }\n",
              "  }\n",
              "</style>\n",
              "\n",
              "  <script>\n",
              "    async function quickchart(key) {\n",
              "      const quickchartButtonEl =\n",
              "        document.querySelector('#' + key + ' button');\n",
              "      quickchartButtonEl.disabled = true;  // To prevent multiple clicks.\n",
              "      quickchartButtonEl.classList.add('colab-df-spinner');\n",
              "      try {\n",
              "        const charts = await google.colab.kernel.invokeFunction(\n",
              "            'suggestCharts', [key], {});\n",
              "      } catch (error) {\n",
              "        console.error('Error during call to suggestCharts:', error);\n",
              "      }\n",
              "      quickchartButtonEl.classList.remove('colab-df-spinner');\n",
              "      quickchartButtonEl.classList.add('colab-df-quickchart-complete');\n",
              "    }\n",
              "    (() => {\n",
              "      let quickchartButtonEl =\n",
              "        document.querySelector('#df-52a4b3da-ab34-43a5-807d-6db5b74f31ba button');\n",
              "      quickchartButtonEl.style.display =\n",
              "        google.colab.kernel.accessAllowed ? 'block' : 'none';\n",
              "    })();\n",
              "  </script>\n",
              "</div>\n",
              "\n",
              "    </div>\n",
              "  </div>\n"
            ],
            "text/plain": [
              "             Temperature        RH        Ws      Rain      FFMC       DMC  \\\n",
              "Temperature     1.000000 -0.651400 -0.284510 -0.326492  0.676568  0.485687   \n",
              "RH             -0.651400  1.000000  0.244048  0.222356 -0.644873 -0.408519   \n",
              "Ws             -0.284510  0.244048  1.000000  0.171506 -0.166548 -0.000721   \n",
              "Rain           -0.326492  0.222356  0.171506  1.000000 -0.543906 -0.288773   \n",
              "FFMC            0.676568 -0.644873 -0.166548 -0.543906  1.000000  0.603608   \n",
              "DMC             0.485687 -0.408519 -0.000721 -0.288773  0.603608  1.000000   \n",
              "DC              0.376284 -0.226941  0.079135 -0.298023  0.507397  0.875925   \n",
              "ISI             0.603871 -0.686667  0.008532 -0.347484  0.740007  0.680454   \n",
              "BUI             0.459789 -0.353841  0.031438 -0.299852  0.592011  0.982248   \n",
              "FWI             0.566670 -0.580957  0.032368 -0.324422  0.691132  0.875864   \n",
              "Classes         0.516015 -0.432161 -0.069964 -0.379097  0.769492  0.585658   \n",
              "Region          0.269555 -0.402682 -0.181160 -0.040013  0.222241  0.192089   \n",
              "\n",
              "                   DC       ISI       BUI       FWI   Classes    Region  \n",
              "Temperature  0.376284  0.603871  0.459789  0.566670  0.516015  0.269555  \n",
              "RH          -0.226941 -0.686667 -0.353841 -0.580957 -0.432161 -0.402682  \n",
              "Ws           0.079135  0.008532  0.031438  0.032368 -0.069964 -0.181160  \n",
              "Rain        -0.298023 -0.347484 -0.299852 -0.324422 -0.379097 -0.040013  \n",
              "FFMC         0.507397  0.740007  0.592011  0.691132  0.769492  0.222241  \n",
              "DMC          0.875925  0.680454  0.982248  0.875864  0.585658  0.192089  \n",
              "DC           1.000000  0.508643  0.941988  0.739521  0.511123 -0.078734  \n",
              "ISI          0.508643  1.000000  0.644093  0.922895  0.735197  0.263197  \n",
              "BUI          0.941988  0.644093  1.000000  0.857973  0.586639  0.089408  \n",
              "FWI          0.739521  0.922895  0.857973  1.000000  0.719216  0.197102  \n",
              "Classes      0.511123  0.735197  0.586639  0.719216  1.000000  0.162347  \n",
              "Region      -0.078734  0.263197  0.089408  0.197102  0.162347  1.000000  "
            ]
          },
          "execution_count": 137,
          "metadata": {},
          "output_type": "execute_result"
        }
      ],
      "source": [
        "df_copy.corr()"
      ]
    },
    {
      "cell_type": "code",
      "execution_count": 138,
      "metadata": {
        "colab": {
          "base_uri": "https://localhost:8080/",
          "height": 571
        },
        "id": "vD-xxrcFDGEI",
        "outputId": "4cee2e29-4fb7-4503-d64c-70bf9da7e9ae"
      },
      "outputs": [
        {
          "data": {
            "text/plain": [
              "<Axes: >"
            ]
          },
          "execution_count": 138,
          "metadata": {},
          "output_type": "execute_result"
        },
        {
          "data": {
            "image/png": "[encoded data removed]",
            "text/plain": [
              "<Figure size 800x550 with 2 Axes>"
            ]
          },
          "metadata": {},
          "output_type": "display_data"
        }
      ],
      "source": [
        "# plot a heatmap for the above correlation data\n",
        "sns.heatmap(df_copy.corr(), annot = True)"
      ]
    },
    {
      "cell_type": "markdown",
      "metadata": {
        "id": "UvasEl0IDPOW"
      },
      "source": [
        "**OBSERVATION:**\n",
        "\n",
        "(i) Here the above graph depicts the numerical relationship between every feature with another feature in the form of heatmap."
      ]
    },
    {
      "cell_type": "code",
      "execution_count": 139,
      "metadata": {
        "colab": {
          "base_uri": "https://localhost:8080/",
          "height": 477
        },
        "id": "41wQCigKDSHR",
        "outputId": "6a4e1d18-4155-47e2-f9a9-f30e049961d5"
      },
      "outputs": [
        {
          "data": {
            "text/plain": [
              "<Axes: ylabel='FWI'>"
            ]
          },
          "execution_count": 139,
          "metadata": {},
          "output_type": "execute_result"
        },
        {
          "data": {
            "image/png": "[encoded data removed]",
            "text/plain": [
              "<Figure size 800x550 with 1 Axes>"
            ]
          },
          "metadata": {},
          "output_type": "display_data"
        }
      ],
      "source": [
        "# perform the boxplot for FWI attribute of the dataset\n",
        "\n",
        "sns.boxplot(df_copy['FWI'], color = 'red')"
      ]
    },
    {
      "cell_type": "markdown",
      "metadata": {
        "id": "c1muhkGuDrAG"
      },
      "source": [
        "**OBSERVATIONS:**\n",
        "\n",
        "There are some outlier values for FWI(Fire Weather Index) attribute of the given dataset."
      ]
    },
    {
      "cell_type": "code",
      "execution_count": 140,
      "metadata": {
        "colab": {
          "base_uri": "https://localhost:8080/",
          "height": 206
        },
        "id": "DD3daDllDt4G",
        "outputId": "7634c236-97f7-40b5-c2bb-69ad23d395bb"
      },
      "outputs": [
        {
          "data": {
            "application/vnd.google.colaboratory.intrinsic+json": {
              "summary": "{\n  \"name\": \"df_copy\",\n  \"rows\": 243,\n  \"fields\": [\n    {\n      \"column\": \"Temperature\",\n      \"properties\": {\n        \"dtype\": \"number\",\n        \"std\": 3,\n        \"min\": 22,\n        \"max\": 42,\n        \"num_unique_values\": 19,\n        \"samples\": [\n          29,\n          33,\n          36\n        ],\n        \"semantic_type\": \"\",\n        \"description\": \"\"\n      }\n    },\n    {\n      \"column\": \"RH\",\n      \"properties\": {\n        \"dtype\": \"number\",\n        \"std\": 14,\n        \"min\": 21,\n        \"max\": 90,\n        \"num_unique_values\": 62,\n        \"samples\": [\n          83,\n          31,\n          57\n        ],\n        \"semantic_type\": \"\",\n        \"description\": \"\"\n      }\n    },\n    {\n      \"column\": \"Ws\",\n      \"properties\": {\n        \"dtype\": \"number\",\n        \"std\": 2,\n        \"min\": 6,\n        \"max\": 29,\n        \"num_unique_values\": 18,\n        \"samples\": [\n          18,\n          13,\n          21\n        ],\n        \"semantic_type\": \"\",\n        \"description\": \"\"\n      }\n    },\n    {\n      \"column\": \"Rain\",\n      \"properties\": {\n        \"dtype\": \"number\",\n        \"std\": 2.003206795506829,\n        \"min\": 0.0,\n        \"max\": 16.8,\n        \"num_unique_values\": 39,\n        \"samples\": [\n          6.0,\n          4.1,\n          0.2\n        ],\n        \"semantic_type\": \"\",\n        \"description\": \"\"\n      }\n    },\n    {\n      \"column\": \"FFMC\",\n      \"properties\": {\n        \"dtype\": \"number\",\n        \"std\": 14.349641256730104,\n        \"min\": 28.6,\n        \"max\": 96.0,\n        \"num_unique_values\": 173,\n        \"samples\": [\n          64.5,\n          72.6,\n          87.7\n        ],\n        \"semantic_type\": \"\",\n        \"description\": \"\"\n      }\n    },\n    {\n      \"column\": \"DMC\",\n      \"properties\": {\n        \"dtype\": \"number\",\n        \"std\": 12.393039751223832,\n        \"min\": 0.7,\n        \"max\": 65.9,\n        \"num_unique_values\": 165,\n        \"samples\": [\n          16.9,\n          18.0,\n          23.6\n        ],\n        \"semantic_type\": \"\",\n        \"description\": \"\"\n      }\n    },\n    {\n      \"column\": \"DC\",\n      \"properties\": {\n        \"dtype\": \"number\",\n        \"std\": 47.66560598458993,\n        \"min\": 6.9,\n        \"max\": 220.4,\n        \"num_unique_values\": 197,\n        \"samples\": [\n          90.1,\n          14.7,\n          27.1\n        ],\n        \"semantic_type\": \"\",\n        \"description\": \"\"\n      }\n    },\n    {\n      \"column\": \"ISI\",\n      \"properties\": {\n        \"dtype\": \"number\",\n        \"std\": 4.154233833368701,\n        \"min\": 0.0,\n        \"max\": 19.0,\n        \"num_unique_values\": 106,\n        \"samples\": [\n          13.1,\n          4.8,\n          1.2\n        ],\n        \"semantic_type\": \"\",\n        \"description\": \"\"\n      }\n    },\n    {\n      \"column\": \"BUI\",\n      \"properties\": {\n        \"dtype\": \"number\",\n        \"std\": 14.228421131468963,\n        \"min\": 1.1,\n        \"max\": 68.0,\n        \"num_unique_values\": 173,\n        \"samples\": [\n          4.6,\n          8.3,\n          7.7\n        ],\n        \"semantic_type\": \"\",\n        \"description\": \"\"\n      }\n    },\n    {\n      \"column\": \"FWI\",\n      \"properties\": {\n        \"dtype\": \"number\",\n        \"std\": 7.440567726345277,\n        \"min\": 0.0,\n        \"max\": 31.1,\n        \"num_unique_values\": 125,\n        \"samples\": [\n          15.0,\n          10.7,\n          2.1\n        ],\n        \"semantic_type\": \"\",\n        \"description\": \"\"\n      }\n    },\n    {\n      \"column\": \"Classes\",\n      \"properties\": {\n        \"dtype\": \"number\",\n        \"std\": 0,\n        \"min\": 0,\n        \"max\": 1,\n        \"num_unique_values\": 2,\n        \"samples\": [\n          1,\n          0\n        ],\n        \"semantic_type\": \"\",\n        \"description\": \"\"\n      }\n    },\n    {\n      \"column\": \"Region\",\n      \"properties\": {\n        \"dtype\": \"number\",\n        \"std\": 0,\n        \"min\": 0,\n        \"max\": 1,\n        \"num_unique_values\": 2,\n        \"samples\": [\n          1,\n          0\n        ],\n        \"semantic_type\": \"\",\n        \"description\": \"\"\n      }\n    }\n  ]\n}",
              "type": "dataframe",
              "variable_name": "df_copy"
            },
            "text/html": [
              "\n",
              "  <div id=\"df-1411a659-9532-4fd1-9468-c0d5a5313725\" class=\"colab-df-container\">\n",
              "    <div>\n",
              "<style scoped>\n",
              "    .dataframe tbody tr th:only-of-type {\n",
              "        vertical-align: middle;\n",
              "    }\n",
              "\n",
              "    .dataframe tbody tr th {\n",
              "        vertical-align: top;\n",
              "    }\n",
              "\n",
              "    .dataframe thead th {\n",
              "        text-align: right;\n",
              "    }\n",
              "</style>\n",
              "<table border=\"1\" class=\"dataframe\">\n",
              "  <thead>\n",
              "    <tr style=\"text-align: right;\">\n",
              "      <th></th>\n",
              "      <th>Temperature</th>\n",
              "      <th>RH</th>\n",
              "      <th>Ws</th>\n",
              "      <th>Rain</th>\n",
              "      <th>FFMC</th>\n",
              "      <th>DMC</th>\n",
              "      <th>DC</th>\n",
              "      <th>ISI</th>\n",
              "      <th>BUI</th>\n",
              "      <th>FWI</th>\n",
              "      <th>Classes</th>\n",
              "      <th>Region</th>\n",
              "    </tr>\n",
              "  </thead>\n",
              "  <tbody>\n",
              "    <tr>\n",
              "      <th>0</th>\n",
              "      <td>29</td>\n",
              "      <td>57</td>\n",
              "      <td>18</td>\n",
              "      <td>0.0</td>\n",
              "      <td>65.7</td>\n",
              "      <td>3.4</td>\n",
              "      <td>7.6</td>\n",
              "      <td>1.3</td>\n",
              "      <td>3.4</td>\n",
              "      <td>0.5</td>\n",
              "      <td>0</td>\n",
              "      <td>0</td>\n",
              "    </tr>\n",
              "    <tr>\n",
              "      <th>1</th>\n",
              "      <td>29</td>\n",
              "      <td>61</td>\n",
              "      <td>13</td>\n",
              "      <td>1.3</td>\n",
              "      <td>64.4</td>\n",
              "      <td>4.1</td>\n",
              "      <td>7.6</td>\n",
              "      <td>1.0</td>\n",
              "      <td>3.9</td>\n",
              "      <td>0.4</td>\n",
              "      <td>0</td>\n",
              "      <td>0</td>\n",
              "    </tr>\n",
              "    <tr>\n",
              "      <th>2</th>\n",
              "      <td>26</td>\n",
              "      <td>82</td>\n",
              "      <td>22</td>\n",
              "      <td>13.1</td>\n",
              "      <td>47.1</td>\n",
              "      <td>2.5</td>\n",
              "      <td>7.1</td>\n",
              "      <td>0.3</td>\n",
              "      <td>2.7</td>\n",
              "      <td>0.1</td>\n",
              "      <td>0</td>\n",
              "      <td>0</td>\n",
              "    </tr>\n",
              "    <tr>\n",
              "      <th>3</th>\n",
              "      <td>25</td>\n",
              "      <td>89</td>\n",
              "      <td>13</td>\n",
              "      <td>2.5</td>\n",
              "      <td>28.6</td>\n",
              "      <td>1.3</td>\n",
              "      <td>6.9</td>\n",
              "      <td>0.0</td>\n",
              "      <td>1.7</td>\n",
              "      <td>0.0</td>\n",
              "      <td>0</td>\n",
              "      <td>0</td>\n",
              "    </tr>\n",
              "    <tr>\n",
              "      <th>4</th>\n",
              "      <td>27</td>\n",
              "      <td>77</td>\n",
              "      <td>16</td>\n",
              "      <td>0.0</td>\n",
              "      <td>64.8</td>\n",
              "      <td>3.0</td>\n",
              "      <td>14.2</td>\n",
              "      <td>1.2</td>\n",
              "      <td>3.9</td>\n",
              "      <td>0.5</td>\n",
              "      <td>0</td>\n",
              "      <td>0</td>\n",
              "    </tr>\n",
              "  </tbody>\n",
              "</table>\n",
              "</div>\n",
              "    <div class=\"colab-df-buttons\">\n",
              "\n",
              "  <div class=\"colab-df-container\">\n",
              "    <button class=\"colab-df-convert\" onclick=\"convertToInteractive('df-1411a659-9532-4fd1-9468-c0d5a5313725')\"\n",
              "            title=\"Convert this dataframe to an interactive table.\"\n",
              "            style=\"display:none;\">\n",
              "\n",
              "  <svg xmlns=\"http://www.w3.org/2000/svg\" height=\"24px\" viewBox=\"0 -960 960 960\">\n",
              "    <path d=\"M120-120v-720h720v720H120Zm60-500h600v-160H180v160Zm220 220h160v-160H400v160Zm0 220h160v-160H400v160ZM180-400h160v-160H180v160Zm440 0h160v-160H620v160ZM180-180h160v-160H180v160Zm440 0h160v-160H620v160Z\"/>\n",
              "  </svg>\n",
              "    </button>\n",
              "\n",
              "  <style>\n",
              "    .colab-df-container {\n",
              "      display:flex;\n",
              "      gap: 12px;\n",
              "    }\n",
              "\n",
              "    .colab-df-convert {\n",
              "      background-color: #E8F0FE;\n",
              "      border: none;\n",
              "      border-radius: 50%;\n",
              "      cursor: pointer;\n",
              "      display: none;\n",
              "      fill: #1967D2;\n",
              "      height: 32px;\n",
              "      padding: 0 0 0 0;\n",
              "      width: 32px;\n",
              "    }\n",
              "\n",
              "    .colab-df-convert:hover {\n",
              "      background-color: #E2EBFA;\n",
              "      box-shadow: 0px 1px 2px rgba(60, 64, 67, 0.3), 0px 1px 3px 1px rgba(60, 64, 67, 0.15);\n",
              "      fill: #174EA6;\n",
              "    }\n",
              "\n",
              "    .colab-df-buttons div {\n",
              "      margin-bottom: 4px;\n",
              "    }\n",
              "\n",
              "    [theme=dark] .colab-df-convert {\n",
              "      background-color: #3B4455;\n",
              "      fill: #D2E3FC;\n",
              "    }\n",
              "\n",
              "    [theme=dark] .colab-df-convert:hover {\n",
              "      background-color: #434B5C;\n",
              "      box-shadow: 0px 1px 3px 1px rgba(0, 0, 0, 0.15);\n",
              "      filter: drop-shadow(0px 1px 2px rgba(0, 0, 0, 0.3));\n",
              "      fill: #FFFFFF;\n",
              "    }\n",
              "  </style>\n",
              "\n",
              "    <script>\n",
              "      const buttonEl =\n",
              "        document.querySelector('#df-1411a659-9532-4fd1-9468-c0d5a5313725 button.colab-df-convert');\n",
              "      buttonEl.style.display =\n",
              "        google.colab.kernel.accessAllowed ? 'block' : 'none';\n",
              "\n",
              "      async function convertToInteractive(key) {\n",
              "        const element = document.querySelector('#df-1411a659-9532-4fd1-9468-c0d5a5313725');\n",
              "        const dataTable =\n",
              "          await google.colab.kernel.invokeFunction('convertToInteractive',\n",
              "                                                    [key], {});\n",
              "        if (!dataTable) return;\n",
              "\n",
              "        const docLinkHtml = 'Like what you see? Visit the ' +\n",
              "          '<a target=\"_blank\" href=https://colab.research.google.com/notebooks/data_table.ipynb>data table notebook</a>'\n",
              "          + ' to learn more about interactive tables.';\n",
              "        element.innerHTML = '';\n",
              "        dataTable['output_type'] = 'display_data';\n",
              "        await google.colab.output.renderOutput(dataTable, element);\n",
              "        const docLink = document.createElement('div');\n",
              "        docLink.innerHTML = docLinkHtml;\n",
              "        element.appendChild(docLink);\n",
              "      }\n",
              "    </script>\n",
              "  </div>\n",
              "\n",
              "\n",
              "<div id=\"df-3f87a1ba-cf1c-443c-bde8-642dd870a51c\">\n",
              "  <button class=\"colab-df-quickchart\" onclick=\"quickchart('df-3f87a1ba-cf1c-443c-bde8-642dd870a51c')\"\n",
              "            title=\"Suggest charts\"\n",
              "            style=\"display:none;\">\n",
              "\n",
              "<svg xmlns=\"http://www.w3.org/2000/svg\" height=\"24px\"viewBox=\"0 0 24 24\"\n",
              "     width=\"24px\">\n",
              "    <g>\n",
              "        <path d=\"M19 3H5c-1.1 0-2 .9-2 2v14c0 1.1.9 2 2 2h14c1.1 0 2-.9 2-2V5c0-1.1-.9-2-2-2zM9 17H7v-7h2v7zm4 0h-2V7h2v10zm4 0h-2v-4h2v4z\"/>\n",
              "    </g>\n",
              "</svg>\n",
              "  </button>\n",
              "\n",
              "<style>\n",
              "  .colab-df-quickchart {\n",
              "      --bg-color: #E8F0FE;\n",
              "      --fill-color: #1967D2;\n",
              "      --hover-bg-color: #E2EBFA;\n",
              "      --hover-fill-color: #174EA6;\n",
              "      --disabled-fill-color: #AAA;\n",
              "      --disabled-bg-color: #DDD;\n",
              "  }\n",
              "\n",
              "  [theme=dark] .colab-df-quickchart {\n",
              "      --bg-color: #3B4455;\n",
              "      --fill-color: #D2E3FC;\n",
              "      --hover-bg-color: #434B5C;\n",
              "      --hover-fill-color: #FFFFFF;\n",
              "      --disabled-bg-color: #3B4455;\n",
              "      --disabled-fill-color: #666;\n",
              "  }\n",
              "\n",
              "  .colab-df-quickchart {\n",
              "    background-color: var(--bg-color);\n",
              "    border: none;\n",
              "    border-radius: 50%;\n",
              "    cursor: pointer;\n",
              "    display: none;\n",
              "    fill: var(--fill-color);\n",
              "    height: 32px;\n",
              "    padding: 0;\n",
              "    width: 32px;\n",
              "  }\n",
              "\n",
              "  .colab-df-quickchart:hover {\n",
              "    background-color: var(--hover-bg-color);\n",
              "    box-shadow: 0 1px 2px rgba(60, 64, 67, 0.3), 0 1px 3px 1px rgba(60, 64, 67, 0.15);\n",
              "    fill: var(--button-hover-fill-color);\n",
              "  }\n",
              "\n",
              "  .colab-df-quickchart-complete:disabled,\n",
              "  .colab-df-quickchart-complete:disabled:hover {\n",
              "    background-color: var(--disabled-bg-color);\n",
              "    fill: var(--disabled-fill-color);\n",
              "    box-shadow: none;\n",
              "  }\n",
              "\n",
              "  .colab-df-spinner {\n",
              "    border: 2px solid var(--fill-color);\n",
              "    border-color: transparent;\n",
              "    border-bottom-color: var(--fill-color);\n",
              "    animation:\n",
              "      spin 1s steps(1) infinite;\n",
              "  }\n",
              "\n",
              "  @keyframes spin {\n",
              "    0% {\n",
              "      border-color: transparent;\n",
              "      border-bottom-color: var(--fill-color);\n",
              "      border-left-color: var(--fill-color);\n",
              "    }\n",
              "    20% {\n",
              "      border-color: transparent;\n",
              "      border-left-color: var(--fill-color);\n",
              "      border-top-color: var(--fill-color);\n",
              "    }\n",
              "    30% {\n",
              "      border-color: transparent;\n",
              "      border-left-color: var(--fill-color);\n",
              "      border-top-color: var(--fill-color);\n",
              "      border-right-color: var(--fill-color);\n",
              "    }\n",
              "    40% {\n",
              "      border-color: transparent;\n",
              "      border-right-color: var(--fill-color);\n",
              "      border-top-color: var(--fill-color);\n",
              "    }\n",
              "    60% {\n",
              "      border-color: transparent;\n",
              "      border-right-color: var(--fill-color);\n",
              "    }\n",
              "    80% {\n",
              "      border-color: transparent;\n",
              "      border-right-color: var(--fill-color);\n",
              "      border-bottom-color: var(--fill-color);\n",
              "    }\n",
              "    90% {\n",
              "      border-color: transparent;\n",
              "      border-bottom-color: var(--fill-color);\n",
              "    }\n",
              "  }\n",
              "</style>\n",
              "\n",
              "  <script>\n",
              "    async function quickchart(key) {\n",
              "      const quickchartButtonEl =\n",
              "        document.querySelector('#' + key + ' button');\n",
              "      quickchartButtonEl.disabled = true;  // To prevent multiple clicks.\n",
              "      quickchartButtonEl.classList.add('colab-df-spinner');\n",
              "      try {\n",
              "        const charts = await google.colab.kernel.invokeFunction(\n",
              "            'suggestCharts', [key], {});\n",
              "      } catch (error) {\n",
              "        console.error('Error during call to suggestCharts:', error);\n",
              "      }\n",
              "      quickchartButtonEl.classList.remove('colab-df-spinner');\n",
              "      quickchartButtonEl.classList.add('colab-df-quickchart-complete');\n",
              "    }\n",
              "    (() => {\n",
              "      let quickchartButtonEl =\n",
              "        document.querySelector('#df-3f87a1ba-cf1c-443c-bde8-642dd870a51c button');\n",
              "      quickchartButtonEl.style.display =\n",
              "        google.colab.kernel.accessAllowed ? 'block' : 'none';\n",
              "    })();\n",
              "  </script>\n",
              "</div>\n",
              "\n",
              "    </div>\n",
              "  </div>\n"
            ],
            "text/plain": [
              "   Temperature  RH  Ws  Rain  FFMC  DMC    DC  ISI  BUI  FWI  Classes  Region\n",
              "0           29  57  18   0.0  65.7  3.4   7.6  1.3  3.4  0.5        0       0\n",
              "1           29  61  13   1.3  64.4  4.1   7.6  1.0  3.9  0.4        0       0\n",
              "2           26  82  22  13.1  47.1  2.5   7.1  0.3  2.7  0.1        0       0\n",
              "3           25  89  13   2.5  28.6  1.3   6.9  0.0  1.7  0.0        0       0\n",
              "4           27  77  16   0.0  64.8  3.0  14.2  1.2  3.9  0.5        0       0"
            ]
          },
          "execution_count": 140,
          "metadata": {},
          "output_type": "execute_result"
        }
      ],
      "source": [
        "df_copy.head()"
      ]
    },
    {
      "cell_type": "code",
      "execution_count": 141,
      "metadata": {
        "id": "uRXZLjU7DwAz"
      },
      "outputs": [],
      "source": [
        "data['Classes'] = np.where(data['Classes'].str.contains('not fire'),0,1)"
      ]
    },
    {
      "cell_type": "code",
      "execution_count": 142,
      "metadata": {
        "colab": {
          "base_uri": "https://localhost:8080/"
        },
        "id": "qPxOAtCUD7Jn",
        "outputId": "bf045f71-4db3-41d0-8af4-66ea0637b035"
      },
      "outputs": [
        {
          "data": {
            "text/plain": [
              "1    137\n",
              "0    106\n",
              "Name: Classes, dtype: int64"
            ]
          },
          "execution_count": 142,
          "metadata": {},
          "output_type": "execute_result"
        }
      ],
      "source": [
        "data['Classes'].value_counts()"
      ]
    },
    {
      "cell_type": "code",
      "execution_count": 143,
      "metadata": {
        "colab": {
          "base_uri": "https://localhost:8080/",
          "height": 112
        },
        "id": "2jrPocfuE7oT",
        "outputId": "688b3b53-6b1a-493d-e4cc-6580956bf6b0"
      },
      "outputs": [
        {
          "data": {
            "application/vnd.google.colaboratory.intrinsic+json": {
              "summary": "{\n  \"name\": \"data\",\n  \"rows\": 243,\n  \"fields\": [\n    {\n      \"column\": \"day\",\n      \"properties\": {\n        \"dtype\": \"number\",\n        \"std\": 8,\n        \"min\": 1,\n        \"max\": 31,\n        \"num_unique_values\": 31,\n        \"samples\": [\n          28,\n          16,\n          24\n        ],\n        \"semantic_type\": \"\",\n        \"description\": \"\"\n      }\n    },\n    {\n      \"column\": \"month\",\n      \"properties\": {\n        \"dtype\": \"number\",\n        \"std\": 1,\n        \"min\": 6,\n        \"max\": 9,\n        \"num_unique_values\": 4,\n        \"samples\": [\n          7,\n          9,\n          6\n        ],\n        \"semantic_type\": \"\",\n        \"description\": \"\"\n      }\n    },\n    {\n      \"column\": \"year\",\n      \"properties\": {\n        \"dtype\": \"number\",\n        \"std\": 0,\n        \"min\": 2012,\n        \"max\": 2012,\n        \"num_unique_values\": 1,\n        \"samples\": [\n          2012\n        ],\n        \"semantic_type\": \"\",\n        \"description\": \"\"\n      }\n    },\n    {\n      \"column\": \"Temperature\",\n      \"properties\": {\n        \"dtype\": \"number\",\n        \"std\": 3,\n        \"min\": 22,\n        \"max\": 42,\n        \"num_unique_values\": 19,\n        \"samples\": [\n          29\n        ],\n        \"semantic_type\": \"\",\n        \"description\": \"\"\n      }\n    },\n    {\n      \"column\": \"RH\",\n      \"properties\": {\n        \"dtype\": \"number\",\n        \"std\": 14,\n        \"min\": 21,\n        \"max\": 90,\n        \"num_unique_values\": 62,\n        \"samples\": [\n          83\n        ],\n        \"semantic_type\": \"\",\n        \"description\": \"\"\n      }\n    },\n    {\n      \"column\": \"Ws\",\n      \"properties\": {\n        \"dtype\": \"number\",\n        \"std\": 2,\n        \"min\": 6,\n        \"max\": 29,\n        \"num_unique_values\": 18,\n        \"samples\": [\n          18\n        ],\n        \"semantic_type\": \"\",\n        \"description\": \"\"\n      }\n    },\n    {\n      \"column\": \"Rain\",\n      \"properties\": {\n        \"dtype\": \"number\",\n        \"std\": 2.003206795506829,\n        \"min\": 0.0,\n        \"max\": 16.8,\n        \"num_unique_values\": 39,\n        \"samples\": [\n          6.0\n        ],\n        \"semantic_type\": \"\",\n        \"description\": \"\"\n      }\n    },\n    {\n      \"column\": \"FFMC\",\n      \"properties\": {\n        \"dtype\": \"number\",\n        \"std\": 14.349641256730104,\n        \"min\": 28.6,\n        \"max\": 96.0,\n        \"num_unique_values\": 173,\n        \"samples\": [\n          64.5\n        ],\n        \"semantic_type\": \"\",\n        \"description\": \"\"\n      }\n    },\n    {\n      \"column\": \"DMC\",\n      \"properties\": {\n        \"dtype\": \"number\",\n        \"std\": 12.393039751223832,\n        \"min\": 0.7,\n        \"max\": 65.9,\n        \"num_unique_values\": 165,\n        \"samples\": [\n          16.9\n        ],\n        \"semantic_type\": \"\",\n        \"description\": \"\"\n      }\n    },\n    {\n      \"column\": \"DC\",\n      \"properties\": {\n        \"dtype\": \"number\",\n        \"std\": 47.66560598458993,\n        \"min\": 6.9,\n        \"max\": 220.4,\n        \"num_unique_values\": 197,\n        \"samples\": [\n          90.1\n        ],\n        \"semantic_type\": \"\",\n        \"description\": \"\"\n      }\n    },\n    {\n      \"column\": \"ISI\",\n      \"properties\": {\n        \"dtype\": \"number\",\n        \"std\": 4.154233833368701,\n        \"min\": 0.0,\n        \"max\": 19.0,\n        \"num_unique_values\": 106,\n        \"samples\": [\n          13.1\n        ],\n        \"semantic_type\": \"\",\n        \"description\": \"\"\n      }\n    },\n    {\n      \"column\": \"BUI\",\n      \"properties\": {\n        \"dtype\": \"number\",\n        \"std\": 14.228421131468963,\n        \"min\": 1.1,\n        \"max\": 68.0,\n        \"num_unique_values\": 173,\n        \"samples\": [\n          4.6\n        ],\n        \"semantic_type\": \"\",\n        \"description\": \"\"\n      }\n    },\n    {\n      \"column\": \"FWI\",\n      \"properties\": {\n        \"dtype\": \"number\",\n        \"std\": 7.440567726345277,\n        \"min\": 0.0,\n        \"max\": 31.1,\n        \"num_unique_values\": 125,\n        \"samples\": [\n          15.0\n        ],\n        \"semantic_type\": \"\",\n        \"description\": \"\"\n      }\n    },\n    {\n      \"column\": \"Classes\",\n      \"properties\": {\n        \"dtype\": \"number\",\n        \"std\": 0,\n        \"min\": 0,\n        \"max\": 1,\n        \"num_unique_values\": 2,\n        \"samples\": [\n          1\n        ],\n        \"semantic_type\": \"\",\n        \"description\": \"\"\n      }\n    },\n    {\n      \"column\": \"Region\",\n      \"properties\": {\n        \"dtype\": \"number\",\n        \"std\": 0,\n        \"min\": 0,\n        \"max\": 1,\n        \"num_unique_values\": 2,\n        \"samples\": [\n          1\n        ],\n        \"semantic_type\": \"\",\n        \"description\": \"\"\n      }\n    }\n  ]\n}",
              "type": "dataframe",
              "variable_name": "data"
            },
            "text/html": [
              "\n",
              "  <div id=\"df-ab0623a3-fc11-4fc1-b943-7c0ac500e0d1\" class=\"colab-df-container\">\n",
              "    <div>\n",
              "<style scoped>\n",
              "    .dataframe tbody tr th:only-of-type {\n",
              "        vertical-align: middle;\n",
              "    }\n",
              "\n",
              "    .dataframe tbody tr th {\n",
              "        vertical-align: top;\n",
              "    }\n",
              "\n",
              "    .dataframe thead th {\n",
              "        text-align: right;\n",
              "    }\n",
              "</style>\n",
              "<table border=\"1\" class=\"dataframe\">\n",
              "  <thead>\n",
              "    <tr style=\"text-align: right;\">\n",
              "      <th></th>\n",
              "      <th>day</th>\n",
              "      <th>month</th>\n",
              "      <th>year</th>\n",
              "      <th>Temperature</th>\n",
              "      <th>RH</th>\n",
              "      <th>Ws</th>\n",
              "      <th>Rain</th>\n",
              "      <th>FFMC</th>\n",
              "      <th>DMC</th>\n",
              "      <th>DC</th>\n",
              "      <th>ISI</th>\n",
              "      <th>BUI</th>\n",
              "      <th>FWI</th>\n",
              "      <th>Classes</th>\n",
              "      <th>Region</th>\n",
              "    </tr>\n",
              "  </thead>\n",
              "  <tbody>\n",
              "    <tr>\n",
              "      <th>0</th>\n",
              "      <td>1</td>\n",
              "      <td>6</td>\n",
              "      <td>2012</td>\n",
              "      <td>29</td>\n",
              "      <td>57</td>\n",
              "      <td>18</td>\n",
              "      <td>0.0</td>\n",
              "      <td>65.7</td>\n",
              "      <td>3.4</td>\n",
              "      <td>7.6</td>\n",
              "      <td>1.3</td>\n",
              "      <td>3.4</td>\n",
              "      <td>0.5</td>\n",
              "      <td>0</td>\n",
              "      <td>0</td>\n",
              "    </tr>\n",
              "    <tr>\n",
              "      <th>1</th>\n",
              "      <td>2</td>\n",
              "      <td>6</td>\n",
              "      <td>2012</td>\n",
              "      <td>29</td>\n",
              "      <td>61</td>\n",
              "      <td>13</td>\n",
              "      <td>1.3</td>\n",
              "      <td>64.4</td>\n",
              "      <td>4.1</td>\n",
              "      <td>7.6</td>\n",
              "      <td>1.0</td>\n",
              "      <td>3.9</td>\n",
              "      <td>0.4</td>\n",
              "      <td>0</td>\n",
              "      <td>0</td>\n",
              "    </tr>\n",
              "  </tbody>\n",
              "</table>\n",
              "</div>\n",
              "    <div class=\"colab-df-buttons\">\n",
              "\n",
              "  <div class=\"colab-df-container\">\n",
              "    <button class=\"colab-df-convert\" onclick=\"convertToInteractive('df-ab0623a3-fc11-4fc1-b943-7c0ac500e0d1')\"\n",
              "            title=\"Convert this dataframe to an interactive table.\"\n",
              "            style=\"display:none;\">\n",
              "\n",
              "  <svg xmlns=\"http://www.w3.org/2000/svg\" height=\"24px\" viewBox=\"0 -960 960 960\">\n",
              "    <path d=\"M120-120v-720h720v720H120Zm60-500h600v-160H180v160Zm220 220h160v-160H400v160Zm0 220h160v-160H400v160ZM180-400h160v-160H180v160Zm440 0h160v-160H620v160ZM180-180h160v-160H180v160Zm440 0h160v-160H620v160Z\"/>\n",
              "  </svg>\n",
              "    </button>\n",
              "\n",
              "  <style>\n",
              "    .colab-df-container {\n",
              "      display:flex;\n",
              "      gap: 12px;\n",
              "    }\n",
              "\n",
              "    .colab-df-convert {\n",
              "      background-color: #E8F0FE;\n",
              "      border: none;\n",
              "      border-radius: 50%;\n",
              "      cursor: pointer;\n",
              "      display: none;\n",
              "      fill: #1967D2;\n",
              "      height: 32px;\n",
              "      padding: 0 0 0 0;\n",
              "      width: 32px;\n",
              "    }\n",
              "\n",
              "    .colab-df-convert:hover {\n",
              "      background-color: #E2EBFA;\n",
              "      box-shadow: 0px 1px 2px rgba(60, 64, 67, 0.3), 0px 1px 3px 1px rgba(60, 64, 67, 0.15);\n",
              "      fill: #174EA6;\n",
              "    }\n",
              "\n",
              "    .colab-df-buttons div {\n",
              "      margin-bottom: 4px;\n",
              "    }\n",
              "\n",
              "    [theme=dark] .colab-df-convert {\n",
              "      background-color: #3B4455;\n",
              "      fill: #D2E3FC;\n",
              "    }\n",
              "\n",
              "    [theme=dark] .colab-df-convert:hover {\n",
              "      background-color: #434B5C;\n",
              "      box-shadow: 0px 1px 3px 1px rgba(0, 0, 0, 0.15);\n",
              "      filter: drop-shadow(0px 1px 2px rgba(0, 0, 0, 0.3));\n",
              "      fill: #FFFFFF;\n",
              "    }\n",
              "  </style>\n",
              "\n",
              "    <script>\n",
              "      const buttonEl =\n",
              "        document.querySelector('#df-ab0623a3-fc11-4fc1-b943-7c0ac500e0d1 button.colab-df-convert');\n",
              "      buttonEl.style.display =\n",
              "        google.colab.kernel.accessAllowed ? 'block' : 'none';\n",
              "\n",
              "      async function convertToInteractive(key) {\n",
              "        const element = document.querySelector('#df-ab0623a3-fc11-4fc1-b943-7c0ac500e0d1');\n",
              "        const dataTable =\n",
              "          await google.colab.kernel.invokeFunction('convertToInteractive',\n",
              "                                                    [key], {});\n",
              "        if (!dataTable) return;\n",
              "\n",
              "        const docLinkHtml = 'Like what you see? Visit the ' +\n",
              "          '<a target=\"_blank\" href=https://colab.research.google.com/notebooks/data_table.ipynb>data table notebook</a>'\n",
              "          + ' to learn more about interactive tables.';\n",
              "        element.innerHTML = '';\n",
              "        dataTable['output_type'] = 'display_data';\n",
              "        await google.colab.output.renderOutput(dataTable, element);\n",
              "        const docLink = document.createElement('div');\n",
              "        docLink.innerHTML = docLinkHtml;\n",
              "        element.appendChild(docLink);\n",
              "      }\n",
              "    </script>\n",
              "  </div>\n",
              "\n",
              "\n",
              "<div id=\"df-1b8a65ec-711b-47fa-a21f-9f9d7404e6bc\">\n",
              "  <button class=\"colab-df-quickchart\" onclick=\"quickchart('df-1b8a65ec-711b-47fa-a21f-9f9d7404e6bc')\"\n",
              "            title=\"Suggest charts\"\n",
              "            style=\"display:none;\">\n",
              "\n",
              "<svg xmlns=\"http://www.w3.org/2000/svg\" height=\"24px\"viewBox=\"0 0 24 24\"\n",
              "     width=\"24px\">\n",
              "    <g>\n",
              "        <path d=\"M19 3H5c-1.1 0-2 .9-2 2v14c0 1.1.9 2 2 2h14c1.1 0 2-.9 2-2V5c0-1.1-.9-2-2-2zM9 17H7v-7h2v7zm4 0h-2V7h2v10zm4 0h-2v-4h2v4z\"/>\n",
              "    </g>\n",
              "</svg>\n",
              "  </button>\n",
              "\n",
              "<style>\n",
              "  .colab-df-quickchart {\n",
              "      --bg-color: #E8F0FE;\n",
              "      --fill-color: #1967D2;\n",
              "      --hover-bg-color: #E2EBFA;\n",
              "      --hover-fill-color: #174EA6;\n",
              "      --disabled-fill-color: #AAA;\n",
              "      --disabled-bg-color: #DDD;\n",
              "  }\n",
              "\n",
              "  [theme=dark] .colab-df-quickchart {\n",
              "      --bg-color: #3B4455;\n",
              "      --fill-color: #D2E3FC;\n",
              "      --hover-bg-color: #434B5C;\n",
              "      --hover-fill-color: #FFFFFF;\n",
              "      --disabled-bg-color: #3B4455;\n",
              "      --disabled-fill-color: #666;\n",
              "  }\n",
              "\n",
              "  .colab-df-quickchart {\n",
              "    background-color: var(--bg-color);\n",
              "    border: none;\n",
              "    border-radius: 50%;\n",
              "    cursor: pointer;\n",
              "    display: none;\n",
              "    fill: var(--fill-color);\n",
              "    height: 32px;\n",
              "    padding: 0;\n",
              "    width: 32px;\n",
              "  }\n",
              "\n",
              "  .colab-df-quickchart:hover {\n",
              "    background-color: var(--hover-bg-color);\n",
              "    box-shadow: 0 1px 2px rgba(60, 64, 67, 0.3), 0 1px 3px 1px rgba(60, 64, 67, 0.15);\n",
              "    fill: var(--button-hover-fill-color);\n",
              "  }\n",
              "\n",
              "  .colab-df-quickchart-complete:disabled,\n",
              "  .colab-df-quickchart-complete:disabled:hover {\n",
              "    background-color: var(--disabled-bg-color);\n",
              "    fill: var(--disabled-fill-color);\n",
              "    box-shadow: none;\n",
              "  }\n",
              "\n",
              "  .colab-df-spinner {\n",
              "    border: 2px solid var(--fill-color);\n",
              "    border-color: transparent;\n",
              "    border-bottom-color: var(--fill-color);\n",
              "    animation:\n",
              "      spin 1s steps(1) infinite;\n",
              "  }\n",
              "\n",
              "  @keyframes spin {\n",
              "    0% {\n",
              "      border-color: transparent;\n",
              "      border-bottom-color: var(--fill-color);\n",
              "      border-left-color: var(--fill-color);\n",
              "    }\n",
              "    20% {\n",
              "      border-color: transparent;\n",
              "      border-left-color: var(--fill-color);\n",
              "      border-top-color: var(--fill-color);\n",
              "    }\n",
              "    30% {\n",
              "      border-color: transparent;\n",
              "      border-left-color: var(--fill-color);\n",
              "      border-top-color: var(--fill-color);\n",
              "      border-right-color: var(--fill-color);\n",
              "    }\n",
              "    40% {\n",
              "      border-color: transparent;\n",
              "      border-right-color: var(--fill-color);\n",
              "      border-top-color: var(--fill-color);\n",
              "    }\n",
              "    60% {\n",
              "      border-color: transparent;\n",
              "      border-right-color: var(--fill-color);\n",
              "    }\n",
              "    80% {\n",
              "      border-color: transparent;\n",
              "      border-right-color: var(--fill-color);\n",
              "      border-bottom-color: var(--fill-color);\n",
              "    }\n",
              "    90% {\n",
              "      border-color: transparent;\n",
              "      border-bottom-color: var(--fill-color);\n",
              "    }\n",
              "  }\n",
              "</style>\n",
              "\n",
              "  <script>\n",
              "    async function quickchart(key) {\n",
              "      const quickchartButtonEl =\n",
              "        document.querySelector('#' + key + ' button');\n",
              "      quickchartButtonEl.disabled = true;  // To prevent multiple clicks.\n",
              "      quickchartButtonEl.classList.add('colab-df-spinner');\n",
              "      try {\n",
              "        const charts = await google.colab.kernel.invokeFunction(\n",
              "            'suggestCharts', [key], {});\n",
              "      } catch (error) {\n",
              "        console.error('Error during call to suggestCharts:', error);\n",
              "      }\n",
              "      quickchartButtonEl.classList.remove('colab-df-spinner');\n",
              "      quickchartButtonEl.classList.add('colab-df-quickchart-complete');\n",
              "    }\n",
              "    (() => {\n",
              "      let quickchartButtonEl =\n",
              "        document.querySelector('#df-1b8a65ec-711b-47fa-a21f-9f9d7404e6bc button');\n",
              "      quickchartButtonEl.style.display =\n",
              "        google.colab.kernel.accessAllowed ? 'block' : 'none';\n",
              "    })();\n",
              "  </script>\n",
              "</div>\n",
              "\n",
              "    </div>\n",
              "  </div>\n"
            ],
            "text/plain": [
              "   day  month  year  Temperature  RH  Ws  Rain  FFMC  DMC   DC  ISI  BUI  FWI  \\\n",
              "0    1      6  2012           29  57  18   0.0  65.7  3.4  7.6  1.3  3.4  0.5   \n",
              "1    2      6  2012           29  61  13   1.3  64.4  4.1  7.6  1.0  3.9  0.4   \n",
              "\n",
              "   Classes  Region  \n",
              "0        0       0  \n",
              "1        0       0  "
            ]
          },
          "execution_count": 143,
          "metadata": {},
          "output_type": "execute_result"
        }
      ],
      "source": [
        "data.head(2)"
      ]
    },
    {
      "cell_type": "code",
      "execution_count": 144,
      "metadata": {
        "colab": {
          "base_uri": "https://localhost:8080/",
          "height": 582
        },
        "id": "Jrj9sNfHEFV1",
        "outputId": "2bf9cb39-5498-4a8f-8b17-38ba3489db06"
      },
      "outputs": [
        {
          "data": {
            "text/plain": [
              "Text(0.5, 1.0, 'Fire Analysis of Sidi- Bel Region')"
            ]
          },
          "execution_count": 144,
          "metadata": {},
          "output_type": "execute_result"
        },
        {
          "data": {
            "image/png": "[encoded data removed]",
            "text/plain": [
              "<Figure size 1300x600 with 1 Axes>"
            ]
          },
          "metadata": {},
          "output_type": "display_data"
        }
      ],
      "source": [
        "# Monthly Fire Analysis\n",
        "\n",
        "dtemp = data[data['Region'] == 1]\n",
        "plt.subplots(figsize = (13,6))\n",
        "sns.set_style('whitegrid')\n",
        "sns.countplot(data = data, x = 'month', hue = 'Classes')\n",
        "plt.xlabel('Months')\n",
        "plt.ylabel('Number of Fires')\n",
        "plt.title('Fire Analysis of Sidi- Bel Region')"
      ]
    },
    {
      "cell_type": "markdown",
      "metadata": {
        "id": "Lu1031RZFE2N"
      },
      "source": [
        "**OBSERVATIONS:**\n",
        "\n",
        "(i) Maximum Forest Fires for Sidi-Bel Region has been caught in the month of August."
      ]
    },
    {
      "cell_type": "code",
      "execution_count": 145,
      "metadata": {
        "colab": {
          "base_uri": "https://localhost:8080/",
          "height": 582
        },
        "id": "_GszRUC9E3cS",
        "outputId": "8849a5af-92b4-4711-e696-39643488b1fb"
      },
      "outputs": [
        {
          "data": {
            "text/plain": [
              "Text(0.5, 1.0, 'Fire Analysis of Bejaia Region')"
            ]
          },
          "execution_count": 145,
          "metadata": {},
          "output_type": "execute_result"
        },
        {
          "data": {
            "image/png": "[encoded data removed]",
            "text/plain": [
              "<Figure size 1300x600 with 1 Axes>"
            ]
          },
          "metadata": {},
          "output_type": "display_data"
        }
      ],
      "source": [
        "dtemp = data[data['Region'] == 0]\n",
        "plt.subplots(figsize = (13,6))\n",
        "sns.set_style('whitegrid')\n",
        "sns.countplot(data = data, x = 'month', hue = 'Classes')\n",
        "plt.xlabel('Months')\n",
        "plt.ylabel('Number of Fires')\n",
        "plt.title('Fire Analysis of Bejaia Region')"
      ]
    },
    {
      "cell_type": "markdown",
      "metadata": {
        "id": "TYZWC1KOFUW5"
      },
      "source": [
        "OBSERVATIONS:\n",
        "\n",
        "(i) Maximum Forest Fires for Bejaia Region has been caught in the month of August."
      ]
    },
    {
      "cell_type": "markdown",
      "metadata": {
        "id": "Ko1iHIuYnyOy"
      },
      "source": [
        "**3. MODEL TRAINING**"
      ]
    },
    {
      "cell_type": "code",
      "execution_count": 146,
      "metadata": {
        "colab": {
          "base_uri": "https://localhost:8080/",
          "height": 206
        },
        "id": "NkmTlD9Wnr4L",
        "outputId": "0478e203-8909-446f-f7a4-cdab94b87cf9"
      },
      "outputs": [
        {
          "data": {
            "application/vnd.google.colaboratory.intrinsic+json": {
              "summary": "{\n  \"name\": \"df_copy\",\n  \"rows\": 243,\n  \"fields\": [\n    {\n      \"column\": \"Temperature\",\n      \"properties\": {\n        \"dtype\": \"number\",\n        \"std\": 3,\n        \"min\": 22,\n        \"max\": 42,\n        \"num_unique_values\": 19,\n        \"samples\": [\n          29,\n          33,\n          36\n        ],\n        \"semantic_type\": \"\",\n        \"description\": \"\"\n      }\n    },\n    {\n      \"column\": \"RH\",\n      \"properties\": {\n        \"dtype\": \"number\",\n        \"std\": 14,\n        \"min\": 21,\n        \"max\": 90,\n        \"num_unique_values\": 62,\n        \"samples\": [\n          83,\n          31,\n          57\n        ],\n        \"semantic_type\": \"\",\n        \"description\": \"\"\n      }\n    },\n    {\n      \"column\": \"Ws\",\n      \"properties\": {\n        \"dtype\": \"number\",\n        \"std\": 2,\n        \"min\": 6,\n        \"max\": 29,\n        \"num_unique_values\": 18,\n        \"samples\": [\n          18,\n          13,\n          21\n        ],\n        \"semantic_type\": \"\",\n        \"description\": \"\"\n      }\n    },\n    {\n      \"column\": \"Rain\",\n      \"properties\": {\n        \"dtype\": \"number\",\n        \"std\": 2.003206795506829,\n        \"min\": 0.0,\n        \"max\": 16.8,\n        \"num_unique_values\": 39,\n        \"samples\": [\n          6.0,\n          4.1,\n          0.2\n        ],\n        \"semantic_type\": \"\",\n        \"description\": \"\"\n      }\n    },\n    {\n      \"column\": \"FFMC\",\n      \"properties\": {\n        \"dtype\": \"number\",\n        \"std\": 14.349641256730104,\n        \"min\": 28.6,\n        \"max\": 96.0,\n        \"num_unique_values\": 173,\n        \"samples\": [\n          64.5,\n          72.6,\n          87.7\n        ],\n        \"semantic_type\": \"\",\n        \"description\": \"\"\n      }\n    },\n    {\n      \"column\": \"DMC\",\n      \"properties\": {\n        \"dtype\": \"number\",\n        \"std\": 12.393039751223832,\n        \"min\": 0.7,\n        \"max\": 65.9,\n        \"num_unique_values\": 165,\n        \"samples\": [\n          16.9,\n          18.0,\n          23.6\n        ],\n        \"semantic_type\": \"\",\n        \"description\": \"\"\n      }\n    },\n    {\n      \"column\": \"DC\",\n      \"properties\": {\n        \"dtype\": \"number\",\n        \"std\": 47.66560598458993,\n        \"min\": 6.9,\n        \"max\": 220.4,\n        \"num_unique_values\": 197,\n        \"samples\": [\n          90.1,\n          14.7,\n          27.1\n        ],\n        \"semantic_type\": \"\",\n        \"description\": \"\"\n      }\n    },\n    {\n      \"column\": \"ISI\",\n      \"properties\": {\n        \"dtype\": \"number\",\n        \"std\": 4.154233833368701,\n        \"min\": 0.0,\n        \"max\": 19.0,\n        \"num_unique_values\": 106,\n        \"samples\": [\n          13.1,\n          4.8,\n          1.2\n        ],\n        \"semantic_type\": \"\",\n        \"description\": \"\"\n      }\n    },\n    {\n      \"column\": \"BUI\",\n      \"properties\": {\n        \"dtype\": \"number\",\n        \"std\": 14.228421131468963,\n        \"min\": 1.1,\n        \"max\": 68.0,\n        \"num_unique_values\": 173,\n        \"samples\": [\n          4.6,\n          8.3,\n          7.7\n        ],\n        \"semantic_type\": \"\",\n        \"description\": \"\"\n      }\n    },\n    {\n      \"column\": \"FWI\",\n      \"properties\": {\n        \"dtype\": \"number\",\n        \"std\": 7.440567726345277,\n        \"min\": 0.0,\n        \"max\": 31.1,\n        \"num_unique_values\": 125,\n        \"samples\": [\n          15.0,\n          10.7,\n          2.1\n        ],\n        \"semantic_type\": \"\",\n        \"description\": \"\"\n      }\n    },\n    {\n      \"column\": \"Classes\",\n      \"properties\": {\n        \"dtype\": \"number\",\n        \"std\": 0,\n        \"min\": 0,\n        \"max\": 1,\n        \"num_unique_values\": 2,\n        \"samples\": [\n          1,\n          0\n        ],\n        \"semantic_type\": \"\",\n        \"description\": \"\"\n      }\n    },\n    {\n      \"column\": \"Region\",\n      \"properties\": {\n        \"dtype\": \"number\",\n        \"std\": 0,\n        \"min\": 0,\n        \"max\": 1,\n        \"num_unique_values\": 2,\n        \"samples\": [\n          1,\n          0\n        ],\n        \"semantic_type\": \"\",\n        \"description\": \"\"\n      }\n    }\n  ]\n}",
              "type": "dataframe",
              "variable_name": "df_copy"
            },
            "text/html": [
              "\n",
              "  <div id=\"df-60b9dd9d-946b-4f80-aa8b-01f5d19da033\" class=\"colab-df-container\">\n",
              "    <div>\n",
              "<style scoped>\n",
              "    .dataframe tbody tr th:only-of-type {\n",
              "        vertical-align: middle;\n",
              "    }\n",
              "\n",
              "    .dataframe tbody tr th {\n",
              "        vertical-align: top;\n",
              "    }\n",
              "\n",
              "    .dataframe thead th {\n",
              "        text-align: right;\n",
              "    }\n",
              "</style>\n",
              "<table border=\"1\" class=\"dataframe\">\n",
              "  <thead>\n",
              "    <tr style=\"text-align: right;\">\n",
              "      <th></th>\n",
              "      <th>Temperature</th>\n",
              "      <th>RH</th>\n",
              "      <th>Ws</th>\n",
              "      <th>Rain</th>\n",
              "      <th>FFMC</th>\n",
              "      <th>DMC</th>\n",
              "      <th>DC</th>\n",
              "      <th>ISI</th>\n",
              "      <th>BUI</th>\n",
              "      <th>FWI</th>\n",
              "      <th>Classes</th>\n",
              "      <th>Region</th>\n",
              "    </tr>\n",
              "  </thead>\n",
              "  <tbody>\n",
              "    <tr>\n",
              "      <th>0</th>\n",
              "      <td>29</td>\n",
              "      <td>57</td>\n",
              "      <td>18</td>\n",
              "      <td>0.0</td>\n",
              "      <td>65.7</td>\n",
              "      <td>3.4</td>\n",
              "      <td>7.6</td>\n",
              "      <td>1.3</td>\n",
              "      <td>3.4</td>\n",
              "      <td>0.5</td>\n",
              "      <td>0</td>\n",
              "      <td>0</td>\n",
              "    </tr>\n",
              "    <tr>\n",
              "      <th>1</th>\n",
              "      <td>29</td>\n",
              "      <td>61</td>\n",
              "      <td>13</td>\n",
              "      <td>1.3</td>\n",
              "      <td>64.4</td>\n",
              "      <td>4.1</td>\n",
              "      <td>7.6</td>\n",
              "      <td>1.0</td>\n",
              "      <td>3.9</td>\n",
              "      <td>0.4</td>\n",
              "      <td>0</td>\n",
              "      <td>0</td>\n",
              "    </tr>\n",
              "    <tr>\n",
              "      <th>2</th>\n",
              "      <td>26</td>\n",
              "      <td>82</td>\n",
              "      <td>22</td>\n",
              "      <td>13.1</td>\n",
              "      <td>47.1</td>\n",
              "      <td>2.5</td>\n",
              "      <td>7.1</td>\n",
              "      <td>0.3</td>\n",
              "      <td>2.7</td>\n",
              "      <td>0.1</td>\n",
              "      <td>0</td>\n",
              "      <td>0</td>\n",
              "    </tr>\n",
              "    <tr>\n",
              "      <th>3</th>\n",
              "      <td>25</td>\n",
              "      <td>89</td>\n",
              "      <td>13</td>\n",
              "      <td>2.5</td>\n",
              "      <td>28.6</td>\n",
              "      <td>1.3</td>\n",
              "      <td>6.9</td>\n",
              "      <td>0.0</td>\n",
              "      <td>1.7</td>\n",
              "      <td>0.0</td>\n",
              "      <td>0</td>\n",
              "      <td>0</td>\n",
              "    </tr>\n",
              "    <tr>\n",
              "      <th>4</th>\n",
              "      <td>27</td>\n",
              "      <td>77</td>\n",
              "      <td>16</td>\n",
              "      <td>0.0</td>\n",
              "      <td>64.8</td>\n",
              "      <td>3.0</td>\n",
              "      <td>14.2</td>\n",
              "      <td>1.2</td>\n",
              "      <td>3.9</td>\n",
              "      <td>0.5</td>\n",
              "      <td>0</td>\n",
              "      <td>0</td>\n",
              "    </tr>\n",
              "  </tbody>\n",
              "</table>\n",
              "</div>\n",
              "    <div class=\"colab-df-buttons\">\n",
              "\n",
              "  <div class=\"colab-df-container\">\n",
              "    <button class=\"colab-df-convert\" onclick=\"convertToInteractive('df-60b9dd9d-946b-4f80-aa8b-01f5d19da033')\"\n",
              "            title=\"Convert this dataframe to an interactive table.\"\n",
              "            style=\"display:none;\">\n",
              "\n",
              "  <svg xmlns=\"http://www.w3.org/2000/svg\" height=\"24px\" viewBox=\"0 -960 960 960\">\n",
              "    <path d=\"M120-120v-720h720v720H120Zm60-500h600v-160H180v160Zm220 220h160v-160H400v160Zm0 220h160v-160H400v160ZM180-400h160v-160H180v160Zm440 0h160v-160H620v160ZM180-180h160v-160H180v160Zm440 0h160v-160H620v160Z\"/>\n",
              "  </svg>\n",
              "    </button>\n",
              "\n",
              "  <style>\n",
              "    .colab-df-container {\n",
              "      display:flex;\n",
              "      gap: 12px;\n",
              "    }\n",
              "\n",
              "    .colab-df-convert {\n",
              "      background-color: #E8F0FE;\n",
              "      border: none;\n",
              "      border-radius: 50%;\n",
              "      cursor: pointer;\n",
              "      display: none;\n",
              "      fill: #1967D2;\n",
              "      height: 32px;\n",
              "      padding: 0 0 0 0;\n",
              "      width: 32px;\n",
              "    }\n",
              "\n",
              "    .colab-df-convert:hover {\n",
              "      background-color: #E2EBFA;\n",
              "      box-shadow: 0px 1px 2px rgba(60, 64, 67, 0.3), 0px 1px 3px 1px rgba(60, 64, 67, 0.15);\n",
              "      fill: #174EA6;\n",
              "    }\n",
              "\n",
              "    .colab-df-buttons div {\n",
              "      margin-bottom: 4px;\n",
              "    }\n",
              "\n",
              "    [theme=dark] .colab-df-convert {\n",
              "      background-color: #3B4455;\n",
              "      fill: #D2E3FC;\n",
              "    }\n",
              "\n",
              "    [theme=dark] .colab-df-convert:hover {\n",
              "      background-color: #434B5C;\n",
              "      box-shadow: 0px 1px 3px 1px rgba(0, 0, 0, 0.15);\n",
              "      filter: drop-shadow(0px 1px 2px rgba(0, 0, 0, 0.3));\n",
              "      fill: #FFFFFF;\n",
              "    }\n",
              "  </style>\n",
              "\n",
              "    <script>\n",
              "      const buttonEl =\n",
              "        document.querySelector('#df-60b9dd9d-946b-4f80-aa8b-01f5d19da033 button.colab-df-convert');\n",
              "      buttonEl.style.display =\n",
              "        google.colab.kernel.accessAllowed ? 'block' : 'none';\n",
              "\n",
              "      async function convertToInteractive(key) {\n",
              "        const element = document.querySelector('#df-60b9dd9d-946b-4f80-aa8b-01f5d19da033');\n",
              "        const dataTable =\n",
              "          await google.colab.kernel.invokeFunction('convertToInteractive',\n",
              "                                                    [key], {});\n",
              "        if (!dataTable) return;\n",
              "\n",
              "        const docLinkHtml = 'Like what you see? Visit the ' +\n",
              "          '<a target=\"_blank\" href=https://colab.research.google.com/notebooks/data_table.ipynb>data table notebook</a>'\n",
              "          + ' to learn more about interactive tables.';\n",
              "        element.innerHTML = '';\n",
              "        dataTable['output_type'] = 'display_data';\n",
              "        await google.colab.output.renderOutput(dataTable, element);\n",
              "        const docLink = document.createElement('div');\n",
              "        docLink.innerHTML = docLinkHtml;\n",
              "        element.appendChild(docLink);\n",
              "      }\n",
              "    </script>\n",
              "  </div>\n",
              "\n",
              "\n",
              "<div id=\"df-4aa472e5-e91b-425c-99dd-0e12fc646725\">\n",
              "  <button class=\"colab-df-quickchart\" onclick=\"quickchart('df-4aa472e5-e91b-425c-99dd-0e12fc646725')\"\n",
              "            title=\"Suggest charts\"\n",
              "            style=\"display:none;\">\n",
              "\n",
              "<svg xmlns=\"http://www.w3.org/2000/svg\" height=\"24px\"viewBox=\"0 0 24 24\"\n",
              "     width=\"24px\">\n",
              "    <g>\n",
              "        <path d=\"M19 3H5c-1.1 0-2 .9-2 2v14c0 1.1.9 2 2 2h14c1.1 0 2-.9 2-2V5c0-1.1-.9-2-2-2zM9 17H7v-7h2v7zm4 0h-2V7h2v10zm4 0h-2v-4h2v4z\"/>\n",
              "    </g>\n",
              "</svg>\n",
              "  </button>\n",
              "\n",
              "<style>\n",
              "  .colab-df-quickchart {\n",
              "      --bg-color: #E8F0FE;\n",
              "      --fill-color: #1967D2;\n",
              "      --hover-bg-color: #E2EBFA;\n",
              "      --hover-fill-color: #174EA6;\n",
              "      --disabled-fill-color: #AAA;\n",
              "      --disabled-bg-color: #DDD;\n",
              "  }\n",
              "\n",
              "  [theme=dark] .colab-df-quickchart {\n",
              "      --bg-color: #3B4455;\n",
              "      --fill-color: #D2E3FC;\n",
              "      --hover-bg-color: #434B5C;\n",
              "      --hover-fill-color: #FFFFFF;\n",
              "      --disabled-bg-color: #3B4455;\n",
              "      --disabled-fill-color: #666;\n",
              "  }\n",
              "\n",
              "  .colab-df-quickchart {\n",
              "    background-color: var(--bg-color);\n",
              "    border: none;\n",
              "    border-radius: 50%;\n",
              "    cursor: pointer;\n",
              "    display: none;\n",
              "    fill: var(--fill-color);\n",
              "    height: 32px;\n",
              "    padding: 0;\n",
              "    width: 32px;\n",
              "  }\n",
              "\n",
              "  .colab-df-quickchart:hover {\n",
              "    background-color: var(--hover-bg-color);\n",
              "    box-shadow: 0 1px 2px rgba(60, 64, 67, 0.3), 0 1px 3px 1px rgba(60, 64, 67, 0.15);\n",
              "    fill: var(--button-hover-fill-color);\n",
              "  }\n",
              "\n",
              "  .colab-df-quickchart-complete:disabled,\n",
              "  .colab-df-quickchart-complete:disabled:hover {\n",
              "    background-color: var(--disabled-bg-color);\n",
              "    fill: var(--disabled-fill-color);\n",
              "    box-shadow: none;\n",
              "  }\n",
              "\n",
              "  .colab-df-spinner {\n",
              "    border: 2px solid var(--fill-color);\n",
              "    border-color: transparent;\n",
              "    border-bottom-color: var(--fill-color);\n",
              "    animation:\n",
              "      spin 1s steps(1) infinite;\n",
              "  }\n",
              "\n",
              "  @keyframes spin {\n",
              "    0% {\n",
              "      border-color: transparent;\n",
              "      border-bottom-color: var(--fill-color);\n",
              "      border-left-color: var(--fill-color);\n",
              "    }\n",
              "    20% {\n",
              "      border-color: transparent;\n",
              "      border-left-color: var(--fill-color);\n",
              "      border-top-color: var(--fill-color);\n",
              "    }\n",
              "    30% {\n",
              "      border-color: transparent;\n",
              "      border-left-color: var(--fill-color);\n",
              "      border-top-color: var(--fill-color);\n",
              "      border-right-color: var(--fill-color);\n",
              "    }\n",
              "    40% {\n",
              "      border-color: transparent;\n",
              "      border-right-color: var(--fill-color);\n",
              "      border-top-color: var(--fill-color);\n",
              "    }\n",
              "    60% {\n",
              "      border-color: transparent;\n",
              "      border-right-color: var(--fill-color);\n",
              "    }\n",
              "    80% {\n",
              "      border-color: transparent;\n",
              "      border-right-color: var(--fill-color);\n",
              "      border-bottom-color: var(--fill-color);\n",
              "    }\n",
              "    90% {\n",
              "      border-color: transparent;\n",
              "      border-bottom-color: var(--fill-color);\n",
              "    }\n",
              "  }\n",
              "</style>\n",
              "\n",
              "  <script>\n",
              "    async function quickchart(key) {\n",
              "      const quickchartButtonEl =\n",
              "        document.querySelector('#' + key + ' button');\n",
              "      quickchartButtonEl.disabled = true;  // To prevent multiple clicks.\n",
              "      quickchartButtonEl.classList.add('colab-df-spinner');\n",
              "      try {\n",
              "        const charts = await google.colab.kernel.invokeFunction(\n",
              "            'suggestCharts', [key], {});\n",
              "      } catch (error) {\n",
              "        console.error('Error during call to suggestCharts:', error);\n",
              "      }\n",
              "      quickchartButtonEl.classList.remove('colab-df-spinner');\n",
              "      quickchartButtonEl.classList.add('colab-df-quickchart-complete');\n",
              "    }\n",
              "    (() => {\n",
              "      let quickchartButtonEl =\n",
              "        document.querySelector('#df-4aa472e5-e91b-425c-99dd-0e12fc646725 button');\n",
              "      quickchartButtonEl.style.display =\n",
              "        google.colab.kernel.accessAllowed ? 'block' : 'none';\n",
              "    })();\n",
              "  </script>\n",
              "</div>\n",
              "\n",
              "    </div>\n",
              "  </div>\n"
            ],
            "text/plain": [
              "   Temperature  RH  Ws  Rain  FFMC  DMC    DC  ISI  BUI  FWI  Classes  Region\n",
              "0           29  57  18   0.0  65.7  3.4   7.6  1.3  3.4  0.5        0       0\n",
              "1           29  61  13   1.3  64.4  4.1   7.6  1.0  3.9  0.4        0       0\n",
              "2           26  82  22  13.1  47.1  2.5   7.1  0.3  2.7  0.1        0       0\n",
              "3           25  89  13   2.5  28.6  1.3   6.9  0.0  1.7  0.0        0       0\n",
              "4           27  77  16   0.0  64.8  3.0  14.2  1.2  3.9  0.5        0       0"
            ]
          },
          "execution_count": 146,
          "metadata": {},
          "output_type": "execute_result"
        }
      ],
      "source": [
        "df_copy.head()"
      ]
    },
    {
      "cell_type": "code",
      "execution_count": 147,
      "metadata": {
        "colab": {
          "base_uri": "https://localhost:8080/"
        },
        "id": "1YigoXgVp_RL",
        "outputId": "260ed462-6f7e-41c0-a16c-0d7c7202c40b"
      },
      "outputs": [
        {
          "data": {
            "text/plain": [
              "1    137\n",
              "0    106\n",
              "Name: Classes, dtype: int64"
            ]
          },
          "execution_count": 147,
          "metadata": {},
          "output_type": "execute_result"
        }
      ],
      "source": [
        "df_copy['Classes'].value_counts()"
      ]
    },
    {
      "cell_type": "code",
      "execution_count": 148,
      "metadata": {
        "id": "U_Y61PjHqJsx"
      },
      "outputs": [],
      "source": [
        "# Divide the dataset into independent and dependent features\n",
        "X = df_copy.drop('FWI', axis = 1)\n",
        "\n",
        "Y = df_copy['FWI']"
      ]
    },
    {
      "cell_type": "code",
      "execution_count": 149,
      "metadata": {
        "colab": {
          "base_uri": "https://localhost:8080/"
        },
        "id": "zE1Pjz-9qjXx",
        "outputId": "8b451fcc-7f46-49f4-b363-413f739fbcb3"
      },
      "outputs": [
        {
          "name": "stdout",
          "output_type": "stream",
          "text": [
            "     Temperature  RH  Ws  Rain  FFMC   DMC    DC  ISI   BUI  Classes  Region\n",
            "0             29  57  18   0.0  65.7   3.4   7.6  1.3   3.4        0       0\n",
            "1             29  61  13   1.3  64.4   4.1   7.6  1.0   3.9        0       0\n",
            "2             26  82  22  13.1  47.1   2.5   7.1  0.3   2.7        0       0\n",
            "3             25  89  13   2.5  28.6   1.3   6.9  0.0   1.7        0       0\n",
            "4             27  77  16   0.0  64.8   3.0  14.2  1.2   3.9        0       0\n",
            "..           ...  ..  ..   ...   ...   ...   ...  ...   ...      ...     ...\n",
            "238           30  65  14   0.0  85.4  16.0  44.5  4.5  16.9        1       1\n",
            "239           28  87  15   4.4  41.1   6.5   8.0  0.1   6.2        0       1\n",
            "240           27  87  29   0.5  45.9   3.5   7.9  0.4   3.4        0       1\n",
            "241           24  54  18   0.1  79.7   4.3  15.2  1.7   5.1        0       1\n",
            "242           24  64  15   0.2  67.3   3.8  16.5  1.2   4.8        0       1\n",
            "\n",
            "[243 rows x 11 columns]\n"
          ]
        }
      ],
      "source": [
        "print(X)"
      ]
    },
    {
      "cell_type": "code",
      "execution_count": 150,
      "metadata": {
        "colab": {
          "base_uri": "https://localhost:8080/"
        },
        "id": "HQ0MB4lBqmLF",
        "outputId": "7ea0c970-5bc1-4285-d46d-b5cde93a00e8"
      },
      "outputs": [
        {
          "name": "stdout",
          "output_type": "stream",
          "text": [
            "0      0.5\n",
            "1      0.4\n",
            "2      0.1\n",
            "3      0.0\n",
            "4      0.5\n",
            "      ... \n",
            "238    6.5\n",
            "239    0.0\n",
            "240    0.2\n",
            "241    0.7\n",
            "242    0.5\n",
            "Name: FWI, Length: 243, dtype: float64\n"
          ]
        }
      ],
      "source": [
        "print(Y)"
      ]
    },
    {
      "cell_type": "code",
      "execution_count": 151,
      "metadata": {
        "id": "zd_BjTeeqwqS"
      },
      "outputs": [],
      "source": [
        "# Divide the dataset into training and testing data\n",
        "from sklearn.model_selection import train_test_split\n",
        "\n",
        "X_train, X_test, Y_train, Y_test = train_test_split(X,Y,test_size = 0.25, random_state = 42)"
      ]
    },
    {
      "cell_type": "code",
      "execution_count": 152,
      "metadata": {
        "colab": {
          "base_uri": "https://localhost:8080/"
        },
        "id": "3X0wDAs3rLTA",
        "outputId": "6ebf93d4-7572-4982-940d-5d85793e5fab"
      },
      "outputs": [
        {
          "name": "stdout",
          "output_type": "stream",
          "text": [
            "Input Features are : (182, 11) (61, 11)\n"
          ]
        }
      ],
      "source": [
        "print(\"Input Features are :\", X_train.shape, X_test.shape)"
      ]
    },
    {
      "cell_type": "code",
      "execution_count": 153,
      "metadata": {
        "colab": {
          "base_uri": "https://localhost:8080/"
        },
        "id": "wFdlprF7rV4g",
        "outputId": "a96ac27c-28ef-42cc-9583-66389b948282"
      },
      "outputs": [
        {
          "name": "stdout",
          "output_type": "stream",
          "text": [
            "Output Features are: (182,) (61,)\n"
          ]
        }
      ],
      "source": [
        "print(\"Output Features are:\", Y_train.shape, Y_test.shape)"
      ]
    },
    {
      "cell_type": "code",
      "execution_count": 154,
      "metadata": {
        "colab": {
          "base_uri": "https://localhost:8080/"
        },
        "id": "bVLHg8JTrhQs",
        "outputId": "15b33bab-1876-495a-9812-4222536904ae"
      },
      "outputs": [
        {
          "name": "stdout",
          "output_type": "stream",
          "text": [
            "     Temperature  RH  Ws  Rain  FFMC   DMC    DC   ISI   BUI  Classes  Region\n",
            "97            29  74  19   0.1  75.8   3.6  32.2   2.1   5.6        0       0\n",
            "141           31  72  14   0.2  60.2   3.8   8.0   0.8   3.7        0       1\n",
            "192           40  31  15   0.0  94.2  22.5  46.3  16.6  22.4        1       1\n",
            "68            32  60  18   0.3  77.1  11.3  47.0   2.2  14.1        0       0\n",
            "119           32  47  14   0.7  77.5   7.1   8.8   1.8   6.8        0       0\n",
            "..           ...  ..  ..   ...   ...   ...   ...   ...   ...      ...     ...\n",
            "106           24  82  15   0.4  44.9   0.9   7.3   0.2   1.4        0       0\n",
            "14            28  80  17   3.1  49.4   3.0   7.4   0.4   3.0        0       0\n",
            "92            25  76  17   7.2  46.0   1.3   7.5   0.2   1.8        0       0\n",
            "179           34  59  16   0.0  88.1  19.5  47.2   7.4  19.5        1       1\n",
            "102           30  77  21   1.8  58.5   1.9   8.4   1.1   2.4        0       0\n",
            "\n",
            "[182 rows x 11 columns]\n"
          ]
        }
      ],
      "source": [
        "print(X_train)"
      ]
    },
    {
      "cell_type": "code",
      "execution_count": 155,
      "metadata": {
        "colab": {
          "base_uri": "https://localhost:8080/"
        },
        "id": "dkbZk409ro7V",
        "outputId": "7a8a837c-87d2-427b-b72d-7334c6943451"
      },
      "outputs": [
        {
          "name": "stdout",
          "output_type": "stream",
          "text": [
            "     Temperature  RH  Ws  Rain  FFMC   DMC    DC  ISI   BUI  Classes  Region\n",
            "24            31  64  15   0.0  86.7  14.2  63.8  5.7  18.3        1       0\n",
            "6             33  54  13   0.0  88.2   9.9  30.5  6.4  10.9        1       0\n",
            "152           28  58  18   2.2  63.7   3.2   8.5  1.2   3.3        0       1\n",
            "232           34  58  13   0.2  79.5  18.7  88.0  2.1  24.4        0       1\n",
            "238           30  65  14   0.0  85.4  16.0  44.5  4.5  16.9        1       1\n",
            "..           ...  ..  ..   ...   ...   ...   ...  ...   ...      ...     ...\n",
            "162           34  56  15   2.9  74.8   7.1   9.5  1.6   6.8        0       1\n",
            "178           33  57  16   0.0  87.5  15.7  37.6  6.7  15.7        1       1\n",
            "224           31  72  14   0.0  84.2   8.3  25.2  3.8   9.1        1       1\n",
            "230           36  33  13   0.1  90.6  25.8  77.8  9.0  28.2        1       1\n",
            "154           34  56  17   0.1  84.7   9.7  27.3  4.7  10.3        1       1\n",
            "\n",
            "[61 rows x 11 columns]\n"
          ]
        }
      ],
      "source": [
        "print(X_test)"
      ]
    },
    {
      "cell_type": "code",
      "execution_count": 156,
      "metadata": {
        "colab": {
          "base_uri": "https://localhost:8080/"
        },
        "id": "xpPxZo8nr0Ew",
        "outputId": "e324f937-10d8-4ec2-fd51-7ed4946eac43"
      },
      "outputs": [
        {
          "name": "stdout",
          "output_type": "stream",
          "text": [
            "97      0.9\n",
            "141     0.3\n",
            "192    21.6\n",
            "68      2.6\n",
            "119     0.9\n",
            "       ... \n",
            "106     0.0\n",
            "14      0.1\n",
            "92      0.1\n",
            "179    10.9\n",
            "102     0.3\n",
            "Name: FWI, Length: 182, dtype: float64\n"
          ]
        }
      ],
      "source": [
        "print(Y_train)"
      ]
    },
    {
      "cell_type": "code",
      "execution_count": 157,
      "metadata": {
        "colab": {
          "base_uri": "https://localhost:8080/"
        },
        "id": "-6wYXRkLsFGZ",
        "outputId": "08b82b8c-4ad9-4234-d110-a64feecc96c3"
      },
      "outputs": [
        {
          "name": "stdout",
          "output_type": "stream",
          "text": [
            "             Temperature        RH        Ws      Rain      FFMC       DMC  \\\n",
            "Temperature     1.000000 -0.656095 -0.305977 -0.317512  0.694768  0.498173   \n",
            "RH             -0.656095  1.000000  0.225736  0.241656 -0.653023 -0.414601   \n",
            "Ws             -0.305977  0.225736  1.000000  0.251932 -0.190076  0.000379   \n",
            "Rain           -0.317512  0.241656  0.251932  1.000000 -0.545491 -0.289754   \n",
            "FFMC            0.694768 -0.653023 -0.190076 -0.545491  1.000000  0.620807   \n",
            "DMC             0.498173 -0.414601  0.000379 -0.289754  0.620807  1.000000   \n",
            "DC              0.390684 -0.236078  0.096576 -0.302341  0.524101  0.868647   \n",
            "ISI             0.629848 -0.717804 -0.023558 -0.345707  0.750799  0.685656   \n",
            "BUI             0.473609 -0.362317  0.035633 -0.300964  0.607210  0.983175   \n",
            "Classes         0.542141 -0.456876 -0.082570 -0.369357  0.781259  0.617273   \n",
            "Region          0.254549 -0.394665 -0.199969 -0.059022  0.249514  0.212582   \n",
            "\n",
            "                   DC       ISI       BUI   Classes    Region  \n",
            "Temperature  0.390684  0.629848  0.473609  0.542141  0.254549  \n",
            "RH          -0.236078 -0.717804 -0.362317 -0.456876 -0.394665  \n",
            "Ws           0.096576 -0.023558  0.035633 -0.082570 -0.199969  \n",
            "Rain        -0.302341 -0.345707 -0.300964 -0.369357 -0.059022  \n",
            "FFMC         0.524101  0.750799  0.607210  0.781259  0.249514  \n",
            "DMC          0.868647  0.685656  0.983175  0.617273  0.212582  \n",
            "DC           1.000000  0.513701  0.942414  0.543581 -0.060838  \n",
            "ISI          0.513701  1.000000  0.643818  0.742977  0.296441  \n",
            "BUI          0.942414  0.643818  1.000000  0.612239  0.114897  \n",
            "Classes      0.543581  0.742977  0.612239  1.000000  0.188837  \n",
            "Region      -0.060838  0.296441  0.114897  0.188837  1.000000  \n"
          ]
        }
      ],
      "source": [
        "# Find the correlation\n",
        "print(X_train.corr())"
      ]
    },
    {
      "cell_type": "code",
      "execution_count": 158,
      "metadata": {
        "colab": {
          "base_uri": "https://localhost:8080/",
          "height": 580
        },
        "id": "6-i-9GTQsQay",
        "outputId": "b874d441-1ac5-48f6-ddce-022f91d71190"
      },
      "outputs": [
        {
          "data": {
            "text/plain": [
              "<Axes: >"
            ]
          },
          "execution_count": 158,
          "metadata": {},
          "output_type": "execute_result"
        },
        {
          "data": {
            "image/png": "[encoded data removed]",
            "text/plain": [
              "<Figure size 800x550 with 2 Axes>"
            ]
          },
          "metadata": {},
          "output_type": "display_data"
        }
      ],
      "source": [
        "# Perform the heatmap for the above correlation data\n",
        "import seaborn as sns\n",
        "sns.heatmap(X_train.corr(), annot = True)"
      ]
    },
    {
      "cell_type": "code",
      "execution_count": 159,
      "metadata": {
        "id": "9eoJnYF3sqHu"
      },
      "outputs": [],
      "source": [
        "# fetch all the columns whose correlation value is greater than 0.85\n",
        "\n",
        "corr_dataset = X_train.corr()"
      ]
    },
    {
      "cell_type": "code",
      "execution_count": 160,
      "metadata": {
        "colab": {
          "base_uri": "https://localhost:8080/"
        },
        "id": "89G__lI6tHH_",
        "outputId": "66326770-00d2-4305-a7ba-5a6f743a0e77"
      },
      "outputs": [
        {
          "name": "stdout",
          "output_type": "stream",
          "text": [
            "             Temperature        RH        Ws      Rain      FFMC       DMC  \\\n",
            "Temperature     1.000000 -0.656095 -0.305977 -0.317512  0.694768  0.498173   \n",
            "RH             -0.656095  1.000000  0.225736  0.241656 -0.653023 -0.414601   \n",
            "Ws             -0.305977  0.225736  1.000000  0.251932 -0.190076  0.000379   \n",
            "Rain           -0.317512  0.241656  0.251932  1.000000 -0.545491 -0.289754   \n",
            "FFMC            0.694768 -0.653023 -0.190076 -0.545491  1.000000  0.620807   \n",
            "DMC             0.498173 -0.414601  0.000379 -0.289754  0.620807  1.000000   \n",
            "DC              0.390684 -0.236078  0.096576 -0.302341  0.524101  0.868647   \n",
            "ISI             0.629848 -0.717804 -0.023558 -0.345707  0.750799  0.685656   \n",
            "BUI             0.473609 -0.362317  0.035633 -0.300964  0.607210  0.983175   \n",
            "Classes         0.542141 -0.456876 -0.082570 -0.369357  0.781259  0.617273   \n",
            "Region          0.254549 -0.394665 -0.199969 -0.059022  0.249514  0.212582   \n",
            "\n",
            "                   DC       ISI       BUI   Classes    Region  \n",
            "Temperature  0.390684  0.629848  0.473609  0.542141  0.254549  \n",
            "RH          -0.236078 -0.717804 -0.362317 -0.456876 -0.394665  \n",
            "Ws           0.096576 -0.023558  0.035633 -0.082570 -0.199969  \n",
            "Rain        -0.302341 -0.345707 -0.300964 -0.369357 -0.059022  \n",
            "FFMC         0.524101  0.750799  0.607210  0.781259  0.249514  \n",
            "DMC          0.868647  0.685656  0.983175  0.617273  0.212582  \n",
            "DC           1.000000  0.513701  0.942414  0.543581 -0.060838  \n",
            "ISI          0.513701  1.000000  0.643818  0.742977  0.296441  \n",
            "BUI          0.942414  0.643818  1.000000  0.612239  0.114897  \n",
            "Classes      0.543581  0.742977  0.612239  1.000000  0.188837  \n",
            "Region      -0.060838  0.296441  0.114897  0.188837  1.000000  \n"
          ]
        }
      ],
      "source": [
        "print(corr_dataset)"
      ]
    },
    {
      "cell_type": "code",
      "execution_count": 161,
      "metadata": {
        "id": "-NmLQzVgs6cy"
      },
      "outputs": [],
      "source": [
        "# fetch all the columns whose correlation value is greater than 85 %\n",
        "def correlat(dataset, threshold):\n",
        "  corr_matrix = set()\n",
        "\n",
        "\n",
        "  for i in range(len(corr_dataset.columns)):\n",
        "    for j in range(i):\n",
        "      if abs(corr_dataset.iloc[i,j] > threshold):\n",
        "        colname = corr_dataset.columns[i]\n",
        "        corr_matrix.add(colname)\n",
        "  return(corr_matrix)"
      ]
    },
    {
      "cell_type": "code",
      "execution_count": 162,
      "metadata": {
        "id": "NgwYG1K-uom4"
      },
      "outputs": [],
      "source": [
        "corr_features = correlat(X_train,0.85)"
      ]
    },
    {
      "cell_type": "code",
      "execution_count": 163,
      "metadata": {
        "colab": {
          "base_uri": "https://localhost:8080/"
        },
        "id": "YG9kBalMvCLt",
        "outputId": "8ee52510-673e-4138-a882-c95ee6d33495"
      },
      "outputs": [
        {
          "name": "stdout",
          "output_type": "stream",
          "text": [
            "{'DC', 'BUI'}\n"
          ]
        }
      ],
      "source": [
        "print(corr_features)"
      ]
    },
    {
      "cell_type": "code",
      "execution_count": 164,
      "metadata": {
        "colab": {
          "base_uri": "https://localhost:8080/",
          "height": 424
        },
        "id": "T14RUCalvsDf",
        "outputId": "3522b8da-bd17-431f-a293-a35f5015d395"
      },
      "outputs": [
        {
          "data": {
            "application/vnd.google.colaboratory.intrinsic+json": {
              "summary": "{\n  \"name\": \"X_train\",\n  \"rows\": 182,\n  \"fields\": [\n    {\n      \"column\": \"Temperature\",\n      \"properties\": {\n        \"dtype\": \"number\",\n        \"std\": 3,\n        \"min\": 22,\n        \"max\": 42,\n        \"num_unique_values\": 19,\n        \"samples\": [\n          29,\n          33,\n          28\n        ],\n        \"semantic_type\": \"\",\n        \"description\": \"\"\n      }\n    },\n    {\n      \"column\": \"RH\",\n      \"properties\": {\n        \"dtype\": \"number\",\n        \"std\": 15,\n        \"min\": 21,\n        \"max\": 90,\n        \"num_unique_values\": 60,\n        \"samples\": [\n          74,\n          59,\n          82\n        ],\n        \"semantic_type\": \"\",\n        \"description\": \"\"\n      }\n    },\n    {\n      \"column\": \"Ws\",\n      \"properties\": {\n        \"dtype\": \"number\",\n        \"std\": 2,\n        \"min\": 8,\n        \"max\": 26,\n        \"num_unique_values\": 16,\n        \"samples\": [\n          19,\n          14,\n          16\n        ],\n        \"semantic_type\": \"\",\n        \"description\": \"\"\n      }\n    },\n    {\n      \"column\": \"Rain\",\n      \"properties\": {\n        \"dtype\": \"number\",\n        \"std\": 2.1432673195350755,\n        \"min\": 0.0,\n        \"max\": 16.8,\n        \"num_unique_values\": 36,\n        \"samples\": [\n          7.2,\n          1.1,\n          4.4\n        ],\n        \"semantic_type\": \"\",\n        \"description\": \"\"\n      }\n    },\n    {\n      \"column\": \"FFMC\",\n      \"properties\": {\n        \"dtype\": \"number\",\n        \"std\": 14.357600553134677,\n        \"min\": 28.6,\n        \"max\": 96.0,\n        \"num_unique_values\": 139,\n        \"samples\": [\n          44.9,\n          64.6,\n          78.3\n        ],\n        \"semantic_type\": \"\",\n        \"description\": \"\"\n      }\n    },\n    {\n      \"column\": \"DMC\",\n      \"properties\": {\n        \"dtype\": \"number\",\n        \"std\": 12.65052586842691,\n        \"min\": 0.9,\n        \"max\": 65.9,\n        \"num_unique_values\": 133,\n        \"samples\": [\n          43.9,\n          18.6,\n          1.9\n        ],\n        \"semantic_type\": \"\",\n        \"description\": \"\"\n      }\n    },\n    {\n      \"column\": \"DC\",\n      \"properties\": {\n        \"dtype\": \"number\",\n        \"std\": 48.48061224995923,\n        \"min\": 6.9,\n        \"max\": 220.4,\n        \"num_unique_values\": 150,\n        \"samples\": [\n          17.7,\n          7.6,\n          71.5\n        ],\n        \"semantic_type\": \"\",\n        \"description\": \"\"\n      }\n    },\n    {\n      \"column\": \"ISI\",\n      \"properties\": {\n        \"dtype\": \"number\",\n        \"std\": 4.331542279023223,\n        \"min\": 0.0,\n        \"max\": 19.0,\n        \"num_unique_values\": 92,\n        \"samples\": [\n          13.8,\n          0.5,\n          3.8\n        ],\n        \"semantic_type\": \"\",\n        \"description\": \"\"\n      }\n    },\n    {\n      \"column\": \"BUI\",\n      \"properties\": {\n        \"dtype\": \"number\",\n        \"std\": 14.571729882209015,\n        \"min\": 1.4,\n        \"max\": 68.0,\n        \"num_unique_values\": 139,\n        \"samples\": [\n          4.8,\n          5.5,\n          2.9\n        ],\n        \"semantic_type\": \"\",\n        \"description\": \"\"\n      }\n    },\n    {\n      \"column\": \"Classes\",\n      \"properties\": {\n        \"dtype\": \"number\",\n        \"std\": 0,\n        \"min\": 0,\n        \"max\": 1,\n        \"num_unique_values\": 2,\n        \"samples\": [\n          1,\n          0\n        ],\n        \"semantic_type\": \"\",\n        \"description\": \"\"\n      }\n    },\n    {\n      \"column\": \"Region\",\n      \"properties\": {\n        \"dtype\": \"number\",\n        \"std\": 0,\n        \"min\": 0,\n        \"max\": 1,\n        \"num_unique_values\": 2,\n        \"samples\": [\n          1,\n          0\n        ],\n        \"semantic_type\": \"\",\n        \"description\": \"\"\n      }\n    }\n  ]\n}",
              "type": "dataframe",
              "variable_name": "X_train"
            },
            "text/html": [
              "\n",
              "  <div id=\"df-25456eb6-5220-4b4a-8740-5cc75f96f7f9\" class=\"colab-df-container\">\n",
              "    <div>\n",
              "<style scoped>\n",
              "    .dataframe tbody tr th:only-of-type {\n",
              "        vertical-align: middle;\n",
              "    }\n",
              "\n",
              "    .dataframe tbody tr th {\n",
              "        vertical-align: top;\n",
              "    }\n",
              "\n",
              "    .dataframe thead th {\n",
              "        text-align: right;\n",
              "    }\n",
              "</style>\n",
              "<table border=\"1\" class=\"dataframe\">\n",
              "  <thead>\n",
              "    <tr style=\"text-align: right;\">\n",
              "      <th></th>\n",
              "      <th>Temperature</th>\n",
              "      <th>RH</th>\n",
              "      <th>Ws</th>\n",
              "      <th>Rain</th>\n",
              "      <th>FFMC</th>\n",
              "      <th>DMC</th>\n",
              "      <th>DC</th>\n",
              "      <th>ISI</th>\n",
              "      <th>BUI</th>\n",
              "      <th>Classes</th>\n",
              "      <th>Region</th>\n",
              "    </tr>\n",
              "  </thead>\n",
              "  <tbody>\n",
              "    <tr>\n",
              "      <th>97</th>\n",
              "      <td>29</td>\n",
              "      <td>74</td>\n",
              "      <td>19</td>\n",
              "      <td>0.1</td>\n",
              "      <td>75.8</td>\n",
              "      <td>3.6</td>\n",
              "      <td>32.2</td>\n",
              "      <td>2.1</td>\n",
              "      <td>5.6</td>\n",
              "      <td>0</td>\n",
              "      <td>0</td>\n",
              "    </tr>\n",
              "    <tr>\n",
              "      <th>141</th>\n",
              "      <td>31</td>\n",
              "      <td>72</td>\n",
              "      <td>14</td>\n",
              "      <td>0.2</td>\n",
              "      <td>60.2</td>\n",
              "      <td>3.8</td>\n",
              "      <td>8.0</td>\n",
              "      <td>0.8</td>\n",
              "      <td>3.7</td>\n",
              "      <td>0</td>\n",
              "      <td>1</td>\n",
              "    </tr>\n",
              "    <tr>\n",
              "      <th>192</th>\n",
              "      <td>40</td>\n",
              "      <td>31</td>\n",
              "      <td>15</td>\n",
              "      <td>0.0</td>\n",
              "      <td>94.2</td>\n",
              "      <td>22.5</td>\n",
              "      <td>46.3</td>\n",
              "      <td>16.6</td>\n",
              "      <td>22.4</td>\n",
              "      <td>1</td>\n",
              "      <td>1</td>\n",
              "    </tr>\n",
              "    <tr>\n",
              "      <th>68</th>\n",
              "      <td>32</td>\n",
              "      <td>60</td>\n",
              "      <td>18</td>\n",
              "      <td>0.3</td>\n",
              "      <td>77.1</td>\n",
              "      <td>11.3</td>\n",
              "      <td>47.0</td>\n",
              "      <td>2.2</td>\n",
              "      <td>14.1</td>\n",
              "      <td>0</td>\n",
              "      <td>0</td>\n",
              "    </tr>\n",
              "    <tr>\n",
              "      <th>119</th>\n",
              "      <td>32</td>\n",
              "      <td>47</td>\n",
              "      <td>14</td>\n",
              "      <td>0.7</td>\n",
              "      <td>77.5</td>\n",
              "      <td>7.1</td>\n",
              "      <td>8.8</td>\n",
              "      <td>1.8</td>\n",
              "      <td>6.8</td>\n",
              "      <td>0</td>\n",
              "      <td>0</td>\n",
              "    </tr>\n",
              "    <tr>\n",
              "      <th>...</th>\n",
              "      <td>...</td>\n",
              "      <td>...</td>\n",
              "      <td>...</td>\n",
              "      <td>...</td>\n",
              "      <td>...</td>\n",
              "      <td>...</td>\n",
              "      <td>...</td>\n",
              "      <td>...</td>\n",
              "      <td>...</td>\n",
              "      <td>...</td>\n",
              "      <td>...</td>\n",
              "    </tr>\n",
              "    <tr>\n",
              "      <th>106</th>\n",
              "      <td>24</td>\n",
              "      <td>82</td>\n",
              "      <td>15</td>\n",
              "      <td>0.4</td>\n",
              "      <td>44.9</td>\n",
              "      <td>0.9</td>\n",
              "      <td>7.3</td>\n",
              "      <td>0.2</td>\n",
              "      <td>1.4</td>\n",
              "      <td>0</td>\n",
              "      <td>0</td>\n",
              "    </tr>\n",
              "    <tr>\n",
              "      <th>14</th>\n",
              "      <td>28</td>\n",
              "      <td>80</td>\n",
              "      <td>17</td>\n",
              "      <td>3.1</td>\n",
              "      <td>49.4</td>\n",
              "      <td>3.0</td>\n",
              "      <td>7.4</td>\n",
              "      <td>0.4</td>\n",
              "      <td>3.0</td>\n",
              "      <td>0</td>\n",
              "      <td>0</td>\n",
              "    </tr>\n",
              "    <tr>\n",
              "      <th>92</th>\n",
              "      <td>25</td>\n",
              "      <td>76</td>\n",
              "      <td>17</td>\n",
              "      <td>7.2</td>\n",
              "      <td>46.0</td>\n",
              "      <td>1.3</td>\n",
              "      <td>7.5</td>\n",
              "      <td>0.2</td>\n",
              "      <td>1.8</td>\n",
              "      <td>0</td>\n",
              "      <td>0</td>\n",
              "    </tr>\n",
              "    <tr>\n",
              "      <th>179</th>\n",
              "      <td>34</td>\n",
              "      <td>59</td>\n",
              "      <td>16</td>\n",
              "      <td>0.0</td>\n",
              "      <td>88.1</td>\n",
              "      <td>19.5</td>\n",
              "      <td>47.2</td>\n",
              "      <td>7.4</td>\n",
              "      <td>19.5</td>\n",
              "      <td>1</td>\n",
              "      <td>1</td>\n",
              "    </tr>\n",
              "    <tr>\n",
              "      <th>102</th>\n",
              "      <td>30</td>\n",
              "      <td>77</td>\n",
              "      <td>21</td>\n",
              "      <td>1.8</td>\n",
              "      <td>58.5</td>\n",
              "      <td>1.9</td>\n",
              "      <td>8.4</td>\n",
              "      <td>1.1</td>\n",
              "      <td>2.4</td>\n",
              "      <td>0</td>\n",
              "      <td>0</td>\n",
              "    </tr>\n",
              "  </tbody>\n",
              "</table>\n",
              "<p>182 rows × 11 columns</p>\n",
              "</div>\n",
              "    <div class=\"colab-df-buttons\">\n",
              "\n",
              "  <div class=\"colab-df-container\">\n",
              "    <button class=\"colab-df-convert\" onclick=\"convertToInteractive('df-25456eb6-5220-4b4a-8740-5cc75f96f7f9')\"\n",
              "            title=\"Convert this dataframe to an interactive table.\"\n",
              "            style=\"display:none;\">\n",
              "\n",
              "  <svg xmlns=\"http://www.w3.org/2000/svg\" height=\"24px\" viewBox=\"0 -960 960 960\">\n",
              "    <path d=\"M120-120v-720h720v720H120Zm60-500h600v-160H180v160Zm220 220h160v-160H400v160Zm0 220h160v-160H400v160ZM180-400h160v-160H180v160Zm440 0h160v-160H620v160ZM180-180h160v-160H180v160Zm440 0h160v-160H620v160Z\"/>\n",
              "  </svg>\n",
              "    </button>\n",
              "\n",
              "  <style>\n",
              "    .colab-df-container {\n",
              "      display:flex;\n",
              "      gap: 12px;\n",
              "    }\n",
              "\n",
              "    .colab-df-convert {\n",
              "      background-color: #E8F0FE;\n",
              "      border: none;\n",
              "      border-radius: 50%;\n",
              "      cursor: pointer;\n",
              "      display: none;\n",
              "      fill: #1967D2;\n",
              "      height: 32px;\n",
              "      padding: 0 0 0 0;\n",
              "      width: 32px;\n",
              "    }\n",
              "\n",
              "    .colab-df-convert:hover {\n",
              "      background-color: #E2EBFA;\n",
              "      box-shadow: 0px 1px 2px rgba(60, 64, 67, 0.3), 0px 1px 3px 1px rgba(60, 64, 67, 0.15);\n",
              "      fill: #174EA6;\n",
              "    }\n",
              "\n",
              "    .colab-df-buttons div {\n",
              "      margin-bottom: 4px;\n",
              "    }\n",
              "\n",
              "    [theme=dark] .colab-df-convert {\n",
              "      background-color: #3B4455;\n",
              "      fill: #D2E3FC;\n",
              "    }\n",
              "\n",
              "    [theme=dark] .colab-df-convert:hover {\n",
              "      background-color: #434B5C;\n",
              "      box-shadow: 0px 1px 3px 1px rgba(0, 0, 0, 0.15);\n",
              "      filter: drop-shadow(0px 1px 2px rgba(0, 0, 0, 0.3));\n",
              "      fill: #FFFFFF;\n",
              "    }\n",
              "  </style>\n",
              "\n",
              "    <script>\n",
              "      const buttonEl =\n",
              "        document.querySelector('#df-25456eb6-5220-4b4a-8740-5cc75f96f7f9 button.colab-df-convert');\n",
              "      buttonEl.style.display =\n",
              "        google.colab.kernel.accessAllowed ? 'block' : 'none';\n",
              "\n",
              "      async function convertToInteractive(key) {\n",
              "        const element = document.querySelector('#df-25456eb6-5220-4b4a-8740-5cc75f96f7f9');\n",
              "        const dataTable =\n",
              "          await google.colab.kernel.invokeFunction('convertToInteractive',\n",
              "                                                    [key], {});\n",
              "        if (!dataTable) return;\n",
              "\n",
              "        const docLinkHtml = 'Like what you see? Visit the ' +\n",
              "          '<a target=\"_blank\" href=https://colab.research.google.com/notebooks/data_table.ipynb>data table notebook</a>'\n",
              "          + ' to learn more about interactive tables.';\n",
              "        element.innerHTML = '';\n",
              "        dataTable['output_type'] = 'display_data';\n",
              "        await google.colab.output.renderOutput(dataTable, element);\n",
              "        const docLink = document.createElement('div');\n",
              "        docLink.innerHTML = docLinkHtml;\n",
              "        element.appendChild(docLink);\n",
              "      }\n",
              "    </script>\n",
              "  </div>\n",
              "\n",
              "\n",
              "<div id=\"df-b2230900-c7b9-416e-ba49-951116b90056\">\n",
              "  <button class=\"colab-df-quickchart\" onclick=\"quickchart('df-b2230900-c7b9-416e-ba49-951116b90056')\"\n",
              "            title=\"Suggest charts\"\n",
              "            style=\"display:none;\">\n",
              "\n",
              "<svg xmlns=\"http://www.w3.org/2000/svg\" height=\"24px\"viewBox=\"0 0 24 24\"\n",
              "     width=\"24px\">\n",
              "    <g>\n",
              "        <path d=\"M19 3H5c-1.1 0-2 .9-2 2v14c0 1.1.9 2 2 2h14c1.1 0 2-.9 2-2V5c0-1.1-.9-2-2-2zM9 17H7v-7h2v7zm4 0h-2V7h2v10zm4 0h-2v-4h2v4z\"/>\n",
              "    </g>\n",
              "</svg>\n",
              "  </button>\n",
              "\n",
              "<style>\n",
              "  .colab-df-quickchart {\n",
              "      --bg-color: #E8F0FE;\n",
              "      --fill-color: #1967D2;\n",
              "      --hover-bg-color: #E2EBFA;\n",
              "      --hover-fill-color: #174EA6;\n",
              "      --disabled-fill-color: #AAA;\n",
              "      --disabled-bg-color: #DDD;\n",
              "  }\n",
              "\n",
              "  [theme=dark] .colab-df-quickchart {\n",
              "      --bg-color: #3B4455;\n",
              "      --fill-color: #D2E3FC;\n",
              "      --hover-bg-color: #434B5C;\n",
              "      --hover-fill-color: #FFFFFF;\n",
              "      --disabled-bg-color: #3B4455;\n",
              "      --disabled-fill-color: #666;\n",
              "  }\n",
              "\n",
              "  .colab-df-quickchart {\n",
              "    background-color: var(--bg-color);\n",
              "    border: none;\n",
              "    border-radius: 50%;\n",
              "    cursor: pointer;\n",
              "    display: none;\n",
              "    fill: var(--fill-color);\n",
              "    height: 32px;\n",
              "    padding: 0;\n",
              "    width: 32px;\n",
              "  }\n",
              "\n",
              "  .colab-df-quickchart:hover {\n",
              "    background-color: var(--hover-bg-color);\n",
              "    box-shadow: 0 1px 2px rgba(60, 64, 67, 0.3), 0 1px 3px 1px rgba(60, 64, 67, 0.15);\n",
              "    fill: var(--button-hover-fill-color);\n",
              "  }\n",
              "\n",
              "  .colab-df-quickchart-complete:disabled,\n",
              "  .colab-df-quickchart-complete:disabled:hover {\n",
              "    background-color: var(--disabled-bg-color);\n",
              "    fill: var(--disabled-fill-color);\n",
              "    box-shadow: none;\n",
              "  }\n",
              "\n",
              "  .colab-df-spinner {\n",
              "    border: 2px solid var(--fill-color);\n",
              "    border-color: transparent;\n",
              "    border-bottom-color: var(--fill-color);\n",
              "    animation:\n",
              "      spin 1s steps(1) infinite;\n",
              "  }\n",
              "\n",
              "  @keyframes spin {\n",
              "    0% {\n",
              "      border-color: transparent;\n",
              "      border-bottom-color: var(--fill-color);\n",
              "      border-left-color: var(--fill-color);\n",
              "    }\n",
              "    20% {\n",
              "      border-color: transparent;\n",
              "      border-left-color: var(--fill-color);\n",
              "      border-top-color: var(--fill-color);\n",
              "    }\n",
              "    30% {\n",
              "      border-color: transparent;\n",
              "      border-left-color: var(--fill-color);\n",
              "      border-top-color: var(--fill-color);\n",
              "      border-right-color: var(--fill-color);\n",
              "    }\n",
              "    40% {\n",
              "      border-color: transparent;\n",
              "      border-right-color: var(--fill-color);\n",
              "      border-top-color: var(--fill-color);\n",
              "    }\n",
              "    60% {\n",
              "      border-color: transparent;\n",
              "      border-right-color: var(--fill-color);\n",
              "    }\n",
              "    80% {\n",
              "      border-color: transparent;\n",
              "      border-right-color: var(--fill-color);\n",
              "      border-bottom-color: var(--fill-color);\n",
              "    }\n",
              "    90% {\n",
              "      border-color: transparent;\n",
              "      border-bottom-color: var(--fill-color);\n",
              "    }\n",
              "  }\n",
              "</style>\n",
              "\n",
              "  <script>\n",
              "    async function quickchart(key) {\n",
              "      const quickchartButtonEl =\n",
              "        document.querySelector('#' + key + ' button');\n",
              "      quickchartButtonEl.disabled = true;  // To prevent multiple clicks.\n",
              "      quickchartButtonEl.classList.add('colab-df-spinner');\n",
              "      try {\n",
              "        const charts = await google.colab.kernel.invokeFunction(\n",
              "            'suggestCharts', [key], {});\n",
              "      } catch (error) {\n",
              "        console.error('Error during call to suggestCharts:', error);\n",
              "      }\n",
              "      quickchartButtonEl.classList.remove('colab-df-spinner');\n",
              "      quickchartButtonEl.classList.add('colab-df-quickchart-complete');\n",
              "    }\n",
              "    (() => {\n",
              "      let quickchartButtonEl =\n",
              "        document.querySelector('#df-b2230900-c7b9-416e-ba49-951116b90056 button');\n",
              "      quickchartButtonEl.style.display =\n",
              "        google.colab.kernel.accessAllowed ? 'block' : 'none';\n",
              "    })();\n",
              "  </script>\n",
              "</div>\n",
              "\n",
              "  <div id=\"id_da893f91-6d86-49f8-bcbd-5a31675ca1a1\">\n",
              "    <style>\n",
              "      .colab-df-generate {\n",
              "        background-color: #E8F0FE;\n",
              "        border: none;\n",
              "        border-radius: 50%;\n",
              "        cursor: pointer;\n",
              "        display: none;\n",
              "        fill: #1967D2;\n",
              "        height: 32px;\n",
              "        padding: 0 0 0 0;\n",
              "        width: 32px;\n",
              "      }\n",
              "\n",
              "      .colab-df-generate:hover {\n",
              "        background-color: #E2EBFA;\n",
              "        box-shadow: 0px 1px 2px rgba(60, 64, 67, 0.3), 0px 1px 3px 1px rgba(60, 64, 67, 0.15);\n",
              "        fill: #174EA6;\n",
              "      }\n",
              "\n",
              "      [theme=dark] .colab-df-generate {\n",
              "        background-color: #3B4455;\n",
              "        fill: #D2E3FC;\n",
              "      }\n",
              "\n",
              "      [theme=dark] .colab-df-generate:hover {\n",
              "        background-color: #434B5C;\n",
              "        box-shadow: 0px 1px 3px 1px rgba(0, 0, 0, 0.15);\n",
              "        filter: drop-shadow(0px 1px 2px rgba(0, 0, 0, 0.3));\n",
              "        fill: #FFFFFF;\n",
              "      }\n",
              "    </style>\n",
              "    <button class=\"colab-df-generate\" onclick=\"generateWithVariable('X_train')\"\n",
              "            title=\"Generate code using this dataframe.\"\n",
              "            style=\"display:none;\">\n",
              "\n",
              "  <svg xmlns=\"http://www.w3.org/2000/svg\" height=\"24px\"viewBox=\"0 0 24 24\"\n",
              "       width=\"24px\">\n",
              "    <path d=\"M7,19H8.4L18.45,9,17,7.55,7,17.6ZM5,21V16.75L18.45,3.32a2,2,0,0,1,2.83,0l1.4,1.43a1.91,1.91,0,0,1,.58,1.4,1.91,1.91,0,0,1-.58,1.4L9.25,21ZM18.45,9,17,7.55Zm-12,3A5.31,5.31,0,0,0,4.9,8.1,5.31,5.31,0,0,0,1,6.5,5.31,5.31,0,0,0,4.9,4.9,5.31,5.31,0,0,0,6.5,1,5.31,5.31,0,0,0,8.1,4.9,5.31,5.31,0,0,0,12,6.5,5.46,5.46,0,0,0,6.5,12Z\"/>\n",
              "  </svg>\n",
              "    </button>\n",
              "    <script>\n",
              "      (() => {\n",
              "      const buttonEl =\n",
              "        document.querySelector('#id_da893f91-6d86-49f8-bcbd-5a31675ca1a1 button.colab-df-generate');\n",
              "      buttonEl.style.display =\n",
              "        google.colab.kernel.accessAllowed ? 'block' : 'none';\n",
              "\n",
              "      buttonEl.onclick = () => {\n",
              "        google.colab.notebook.generateWithVariable('X_train');\n",
              "      }\n",
              "      })();\n",
              "    </script>\n",
              "  </div>\n",
              "\n",
              "    </div>\n",
              "  </div>\n"
            ],
            "text/plain": [
              "     Temperature  RH  Ws  Rain  FFMC   DMC    DC   ISI   BUI  Classes  Region\n",
              "97            29  74  19   0.1  75.8   3.6  32.2   2.1   5.6        0       0\n",
              "141           31  72  14   0.2  60.2   3.8   8.0   0.8   3.7        0       1\n",
              "192           40  31  15   0.0  94.2  22.5  46.3  16.6  22.4        1       1\n",
              "68            32  60  18   0.3  77.1  11.3  47.0   2.2  14.1        0       0\n",
              "119           32  47  14   0.7  77.5   7.1   8.8   1.8   6.8        0       0\n",
              "..           ...  ..  ..   ...   ...   ...   ...   ...   ...      ...     ...\n",
              "106           24  82  15   0.4  44.9   0.9   7.3   0.2   1.4        0       0\n",
              "14            28  80  17   3.1  49.4   3.0   7.4   0.4   3.0        0       0\n",
              "92            25  76  17   7.2  46.0   1.3   7.5   0.2   1.8        0       0\n",
              "179           34  59  16   0.0  88.1  19.5  47.2   7.4  19.5        1       1\n",
              "102           30  77  21   1.8  58.5   1.9   8.4   1.1   2.4        0       0\n",
              "\n",
              "[182 rows x 11 columns]"
            ]
          },
          "execution_count": 164,
          "metadata": {},
          "output_type": "execute_result"
        }
      ],
      "source": [
        "## drop features when correlation is more than 0.85\n",
        "X_train"
      ]
    },
    {
      "cell_type": "code",
      "execution_count": 165,
      "metadata": {
        "colab": {
          "base_uri": "https://localhost:8080/",
          "height": 424
        },
        "id": "fJ676oBBv8cr",
        "outputId": "e372736d-d5d3-486f-969e-85ce717b1519"
      },
      "outputs": [
        {
          "data": {
            "application/vnd.google.colaboratory.intrinsic+json": {
              "summary": "{\n  \"name\": \"X_test\",\n  \"rows\": 61,\n  \"fields\": [\n    {\n      \"column\": \"Temperature\",\n      \"properties\": {\n        \"dtype\": \"number\",\n        \"std\": 3,\n        \"min\": 22,\n        \"max\": 39,\n        \"num_unique_values\": 15,\n        \"samples\": [\n          36,\n          29,\n          31\n        ],\n        \"semantic_type\": \"\",\n        \"description\": \"\"\n      }\n    },\n    {\n      \"column\": \"RH\",\n      \"properties\": {\n        \"dtype\": \"number\",\n        \"std\": 14,\n        \"min\": 33,\n        \"max\": 89,\n        \"num_unique_values\": 36,\n        \"samples\": [\n          33,\n          89,\n          40\n        ],\n        \"semantic_type\": \"\",\n        \"description\": \"\"\n      }\n    },\n    {\n      \"column\": \"Ws\",\n      \"properties\": {\n        \"dtype\": \"number\",\n        \"std\": 3,\n        \"min\": 6,\n        \"max\": 29,\n        \"num_unique_values\": 13,\n        \"samples\": [\n          17,\n          6,\n          15\n        ],\n        \"semantic_type\": \"\",\n        \"description\": \"\"\n      }\n    },\n    {\n      \"column\": \"Rain\",\n      \"properties\": {\n        \"dtype\": \"number\",\n        \"std\": 1.5123607283573568,\n        \"min\": 0.0,\n        \"max\": 10.1,\n        \"num_unique_values\": 17,\n        \"samples\": [\n          0.0,\n          2.2,\n          0.4\n        ],\n        \"semantic_type\": \"\",\n        \"description\": \"\"\n      }\n    },\n    {\n      \"column\": \"FFMC\",\n      \"properties\": {\n        \"dtype\": \"number\",\n        \"std\": 14.426629142502435,\n        \"min\": 30.5,\n        \"max\": 93.8,\n        \"num_unique_values\": 59,\n        \"samples\": [\n          86.7,\n          73.8,\n          79.9\n        ],\n        \"semantic_type\": \"\",\n        \"description\": \"\"\n      }\n    },\n    {\n      \"column\": \"DMC\",\n      \"properties\": {\n        \"dtype\": \"number\",\n        \"std\": 11.690050414284988,\n        \"min\": 0.7,\n        \"max\": 61.3,\n        \"num_unique_values\": 57,\n        \"samples\": [\n          14.2,\n          11.7,\n          4.0\n        ],\n        \"semantic_type\": \"\",\n        \"description\": \"\"\n      }\n    },\n    {\n      \"column\": \"DC\",\n      \"properties\": {\n        \"dtype\": \"number\",\n        \"std\": 45.52571866658768,\n        \"min\": 7.0,\n        \"max\": 190.6,\n        \"num_unique_values\": 58,\n        \"samples\": [\n          63.8,\n          15.9,\n          17.6\n        ],\n        \"semantic_type\": \"\",\n        \"description\": \"\"\n      }\n    },\n    {\n      \"column\": \"ISI\",\n      \"properties\": {\n        \"dtype\": \"number\",\n        \"std\": 3.596391634247478,\n        \"min\": 0.0,\n        \"max\": 15.7,\n        \"num_unique_values\": 50,\n        \"samples\": [\n          9.9,\n          5.5,\n          2.5\n        ],\n        \"semantic_type\": \"\",\n        \"description\": \"\"\n      }\n    },\n    {\n      \"column\": \"BUI\",\n      \"properties\": {\n        \"dtype\": \"number\",\n        \"std\": 13.257640749822952,\n        \"min\": 1.1,\n        \"max\": 64.0,\n        \"num_unique_values\": 56,\n        \"samples\": [\n          18.3,\n          11.4,\n          4.1\n        ],\n        \"semantic_type\": \"\",\n        \"description\": \"\"\n      }\n    },\n    {\n      \"column\": \"Classes\",\n      \"properties\": {\n        \"dtype\": \"number\",\n        \"std\": 0,\n        \"min\": 0,\n        \"max\": 1,\n        \"num_unique_values\": 2,\n        \"samples\": [\n          0,\n          1\n        ],\n        \"semantic_type\": \"\",\n        \"description\": \"\"\n      }\n    },\n    {\n      \"column\": \"Region\",\n      \"properties\": {\n        \"dtype\": \"number\",\n        \"std\": 0,\n        \"min\": 0,\n        \"max\": 1,\n        \"num_unique_values\": 2,\n        \"samples\": [\n          1,\n          0\n        ],\n        \"semantic_type\": \"\",\n        \"description\": \"\"\n      }\n    }\n  ]\n}",
              "type": "dataframe",
              "variable_name": "X_test"
            },
            "text/html": [
              "\n",
              "  <div id=\"df-f1379ec6-9cb9-44a5-a8a2-ee13b6b030c4\" class=\"colab-df-container\">\n",
              "    <div>\n",
              "<style scoped>\n",
              "    .dataframe tbody tr th:only-of-type {\n",
              "        vertical-align: middle;\n",
              "    }\n",
              "\n",
              "    .dataframe tbody tr th {\n",
              "        vertical-align: top;\n",
              "    }\n",
              "\n",
              "    .dataframe thead th {\n",
              "        text-align: right;\n",
              "    }\n",
              "</style>\n",
              "<table border=\"1\" class=\"dataframe\">\n",
              "  <thead>\n",
              "    <tr style=\"text-align: right;\">\n",
              "      <th></th>\n",
              "      <th>Temperature</th>\n",
              "      <th>RH</th>\n",
              "      <th>Ws</th>\n",
              "      <th>Rain</th>\n",
              "      <th>FFMC</th>\n",
              "      <th>DMC</th>\n",
              "      <th>DC</th>\n",
              "      <th>ISI</th>\n",
              "      <th>BUI</th>\n",
              "      <th>Classes</th>\n",
              "      <th>Region</th>\n",
              "    </tr>\n",
              "  </thead>\n",
              "  <tbody>\n",
              "    <tr>\n",
              "      <th>24</th>\n",
              "      <td>31</td>\n",
              "      <td>64</td>\n",
              "      <td>15</td>\n",
              "      <td>0.0</td>\n",
              "      <td>86.7</td>\n",
              "      <td>14.2</td>\n",
              "      <td>63.8</td>\n",
              "      <td>5.7</td>\n",
              "      <td>18.3</td>\n",
              "      <td>1</td>\n",
              "      <td>0</td>\n",
              "    </tr>\n",
              "    <tr>\n",
              "      <th>6</th>\n",
              "      <td>33</td>\n",
              "      <td>54</td>\n",
              "      <td>13</td>\n",
              "      <td>0.0</td>\n",
              "      <td>88.2</td>\n",
              "      <td>9.9</td>\n",
              "      <td>30.5</td>\n",
              "      <td>6.4</td>\n",
              "      <td>10.9</td>\n",
              "      <td>1</td>\n",
              "      <td>0</td>\n",
              "    </tr>\n",
              "    <tr>\n",
              "      <th>152</th>\n",
              "      <td>28</td>\n",
              "      <td>58</td>\n",
              "      <td>18</td>\n",
              "      <td>2.2</td>\n",
              "      <td>63.7</td>\n",
              "      <td>3.2</td>\n",
              "      <td>8.5</td>\n",
              "      <td>1.2</td>\n",
              "      <td>3.3</td>\n",
              "      <td>0</td>\n",
              "      <td>1</td>\n",
              "    </tr>\n",
              "    <tr>\n",
              "      <th>232</th>\n",
              "      <td>34</td>\n",
              "      <td>58</td>\n",
              "      <td>13</td>\n",
              "      <td>0.2</td>\n",
              "      <td>79.5</td>\n",
              "      <td>18.7</td>\n",
              "      <td>88.0</td>\n",
              "      <td>2.1</td>\n",
              "      <td>24.4</td>\n",
              "      <td>0</td>\n",
              "      <td>1</td>\n",
              "    </tr>\n",
              "    <tr>\n",
              "      <th>238</th>\n",
              "      <td>30</td>\n",
              "      <td>65</td>\n",
              "      <td>14</td>\n",
              "      <td>0.0</td>\n",
              "      <td>85.4</td>\n",
              "      <td>16.0</td>\n",
              "      <td>44.5</td>\n",
              "      <td>4.5</td>\n",
              "      <td>16.9</td>\n",
              "      <td>1</td>\n",
              "      <td>1</td>\n",
              "    </tr>\n",
              "    <tr>\n",
              "      <th>...</th>\n",
              "      <td>...</td>\n",
              "      <td>...</td>\n",
              "      <td>...</td>\n",
              "      <td>...</td>\n",
              "      <td>...</td>\n",
              "      <td>...</td>\n",
              "      <td>...</td>\n",
              "      <td>...</td>\n",
              "      <td>...</td>\n",
              "      <td>...</td>\n",
              "      <td>...</td>\n",
              "    </tr>\n",
              "    <tr>\n",
              "      <th>162</th>\n",
              "      <td>34</td>\n",
              "      <td>56</td>\n",
              "      <td>15</td>\n",
              "      <td>2.9</td>\n",
              "      <td>74.8</td>\n",
              "      <td>7.1</td>\n",
              "      <td>9.5</td>\n",
              "      <td>1.6</td>\n",
              "      <td>6.8</td>\n",
              "      <td>0</td>\n",
              "      <td>1</td>\n",
              "    </tr>\n",
              "    <tr>\n",
              "      <th>178</th>\n",
              "      <td>33</td>\n",
              "      <td>57</td>\n",
              "      <td>16</td>\n",
              "      <td>0.0</td>\n",
              "      <td>87.5</td>\n",
              "      <td>15.7</td>\n",
              "      <td>37.6</td>\n",
              "      <td>6.7</td>\n",
              "      <td>15.7</td>\n",
              "      <td>1</td>\n",
              "      <td>1</td>\n",
              "    </tr>\n",
              "    <tr>\n",
              "      <th>224</th>\n",
              "      <td>31</td>\n",
              "      <td>72</td>\n",
              "      <td>14</td>\n",
              "      <td>0.0</td>\n",
              "      <td>84.2</td>\n",
              "      <td>8.3</td>\n",
              "      <td>25.2</td>\n",
              "      <td>3.8</td>\n",
              "      <td>9.1</td>\n",
              "      <td>1</td>\n",
              "      <td>1</td>\n",
              "    </tr>\n",
              "    <tr>\n",
              "      <th>230</th>\n",
              "      <td>36</td>\n",
              "      <td>33</td>\n",
              "      <td>13</td>\n",
              "      <td>0.1</td>\n",
              "      <td>90.6</td>\n",
              "      <td>25.8</td>\n",
              "      <td>77.8</td>\n",
              "      <td>9.0</td>\n",
              "      <td>28.2</td>\n",
              "      <td>1</td>\n",
              "      <td>1</td>\n",
              "    </tr>\n",
              "    <tr>\n",
              "      <th>154</th>\n",
              "      <td>34</td>\n",
              "      <td>56</td>\n",
              "      <td>17</td>\n",
              "      <td>0.1</td>\n",
              "      <td>84.7</td>\n",
              "      <td>9.7</td>\n",
              "      <td>27.3</td>\n",
              "      <td>4.7</td>\n",
              "      <td>10.3</td>\n",
              "      <td>1</td>\n",
              "      <td>1</td>\n",
              "    </tr>\n",
              "  </tbody>\n",
              "</table>\n",
              "<p>61 rows × 11 columns</p>\n",
              "</div>\n",
              "    <div class=\"colab-df-buttons\">\n",
              "\n",
              "  <div class=\"colab-df-container\">\n",
              "    <button class=\"colab-df-convert\" onclick=\"convertToInteractive('df-f1379ec6-9cb9-44a5-a8a2-ee13b6b030c4')\"\n",
              "            title=\"Convert this dataframe to an interactive table.\"\n",
              "            style=\"display:none;\">\n",
              "\n",
              "  <svg xmlns=\"http://www.w3.org/2000/svg\" height=\"24px\" viewBox=\"0 -960 960 960\">\n",
              "    <path d=\"M120-120v-720h720v720H120Zm60-500h600v-160H180v160Zm220 220h160v-160H400v160Zm0 220h160v-160H400v160ZM180-400h160v-160H180v160Zm440 0h160v-160H620v160ZM180-180h160v-160H180v160Zm440 0h160v-160H620v160Z\"/>\n",
              "  </svg>\n",
              "    </button>\n",
              "\n",
              "  <style>\n",
              "    .colab-df-container {\n",
              "      display:flex;\n",
              "      gap: 12px;\n",
              "    }\n",
              "\n",
              "    .colab-df-convert {\n",
              "      background-color: #E8F0FE;\n",
              "      border: none;\n",
              "      border-radius: 50%;\n",
              "      cursor: pointer;\n",
              "      display: none;\n",
              "      fill: #1967D2;\n",
              "      height: 32px;\n",
              "      padding: 0 0 0 0;\n",
              "      width: 32px;\n",
              "    }\n",
              "\n",
              "    .colab-df-convert:hover {\n",
              "      background-color: #E2EBFA;\n",
              "      box-shadow: 0px 1px 2px rgba(60, 64, 67, 0.3), 0px 1px 3px 1px rgba(60, 64, 67, 0.15);\n",
              "      fill: #174EA6;\n",
              "    }\n",
              "\n",
              "    .colab-df-buttons div {\n",
              "      margin-bottom: 4px;\n",
              "    }\n",
              "\n",
              "    [theme=dark] .colab-df-convert {\n",
              "      background-color: #3B4455;\n",
              "      fill: #D2E3FC;\n",
              "    }\n",
              "\n",
              "    [theme=dark] .colab-df-convert:hover {\n",
              "      background-color: #434B5C;\n",
              "      box-shadow: 0px 1px 3px 1px rgba(0, 0, 0, 0.15);\n",
              "      filter: drop-shadow(0px 1px 2px rgba(0, 0, 0, 0.3));\n",
              "      fill: #FFFFFF;\n",
              "    }\n",
              "  </style>\n",
              "\n",
              "    <script>\n",
              "      const buttonEl =\n",
              "        document.querySelector('#df-f1379ec6-9cb9-44a5-a8a2-ee13b6b030c4 button.colab-df-convert');\n",
              "      buttonEl.style.display =\n",
              "        google.colab.kernel.accessAllowed ? 'block' : 'none';\n",
              "\n",
              "      async function convertToInteractive(key) {\n",
              "        const element = document.querySelector('#df-f1379ec6-9cb9-44a5-a8a2-ee13b6b030c4');\n",
              "        const dataTable =\n",
              "          await google.colab.kernel.invokeFunction('convertToInteractive',\n",
              "                                                    [key], {});\n",
              "        if (!dataTable) return;\n",
              "\n",
              "        const docLinkHtml = 'Like what you see? Visit the ' +\n",
              "          '<a target=\"_blank\" href=https://colab.research.google.com/notebooks/data_table.ipynb>data table notebook</a>'\n",
              "          + ' to learn more about interactive tables.';\n",
              "        element.innerHTML = '';\n",
              "        dataTable['output_type'] = 'display_data';\n",
              "        await google.colab.output.renderOutput(dataTable, element);\n",
              "        const docLink = document.createElement('div');\n",
              "        docLink.innerHTML = docLinkHtml;\n",
              "        element.appendChild(docLink);\n",
              "      }\n",
              "    </script>\n",
              "  </div>\n",
              "\n",
              "\n",
              "<div id=\"df-9c65a0a2-4978-4d65-b763-8455be41c922\">\n",
              "  <button class=\"colab-df-quickchart\" onclick=\"quickchart('df-9c65a0a2-4978-4d65-b763-8455be41c922')\"\n",
              "            title=\"Suggest charts\"\n",
              "            style=\"display:none;\">\n",
              "\n",
              "<svg xmlns=\"http://www.w3.org/2000/svg\" height=\"24px\"viewBox=\"0 0 24 24\"\n",
              "     width=\"24px\">\n",
              "    <g>\n",
              "        <path d=\"M19 3H5c-1.1 0-2 .9-2 2v14c0 1.1.9 2 2 2h14c1.1 0 2-.9 2-2V5c0-1.1-.9-2-2-2zM9 17H7v-7h2v7zm4 0h-2V7h2v10zm4 0h-2v-4h2v4z\"/>\n",
              "    </g>\n",
              "</svg>\n",
              "  </button>\n",
              "\n",
              "<style>\n",
              "  .colab-df-quickchart {\n",
              "      --bg-color: #E8F0FE;\n",
              "      --fill-color: #1967D2;\n",
              "      --hover-bg-color: #E2EBFA;\n",
              "      --hover-fill-color: #174EA6;\n",
              "      --disabled-fill-color: #AAA;\n",
              "      --disabled-bg-color: #DDD;\n",
              "  }\n",
              "\n",
              "  [theme=dark] .colab-df-quickchart {\n",
              "      --bg-color: #3B4455;\n",
              "      --fill-color: #D2E3FC;\n",
              "      --hover-bg-color: #434B5C;\n",
              "      --hover-fill-color: #FFFFFF;\n",
              "      --disabled-bg-color: #3B4455;\n",
              "      --disabled-fill-color: #666;\n",
              "  }\n",
              "\n",
              "  .colab-df-quickchart {\n",
              "    background-color: var(--bg-color);\n",
              "    border: none;\n",
              "    border-radius: 50%;\n",
              "    cursor: pointer;\n",
              "    display: none;\n",
              "    fill: var(--fill-color);\n",
              "    height: 32px;\n",
              "    padding: 0;\n",
              "    width: 32px;\n",
              "  }\n",
              "\n",
              "  .colab-df-quickchart:hover {\n",
              "    background-color: var(--hover-bg-color);\n",
              "    box-shadow: 0 1px 2px rgba(60, 64, 67, 0.3), 0 1px 3px 1px rgba(60, 64, 67, 0.15);\n",
              "    fill: var(--button-hover-fill-color);\n",
              "  }\n",
              "\n",
              "  .colab-df-quickchart-complete:disabled,\n",
              "  .colab-df-quickchart-complete:disabled:hover {\n",
              "    background-color: var(--disabled-bg-color);\n",
              "    fill: var(--disabled-fill-color);\n",
              "    box-shadow: none;\n",
              "  }\n",
              "\n",
              "  .colab-df-spinner {\n",
              "    border: 2px solid var(--fill-color);\n",
              "    border-color: transparent;\n",
              "    border-bottom-color: var(--fill-color);\n",
              "    animation:\n",
              "      spin 1s steps(1) infinite;\n",
              "  }\n",
              "\n",
              "  @keyframes spin {\n",
              "    0% {\n",
              "      border-color: transparent;\n",
              "      border-bottom-color: var(--fill-color);\n",
              "      border-left-color: var(--fill-color);\n",
              "    }\n",
              "    20% {\n",
              "      border-color: transparent;\n",
              "      border-left-color: var(--fill-color);\n",
              "      border-top-color: var(--fill-color);\n",
              "    }\n",
              "    30% {\n",
              "      border-color: transparent;\n",
              "      border-left-color: var(--fill-color);\n",
              "      border-top-color: var(--fill-color);\n",
              "      border-right-color: var(--fill-color);\n",
              "    }\n",
              "    40% {\n",
              "      border-color: transparent;\n",
              "      border-right-color: var(--fill-color);\n",
              "      border-top-color: var(--fill-color);\n",
              "    }\n",
              "    60% {\n",
              "      border-color: transparent;\n",
              "      border-right-color: var(--fill-color);\n",
              "    }\n",
              "    80% {\n",
              "      border-color: transparent;\n",
              "      border-right-color: var(--fill-color);\n",
              "      border-bottom-color: var(--fill-color);\n",
              "    }\n",
              "    90% {\n",
              "      border-color: transparent;\n",
              "      border-bottom-color: var(--fill-color);\n",
              "    }\n",
              "  }\n",
              "</style>\n",
              "\n",
              "  <script>\n",
              "    async function quickchart(key) {\n",
              "      const quickchartButtonEl =\n",
              "        document.querySelector('#' + key + ' button');\n",
              "      quickchartButtonEl.disabled = true;  // To prevent multiple clicks.\n",
              "      quickchartButtonEl.classList.add('colab-df-spinner');\n",
              "      try {\n",
              "        const charts = await google.colab.kernel.invokeFunction(\n",
              "            'suggestCharts', [key], {});\n",
              "      } catch (error) {\n",
              "        console.error('Error during call to suggestCharts:', error);\n",
              "      }\n",
              "      quickchartButtonEl.classList.remove('colab-df-spinner');\n",
              "      quickchartButtonEl.classList.add('colab-df-quickchart-complete');\n",
              "    }\n",
              "    (() => {\n",
              "      let quickchartButtonEl =\n",
              "        document.querySelector('#df-9c65a0a2-4978-4d65-b763-8455be41c922 button');\n",
              "      quickchartButtonEl.style.display =\n",
              "        google.colab.kernel.accessAllowed ? 'block' : 'none';\n",
              "    })();\n",
              "  </script>\n",
              "</div>\n",
              "\n",
              "  <div id=\"id_01e3533d-ca27-4e4b-b2c0-0f2e78cd75d0\">\n",
              "    <style>\n",
              "      .colab-df-generate {\n",
              "        background-color: #E8F0FE;\n",
              "        border: none;\n",
              "        border-radius: 50%;\n",
              "        cursor: pointer;\n",
              "        display: none;\n",
              "        fill: #1967D2;\n",
              "        height: 32px;\n",
              "        padding: 0 0 0 0;\n",
              "        width: 32px;\n",
              "      }\n",
              "\n",
              "      .colab-df-generate:hover {\n",
              "        background-color: #E2EBFA;\n",
              "        box-shadow: 0px 1px 2px rgba(60, 64, 67, 0.3), 0px 1px 3px 1px rgba(60, 64, 67, 0.15);\n",
              "        fill: #174EA6;\n",
              "      }\n",
              "\n",
              "      [theme=dark] .colab-df-generate {\n",
              "        background-color: #3B4455;\n",
              "        fill: #D2E3FC;\n",
              "      }\n",
              "\n",
              "      [theme=dark] .colab-df-generate:hover {\n",
              "        background-color: #434B5C;\n",
              "        box-shadow: 0px 1px 3px 1px rgba(0, 0, 0, 0.15);\n",
              "        filter: drop-shadow(0px 1px 2px rgba(0, 0, 0, 0.3));\n",
              "        fill: #FFFFFF;\n",
              "      }\n",
              "    </style>\n",
              "    <button class=\"colab-df-generate\" onclick=\"generateWithVariable('X_test')\"\n",
              "            title=\"Generate code using this dataframe.\"\n",
              "            style=\"display:none;\">\n",
              "\n",
              "  <svg xmlns=\"http://www.w3.org/2000/svg\" height=\"24px\"viewBox=\"0 0 24 24\"\n",
              "       width=\"24px\">\n",
              "    <path d=\"M7,19H8.4L18.45,9,17,7.55,7,17.6ZM5,21V16.75L18.45,3.32a2,2,0,0,1,2.83,0l1.4,1.43a1.91,1.91,0,0,1,.58,1.4,1.91,1.91,0,0,1-.58,1.4L9.25,21ZM18.45,9,17,7.55Zm-12,3A5.31,5.31,0,0,0,4.9,8.1,5.31,5.31,0,0,0,1,6.5,5.31,5.31,0,0,0,4.9,4.9,5.31,5.31,0,0,0,6.5,1,5.31,5.31,0,0,0,8.1,4.9,5.31,5.31,0,0,0,12,6.5,5.46,5.46,0,0,0,6.5,12Z\"/>\n",
              "  </svg>\n",
              "    </button>\n",
              "    <script>\n",
              "      (() => {\n",
              "      const buttonEl =\n",
              "        document.querySelector('#id_01e3533d-ca27-4e4b-b2c0-0f2e78cd75d0 button.colab-df-generate');\n",
              "      buttonEl.style.display =\n",
              "        google.colab.kernel.accessAllowed ? 'block' : 'none';\n",
              "\n",
              "      buttonEl.onclick = () => {\n",
              "        google.colab.notebook.generateWithVariable('X_test');\n",
              "      }\n",
              "      })();\n",
              "    </script>\n",
              "  </div>\n",
              "\n",
              "    </div>\n",
              "  </div>\n"
            ],
            "text/plain": [
              "     Temperature  RH  Ws  Rain  FFMC   DMC    DC  ISI   BUI  Classes  Region\n",
              "24            31  64  15   0.0  86.7  14.2  63.8  5.7  18.3        1       0\n",
              "6             33  54  13   0.0  88.2   9.9  30.5  6.4  10.9        1       0\n",
              "152           28  58  18   2.2  63.7   3.2   8.5  1.2   3.3        0       1\n",
              "232           34  58  13   0.2  79.5  18.7  88.0  2.1  24.4        0       1\n",
              "238           30  65  14   0.0  85.4  16.0  44.5  4.5  16.9        1       1\n",
              "..           ...  ..  ..   ...   ...   ...   ...  ...   ...      ...     ...\n",
              "162           34  56  15   2.9  74.8   7.1   9.5  1.6   6.8        0       1\n",
              "178           33  57  16   0.0  87.5  15.7  37.6  6.7  15.7        1       1\n",
              "224           31  72  14   0.0  84.2   8.3  25.2  3.8   9.1        1       1\n",
              "230           36  33  13   0.1  90.6  25.8  77.8  9.0  28.2        1       1\n",
              "154           34  56  17   0.1  84.7   9.7  27.3  4.7  10.3        1       1\n",
              "\n",
              "[61 rows x 11 columns]"
            ]
          },
          "execution_count": 165,
          "metadata": {},
          "output_type": "execute_result"
        }
      ],
      "source": [
        "X_test"
      ]
    },
    {
      "cell_type": "code",
      "execution_count": 166,
      "metadata": {
        "id": "ro7ZKvWCwDqD"
      },
      "outputs": [],
      "source": [
        "X_train.drop(corr_features, axis = 1, inplace = True)"
      ]
    },
    {
      "cell_type": "code",
      "execution_count": 167,
      "metadata": {
        "id": "TANXtWAIwNy3"
      },
      "outputs": [],
      "source": [
        "X_test.drop(corr_features, axis = 1, inplace = True)"
      ]
    },
    {
      "cell_type": "code",
      "execution_count": 168,
      "metadata": {
        "colab": {
          "base_uri": "https://localhost:8080/"
        },
        "id": "saU19iRJwVC-",
        "outputId": "ddc69ed7-2f41-42d8-a959-b8d409d152dc"
      },
      "outputs": [
        {
          "name": "stdout",
          "output_type": "stream",
          "text": [
            "(182, 9) (61, 9)\n"
          ]
        }
      ],
      "source": [
        "print(X_train.shape, X_test.shape)"
      ]
    },
    {
      "cell_type": "markdown",
      "metadata": {
        "id": "uwRN-N6jwmUK"
      },
      "source": [
        "**FEATURE SCALING OR STANDARDIZATION:**"
      ]
    },
    {
      "cell_type": "code",
      "execution_count": 169,
      "metadata": {
        "id": "2iaU2Eh1wlar"
      },
      "outputs": [],
      "source": [
        "from sklearn.preprocessing import StandardScaler\n",
        "\n",
        "sc = StandardScaler()\n",
        "\n",
        "X_train_scaled = sc.fit_transform(X_train)"
      ]
    },
    {
      "cell_type": "code",
      "execution_count": 170,
      "metadata": {
        "colab": {
          "base_uri": "https://localhost:8080/"
        },
        "id": "Gva4EkEaw9QA",
        "outputId": "c1e0f4b1-cbf0-49d6-e005-6a34ccd8ebf3"
      },
      "outputs": [
        {
          "name": "stdout",
          "output_type": "stream",
          "text": [
            "[[-0.84284248  0.78307967  1.29972026 ... -0.62963326 -1.10431526\n",
            "  -0.98907071]\n",
            " [-0.30175842  0.64950844 -0.59874754 ... -0.93058524 -1.10431526\n",
            "   1.01105006]\n",
            " [ 2.13311985 -2.08870172 -0.21905398 ...  2.7271388   0.90553851\n",
            "   1.01105006]\n",
            " ...\n",
            " [-1.9250106   0.9166509   0.54033314 ... -1.06948615 -1.10431526\n",
            "  -0.98907071]\n",
            " [ 0.50986767 -0.21870454  0.16063958 ...  0.5973248   0.90553851\n",
            "   1.01105006]\n",
            " [-0.57230045  0.98343651  2.05910739 ... -0.86113478 -1.10431526\n",
            "  -0.98907071]]\n"
          ]
        }
      ],
      "source": [
        "print(X_train_scaled)"
      ]
    },
    {
      "cell_type": "code",
      "execution_count": 171,
      "metadata": {
        "id": "jFOBTfe0xBty"
      },
      "outputs": [],
      "source": [
        "X_test_scaled = sc.transform(X_test)"
      ]
    },
    {
      "cell_type": "code",
      "execution_count": 172,
      "metadata": {
        "colab": {
          "base_uri": "https://localhost:8080/"
        },
        "id": "3TkvQmIExF4I",
        "outputId": "c09e246a-7e58-4f3c-9986-39624e189ed8"
      },
      "outputs": [
        {
          "name": "stdout",
          "output_type": "stream",
          "text": [
            "[[-3.01758418e-01  1.15223531e-01 -2.19053977e-01 -3.84060174e-01\n",
            "   6.33218240e-01 -4.25075679e-02  2.03772218e-01  9.05538514e-01\n",
            "  -9.89070710e-01]\n",
            " [ 2.39325642e-01 -5.52632606e-01 -9.78441098e-01 -3.84060174e-01\n",
            "   7.37980727e-01 -3.83352062e-01  3.65823283e-01  9.05538514e-01\n",
            "  -9.89070710e-01]\n",
            " [-1.11338451e+00 -2.85490151e-01  9.20026704e-01  6.45241658e-01\n",
            "  -9.73139891e-01 -9.14435344e-01 -8.37984627e-01 -1.10431526e+00\n",
            "   1.01105006e+00]\n",
            " [ 5.09867672e-01 -2.85490151e-01 -9.78441098e-01 -2.90487280e-01\n",
            "   1.30358303e-01  3.14190159e-01 -6.29633258e-01 -1.10431526e+00\n",
            "   1.01105006e+00]\n",
            " [-5.72300448e-01  1.82009145e-01 -5.98747538e-01 -3.84060174e-01\n",
            "   5.42424085e-01  1.00171523e-01 -7.40296073e-02  9.05538514e-01\n",
            "   1.01105006e+00]\n",
            " [ 1.86257782e+00  1.15223531e-01 -2.49721534e+00  1.77377189e-01\n",
            "  -2.67739147e-01 -2.40672972e-01 -8.61134779e-01 -1.10431526e+00\n",
            "   1.01105006e+00]\n",
            " [-1.11338451e+00  8.49865282e-01  1.60639583e-01 -3.84060174e-01\n",
            "   3.18930780e-01 -8.19315950e-01 -3.51831432e-01  9.05538514e-01\n",
            "   1.01105006e+00]\n",
            " [ 1.32149376e+00 -1.75477365e+00 -9.78441098e-01 -1.03341493e-01\n",
            "   5.98297411e-01  2.50777229e-01 -4.57915097e-03  9.05538514e-01\n",
            "   1.01105006e+00]\n",
            " [-1.11338451e+00  1.11700774e+00 -1.35813466e+00 -3.84060174e-01\n",
            "  -3.09644141e-01 -4.15058527e-01 -8.14834475e-01 -1.10431526e+00\n",
            "  -9.89070710e-01]\n",
            " [-3.01758418e-01 -8.19775060e-01  1.29972026e+00 -1.03341493e-01\n",
            "   1.16274848e-02 -3.27865749e-01 -5.60182801e-01 -1.10431526e+00\n",
            "  -9.89070710e-01]\n",
            " [-1.11338451e+00  9.16650896e-01  2.05910739e+00 -3.84060174e-01\n",
            "  -3.51549136e-01 -6.13223930e-01 -9.53735387e-01 -1.10431526e+00\n",
            "  -9.89070710e-01]\n",
            " [ 7.80409702e-01 -4.19061378e-01 -5.98747538e-01 -1.96914386e-01\n",
            "   1.09405806e-01  1.76476091e+00 -6.29633258e-01 -1.10431526e+00\n",
            "   1.01105006e+00]\n",
            " [-3.12163881e-02 -7.52989447e-01 -9.78441098e-01 -3.84060174e-01\n",
            "   7.72901556e-01  1.00171523e-01  4.81574043e-01  9.05538514e-01\n",
            "   1.01105006e+00]\n",
            " [ 1.05095173e+00 -8.19775060e-01  1.60639583e-01 -3.84060174e-01\n",
            "   8.56711545e-01  1.42391642e+00  1.08347800e+00  9.05538514e-01\n",
            "   1.01105006e+00]\n",
            " [ 1.05095173e+00 -4.85846992e-01  9.20026704e-01 -3.84060174e-01\n",
            "   8.00838219e-01  1.48732935e+00  1.17607861e+00  9.05538514e-01\n",
            "  -9.89070710e-01]\n",
            " [ 5.09867672e-01 -7.52989447e-01  1.60639583e-01  1.39382481e+00\n",
            "  -9.32501256e-03 -5.33957769e-01 -6.52783410e-01 -1.10431526e+00\n",
            "   1.01105006e+00]\n",
            " [-1.65446857e+00 -8.86560674e-01 -3.63629602e+00  5.51668764e-01\n",
            "  -1.14075987e+00 -2.24819739e-01 -9.76885539e-01 -1.10431526e+00\n",
            "   1.01105006e+00]\n",
            " [-8.42842478e-01  1.78486387e+00 -9.78441098e-01 -5.65550457e-02\n",
            "  -2.90076965e+00 -1.03333459e+00 -1.11578645e+00 -1.10431526e+00\n",
            "  -9.89070710e-01]\n",
            " [-3.12163881e-02  8.49865282e-01 -5.98747538e-01 -3.84060174e-01\n",
            "   6.12265743e-01 -1.37626962e-01  8.80214574e-02  9.05538514e-01\n",
            "  -9.89070710e-01]\n",
            " [ 7.80409702e-01 -5.52632606e-01 -1.73782822e+00 -3.37273727e-01\n",
            "   4.23693266e-01 -5.02251304e-01 -3.98131737e-01  9.05538514e-01\n",
            "   1.01105006e+00]\n",
            " [ 2.39325642e-01  1.05022212e+00  5.40333144e-01 -3.84060174e-01\n",
            "   1.72263298e-01 -8.03462718e-01 -4.90732345e-01 -1.10431526e+00\n",
            "  -9.89070710e-01]\n",
            " [-5.72300448e-01  1.18379335e+00  1.60639583e-01 -1.96914386e-01\n",
            "  -1.24552236e+00 -8.98582112e-01 -9.07435083e-01 -1.10431526e+00\n",
            "  -9.89070710e-01]\n",
            " [-3.01758418e-01 -6.86203833e-01 -5.98747538e-01 -3.84060174e-01\n",
            "   7.03059898e-01 -6.60783627e-01  3.19522978e-01  9.05538514e-01\n",
            "  -9.89070710e-01]\n",
            " [-8.42842478e-01  3.82365986e-01  1.29972026e+00  8.38042950e-02\n",
            "  -1.23853819e+00 -9.69921657e-01 -8.61134779e-01 -1.10431526e+00\n",
            "  -9.89070710e-01]\n",
            " [ 1.59203579e+00 -1.82155927e+00 -2.19053977e-01 -3.84060174e-01\n",
            "   1.12909401e+00  6.55034653e-01  2.51878743e+00  9.05538514e-01\n",
            "   1.01105006e+00]\n",
            " [ 1.86257782e+00 -1.15370313e+00 -9.78441098e-01 -1.03341493e-01\n",
            "   5.28455753e-01 -2.72379436e-01 -1.43480064e-01  9.05538514e-01\n",
            "   1.01105006e+00]\n",
            " [-3.01758418e-01  1.82009145e-01 -5.98747538e-01 -3.84060174e-01\n",
            "   4.79566593e-01 -1.77260042e-01 -1.89780368e-01  9.05538514e-01\n",
            "  -9.89070710e-01]\n",
            " [ 7.80409702e-01  4.84379176e-02 -2.19053977e-01 -3.84060174e-01\n",
            "   6.54170737e-01  3.37970007e-01  2.50072522e-01  9.05538514e-01\n",
            "  -9.89070710e-01]\n",
            " [-2.73663669e+00  1.58450703e+00 -2.19053977e-01  4.34137096e+00\n",
            "  -3.29188293e+00 -1.11260075e+00 -1.11578645e+00 -1.10431526e+00\n",
            "  -9.89070710e-01]\n",
            " [ 5.09867672e-01 -2.85490151e-01  9.20026704e-01 -3.84060174e-01\n",
            "   7.24012395e-01 -9.00672648e-02  7.36225716e-01  9.05538514e-01\n",
            "   1.01105006e+00]\n",
            " [-1.11338451e+00  1.45093581e+00  9.20026704e-01 -3.84060174e-01\n",
            "   4.30677432e-01 -9.79938809e-02 -7.40296073e-02  9.05538514e-01\n",
            "  -9.89070710e-01]\n",
            " [-5.72300448e-01 -2.85490151e-01 -1.35813466e+00  1.53418415e+00\n",
            "  -8.05519912e-01 -8.51022415e-01 -8.84284931e-01 -1.10431526e+00\n",
            "   1.01105006e+00]\n",
            " [-3.01758418e-01  1.15223531e-01  9.20026704e-01 -3.84060174e-01\n",
            "   6.40202406e-01  2.42850613e-01  4.35273739e-01  9.05538514e-01\n",
            "  -9.89070710e-01]\n",
            " [ 7.80409702e-01  1.15223531e-01  5.40333144e-01 -3.84060174e-01\n",
            "   6.68139069e-01  1.36050349e+00  4.58423891e-01  9.05538514e-01\n",
            "  -9.89070710e-01]\n",
            " [-3.01758418e-01 -4.85846992e-01  1.60639583e-01 -3.37273727e-01\n",
            "   1.58294966e-01 -8.11389334e-01 -5.37032649e-01 -1.10431526e+00\n",
            "  -9.89070710e-01]\n",
            " [-3.12163881e-02 -1.51918923e-01 -5.98747538e-01 -2.90487280e-01\n",
            "  -3.72616757e-02 -6.92490092e-01 -6.99083714e-01 -1.10431526e+00\n",
            "   1.01105006e+00]\n",
            " [-8.42842478e-01  8.49865282e-01  1.60639583e-01 -3.84060174e-01\n",
            "   2.21152458e-01 -8.98582112e-01 -4.67582193e-01  9.05538514e-01\n",
            "  -9.89070710e-01]\n",
            " [ 7.80409702e-01 -1.08691752e+00 -9.78441098e-01 -2.43700833e-01\n",
            "   4.37661598e-01  1.71511068e-01 -3.05531128e-01  9.05538514e-01\n",
            "   1.01105006e+00]\n",
            " [-8.42842478e-01  1.65129265e+00 -2.19053977e-01 -1.96914386e-01\n",
            "  -2.11155892e+00 -8.35169182e-01 -1.06948615e+00 -1.10431526e+00\n",
            "   1.01105006e+00]\n",
            " [-1.38392654e+00  1.65129265e+00  5.09665587e+00 -1.50127939e-01\n",
            "  -2.21632140e+00 -8.90655495e-01 -1.02318584e+00 -1.10431526e+00\n",
            "   1.01105006e+00]\n",
            " [ 1.05095173e+00 -4.85846992e-01 -9.78441098e-01 -2.43700833e-01\n",
            "   3.32899111e-01  6.84650581e-02 -2.59230824e-01  9.05538514e-01\n",
            "  -9.89070710e-01]\n",
            " [-3.01758418e-01 -5.52632606e-01 -1.73782822e+00 -3.84060174e-01\n",
            "   3.04962448e-01 -6.92490092e-01 -5.37032649e-01 -1.10431526e+00\n",
            "  -9.89070710e-01]\n",
            " [-3.01758418e-01 -4.85846992e-01 -1.73782822e+00 -3.84060174e-01\n",
            "   7.10044064e-01  1.39804603e-01  1.34321762e-01  9.05538514e-01\n",
            "  -9.89070710e-01]\n",
            " [-5.72300448e-01  1.78486387e+00  1.60639583e-01 -1.03341493e-01\n",
            "  -2.81695966e+00 -1.08089428e+00 -1.11578645e+00 -1.10431526e+00\n",
            "  -9.89070710e-01]\n",
            " [ 1.32149376e+00 -1.48763120e+00 -9.78441098e-01 -3.84060174e-01\n",
            "   9.96394861e-01  5.99548340e-01  1.38442998e+00  9.05538514e-01\n",
            "   1.01105006e+00]\n",
            " [-3.12163881e-02  4.49151600e-01  1.60639583e-01 -3.84060174e-01\n",
            "   6.19249908e-01  6.05384420e-02  1.57471914e-01  9.05538514e-01\n",
            "  -9.89070710e-01]\n",
            " [-3.12163881e-02  1.25057896e+00  5.40333144e-01 -3.84060174e-01\n",
            "   4.86550758e-01  5.04428946e-01 -2.77293031e-02  9.05538514e-01\n",
            "   1.01105006e+00]\n",
            " [-3.12163881e-02  3.82365986e-01 -5.98747538e-01  2.70950082e-01\n",
            "  -7.70599084e-01 -5.57737617e-01 -8.61134779e-01 -1.10431526e+00\n",
            "  -9.89070710e-01]\n",
            " [ 1.05095173e+00 -4.19061378e-01  1.60639583e-01 -3.84060174e-01\n",
            "   7.86869887e-01  7.18447582e-01  7.82526020e-01  9.05538514e-01\n",
            "   1.01105006e+00]\n",
            " [-8.42842478e-01  1.82009145e-01  1.29972026e+00 -1.03341493e-01\n",
            "  -6.51868265e-01 -7.32123173e-01 -7.68534170e-01 -1.10431526e+00\n",
            "  -9.89070710e-01]\n",
            " [ 2.39325642e-01 -1.68798804e+00  1.60639583e-01 -3.84060174e-01\n",
            "   1.01734736e+00  3.69092864e+00  1.91688347e+00  9.05538514e-01\n",
            "   1.01105006e+00]\n",
            " [ 1.59203579e+00 -1.28727436e+00 -9.78441098e-01 -1.50127939e-01\n",
            "   5.14487422e-01 -1.37626962e-01 -1.66630216e-01  9.05538514e-01\n",
            "   1.01105006e+00]\n",
            " [-3.01758418e-01 -1.35405997e+00  2.05910739e+00 -3.84060174e-01\n",
            "   9.05600706e-01  2.74557078e-01  1.98633393e+00  9.05538514e-01\n",
            "   1.01105006e+00]\n",
            " [ 5.09867672e-01  1.15223531e-01 -5.98747538e-01 -3.84060174e-01\n",
            "   7.86869887e-01  2.04219248e+00  9.67727237e-01  9.05538514e-01\n",
            "  -9.89070710e-01]\n",
            " [ 1.05095173e+00 -6.19418219e-01  1.29972026e+00 -3.84060174e-01\n",
            "   8.07822385e-01  1.87364300e-01  1.19922876e+00  9.05538514e-01\n",
            "  -9.89070710e-01]\n",
            " [-3.01758418e-01  1.05022212e+00  9.20026704e-01 -3.84060174e-01\n",
            "   5.70360748e-01  2.44644990e+00 -2.77293031e-02  9.05538514e-01\n",
            "  -9.89070710e-01]\n",
            " [ 5.09867672e-01 -4.19061378e-01 -2.19053977e-01  9.72746786e-01\n",
            "  -1.97897489e-01 -6.05297314e-01 -7.45384018e-01 -1.10431526e+00\n",
            "   1.01105006e+00]\n",
            " [ 2.39325642e-01 -3.52275765e-01  1.60639583e-01 -3.84060174e-01\n",
            "   6.89091566e-01  7.63916743e-02  4.35273739e-01  9.05538514e-01\n",
            "   1.01105006e+00]\n",
            " [-3.01758418e-01  6.49508441e-01 -5.98747538e-01 -3.84060174e-01\n",
            "   4.58614095e-01 -5.10177920e-01 -2.36080672e-01  9.05538514e-01\n",
            "   1.01105006e+00]\n",
            " [ 1.05095173e+00 -1.95513049e+00 -9.78441098e-01 -3.37273727e-01\n",
            "   9.05600706e-01  8.76979905e-01  9.67727237e-01  9.05538514e-01\n",
            "   1.01105006e+00]\n",
            " [ 5.09867672e-01 -4.19061378e-01  5.40333144e-01 -3.37273727e-01\n",
            "   4.93534924e-01 -3.99205294e-01 -2.77293031e-02  9.05538514e-01\n",
            "   1.01105006e+00]]\n"
          ]
        }
      ],
      "source": [
        "print(X_test_scaled)"
      ]
    },
    {
      "cell_type": "markdown",
      "metadata": {
        "id": "rGXwcSjkxLi_"
      },
      "source": [
        "**BOX PLOTS TO UNDERSTAND THE EFFECTS OF STANDARD SCALER:**"
      ]
    },
    {
      "cell_type": "code",
      "execution_count": 173,
      "metadata": {
        "colab": {
          "base_uri": "https://localhost:8080/",
          "height": 540
        },
        "id": "LsPkeOQUxKvG",
        "outputId": "bcfcb94e-98e7-4999-d6eb-f8f7ea77656d"
      },
      "outputs": [
        {
          "name": "stderr",
          "output_type": "stream",
          "text": [
            "<ipython-input-173-cf2a66116463>:3: MatplotlibDeprecationWarning: Auto-removal of overlapping axes is deprecated since 3.6 and will be removed two minor releases later; explicitly call ax.remove() as needed.\n",
            "  plt.subplot(1,2,1)\n"
          ]
        },
        {
          "data": {
            "text/plain": [
              "Text(0.5, 1.0, 'X_train after scaling')"
            ]
          },
          "execution_count": 173,
          "metadata": {},
          "output_type": "execute_result"
        },
        {
          "data": {
            "image/png": "[encoded data removed]",
            "text/plain": [
              "<Figure size 1500x500 with 2 Axes>"
            ]
          },
          "metadata": {},
          "output_type": "display_data"
        }
      ],
      "source": [
        "plt.subplots(figsize = (15,5))\n",
        "\n",
        "plt.subplot(1,2,1)\n",
        "sns.boxplot(data = X_train)\n",
        "plt.title('X_train before scaling')\n",
        "\n",
        "\n",
        "plt.subplot(1,2,2)\n",
        "sns.boxplot(data = X_train_scaled)\n",
        "plt.title('X_train after scaling')"
      ]
    },
    {
      "cell_type": "markdown",
      "metadata": {
        "id": "-fyLpvar1TQt"
      },
      "source": [
        "**4. APPLYING ALGORITHMS TO TEST THE ACCURACY OF THE MODEL:**\n",
        "\n",
        "\n",
        "\n",
        "**(i) LINEAR REGRESSION MODEL:**"
      ]
    },
    {
      "cell_type": "code",
      "execution_count": 174,
      "metadata": {
        "id": "qHgyhgzg2YS3"
      },
      "outputs": [],
      "source": [
        "from sklearn.linear_model import LinearRegression\n",
        "\n",
        "lin = LinearRegression()\n",
        "\n",
        "# fit the model\n",
        "lin.fit(X_train_scaled, Y_train)\n",
        "\n",
        "# predict the output for the model\n",
        "pred_y = lin.predict(X_test_scaled)"
      ]
    },
    {
      "cell_type": "code",
      "execution_count": 175,
      "metadata": {
        "colab": {
          "base_uri": "https://localhost:8080/"
        },
        "id": "IcheEhyG25ZR",
        "outputId": "a4c6cc5c-3173-4e43-f572-4ba2b40fc581"
      },
      "outputs": [
        {
          "name": "stdout",
          "output_type": "stream",
          "text": [
            "[ 8.22340505e+00  7.75252922e+00 -2.54117416e-01  4.35589319e+00\n",
            "  6.69135945e+00  1.36202538e+00  2.03864111e+00  7.79328670e+00\n",
            "  1.72547890e+00  3.33158516e+00  4.13723043e-01  9.75001593e+00\n",
            "  9.33180880e+00  1.70522541e+01  1.85133518e+01  1.24250301e+00\n",
            "  1.85818589e+00 -2.19341618e-02  7.18794479e+00  3.06137615e+00\n",
            "  1.43702876e+00  2.31135272e-01  6.57677437e+00  3.31761969e-01\n",
            "  2.10846121e+01  5.11915298e+00  5.93220317e+00  9.80969813e+00\n",
            " -6.46764212e-02  9.81330986e+00  6.64475980e+00 -4.53909646e-01\n",
            "  1.04015941e+01  1.45820244e+01  1.47807316e+00  4.33773546e-01\n",
            "  2.04109845e+00  6.08454570e+00 -4.65467631e-01 -3.05185642e-01\n",
            "  6.68439528e+00  1.79727675e+00  8.59237254e+00 -2.66715046e-01\n",
            "  1.54439592e+01  8.32647113e+00  8.25849719e+00  1.42038134e+00\n",
            "  1.29740729e+01  1.21912915e+00  2.95190998e+01  5.55199228e+00\n",
            "  1.72874204e+01  1.94724900e+01  1.38380222e+01  1.62042933e+01\n",
            "  6.42051336e-01  9.01702561e+00  3.62733209e+00  1.46170820e+01\n",
            "  5.18049032e+00]\n"
          ]
        }
      ],
      "source": [
        "print(pred_y)"
      ]
    },
    {
      "cell_type": "code",
      "execution_count": 176,
      "metadata": {
        "colab": {
          "base_uri": "https://localhost:8080/",
          "height": 536
        },
        "id": "Kim3tpYu3D-n",
        "outputId": "7c13eb3c-2b73-4ed8-a909-574955d79df9"
      },
      "outputs": [
        {
          "name": "stdout",
          "output_type": "stream",
          "text": [
            "0.5468236465249986\n",
            "Accuracy of the model is: 98.47657384266951\n"
          ]
        },
        {
          "data": {
            "text/plain": [
              "<matplotlib.collections.PathCollection at 0x790d6024e7a0>"
            ]
          },
          "execution_count": 176,
          "metadata": {},
          "output_type": "execute_result"
        },
        {
          "data": {
            "image/png": "[encoded data removed]",
            "text/plain": [
              "<Figure size 800x550 with 1 Axes>"
            ]
          },
          "metadata": {},
          "output_type": "display_data"
        }
      ],
      "source": [
        "# find out the mean abolute error between the actual output and predicted output\n",
        "\n",
        "from sklearn.metrics import mean_absolute_error\n",
        "\n",
        "mae = mean_absolute_error(Y_test, pred_y)\n",
        "\n",
        "print(mae)\n",
        "\n",
        "from sklearn.metrics import r2_score\n",
        "\n",
        "\n",
        "acc = r2_score(Y_test, pred_y)\n",
        "\n",
        "print(\"Accuracy of the model is:\", (acc * 100.0))\n",
        "\n",
        "# To perform the scatter plot between the testing data\n",
        "\n",
        "plt.scatter(Y_test, pred_y)"
      ]
    },
    {
      "cell_type": "markdown",
      "metadata": {
        "id": "Vyqjfrxo8HrM"
      },
      "source": [
        "**(ii) LASSO REGRESSION**"
      ]
    },
    {
      "cell_type": "code",
      "execution_count": 177,
      "metadata": {
        "id": "zaeyg5TR8L7a"
      },
      "outputs": [],
      "source": [
        "from sklearn.linear_model import Lasso\n",
        "\n",
        "las = Lasso()\n",
        "\n",
        "# fit  the model\n",
        "las.fit(X_train_scaled, Y_train)\n",
        "\n",
        "\n",
        "# predict the model\n",
        "pred_y_lasso = las.predict(X_test_scaled)\n"
      ]
    },
    {
      "cell_type": "code",
      "execution_count": 178,
      "metadata": {
        "colab": {
          "base_uri": "https://localhost:8080/"
        },
        "id": "MJkJAL-18nb1",
        "outputId": "c5c90ea8-7b1d-4878-a019-c411ffd42931"
      },
      "outputs": [
        {
          "name": "stdout",
          "output_type": "stream",
          "text": [
            "[ 7.84570511  7.4760351   1.06280248  5.57182566  7.15885302  2.98472993\n",
            "  3.29585571  7.88757659  2.64885633  3.93029159  1.49954269  9.90939713\n",
            "  9.38584995 15.7567602  16.31754696  2.94285845  2.56817739 -0.40623463\n",
            "  7.0973165   4.05837568  2.78651163  0.83183302  6.46086185  0.80409291\n",
            " 19.21068568  5.76645732  5.86530516  9.16901185 -0.64326039  9.83769504\n",
            "  6.56628861  1.06684001  9.62691324 13.06176805  2.57722597  2.28322385\n",
            "  2.59487225  6.44426082  0.37191286  0.3915779   6.32171041  2.93276462\n",
            "  8.11248975 -0.54845009 14.49798226  7.96825553  8.55326749  2.03662688\n",
            " 12.4409409   1.88633635 25.87619242  6.07660958 15.93875663 17.14160346\n",
            " 12.52311598 14.3603987   2.35836911  9.12915914  4.68421388 13.65732474\n",
            "  5.85117379]\n"
          ]
        }
      ],
      "source": [
        "print(pred_y_lasso)"
      ]
    },
    {
      "cell_type": "code",
      "execution_count": 179,
      "metadata": {
        "colab": {
          "base_uri": "https://localhost:8080/"
        },
        "id": "Ej4YfbAR8t3H",
        "outputId": "7a96607a-9f9c-4b25-c905-c09c6f4dc772"
      },
      "outputs": [
        {
          "name": "stdout",
          "output_type": "stream",
          "text": [
            "1.133175994914409\n"
          ]
        }
      ],
      "source": [
        "# find out the mean abolute error between the actual output and predicted output\n",
        "\n",
        "from sklearn.metrics import mean_absolute_error\n",
        "\n",
        "mae = mean_absolute_error(Y_test, pred_y_lasso)\n",
        "\n",
        "print(mae)"
      ]
    },
    {
      "cell_type": "code",
      "execution_count": 180,
      "metadata": {
        "colab": {
          "base_uri": "https://localhost:8080/"
        },
        "id": "hCg0brmu8_Da",
        "outputId": "fdf164ea-04ce-40fd-9a9b-40d8d66e52b7"
      },
      "outputs": [
        {
          "name": "stdout",
          "output_type": "stream",
          "text": [
            "Accuracy of the model is: 94.92020263112389\n"
          ]
        }
      ],
      "source": [
        "# find out the accuracy between the actual and predicted output\n",
        "\n",
        "from sklearn.metrics import r2_score\n",
        "\n",
        "acc = r2_score(Y_test, pred_y_lasso)\n",
        "\n",
        "print(\"Accuracy of the model is:\", (acc * 100.0))"
      ]
    },
    {
      "cell_type": "code",
      "execution_count": 181,
      "metadata": {
        "colab": {
          "base_uri": "https://localhost:8080/",
          "height": 501
        },
        "id": "JV1o3_Yk9O9k",
        "outputId": "33046b8d-f105-49a9-8468-adf3c022e79e"
      },
      "outputs": [
        {
          "data": {
            "text/plain": [
              "<matplotlib.collections.PathCollection at 0x790d600cacb0>"
            ]
          },
          "execution_count": 181,
          "metadata": {},
          "output_type": "execute_result"
        },
        {
          "data": {
            "image/png": "[encoded data removed]",
            "text/plain": [
              "<Figure size 800x550 with 1 Axes>"
            ]
          },
          "metadata": {},
          "output_type": "display_data"
        }
      ],
      "source": [
        "plt.scatter(Y_test, pred_y_lasso)"
      ]
    },
    {
      "cell_type": "markdown",
      "metadata": {
        "id": "PrERdkUy_Xmw"
      },
      "source": [
        "**3. Cross Validation Lasso**"
      ]
    },
    {
      "cell_type": "code",
      "execution_count": 182,
      "metadata": {
        "colab": {
          "base_uri": "https://localhost:8080/",
          "height": 727
        },
        "id": "7s2q4AaE_c2E",
        "outputId": "3973b70d-fd79-4efd-8e06-e4fadac2d1e1"
      },
      "outputs": [
        {
          "name": "stdout",
          "output_type": "stream",
          "text": [
            "[ 8.17490595  7.68312478 -0.25676525  4.72643402  6.78715772  1.77624325\n",
            "  2.23148094  7.64057821  1.99176323  3.39941035  0.62808928  9.95945488\n",
            "  9.36168319 16.98503659 18.28488762  1.61644108  1.62751276 -0.6415713\n",
            "  7.28510526  3.10926518  1.95541903  0.18069335  6.47563129  0.14318503\n",
            " 20.99597009  5.11755206  5.86208849  9.75914403 -0.77037467  9.91838577\n",
            "  6.72277075 -0.31776007 10.31109643 14.4365551   1.71022677  0.83439752\n",
            "  2.03414915  5.97488529 -0.6263644  -0.56200288  6.47253729  2.07971408\n",
            "  8.46741557 -0.8464481  15.40443856  8.32941189  8.48782486  1.44030355\n",
            " 13.02752812  1.20911545 29.08623849  5.49737681 17.15937199 19.28890096\n",
            " 13.71102991 16.05355549  0.99056448  9.0873725   3.84455993 14.43991192\n",
            "  5.23034139]\n",
            "0.6199701158263433\n",
            "Accuracy of the model is: 98.20946715928275\n"
          ]
        },
        {
          "data": {
            "text/plain": [
              "<matplotlib.collections.PathCollection at 0x790d600c7250>"
            ]
          },
          "execution_count": 182,
          "metadata": {},
          "output_type": "execute_result"
        },
        {
          "data": {
            "image/png": "[encoded data removed]",
            "text/plain": [
              "<Figure size 800x550 with 1 Axes>"
            ]
          },
          "metadata": {},
          "output_type": "display_data"
        }
      ],
      "source": [
        "from sklearn.linear_model import LassoCV\n",
        "\n",
        "lascv = LassoCV(cv = 5)\n",
        "\n",
        "# fit the model\n",
        "lascv.fit(X_train_scaled, Y_train)\n",
        "\n",
        "# predict the model\n",
        "pred_y_lascv = lascv.predict(X_test_scaled)\n",
        "\n",
        "print(pred_y_lascv)\n",
        "\n",
        "\n",
        "# find out the mean absolute error between actual output and predicted output\n",
        "from sklearn.metrics import mean_absolute_error\n",
        "\n",
        "mae = mean_absolute_error(Y_test, pred_y_lascv)\n",
        "\n",
        "print(mae)\n",
        "\n",
        "\n",
        "# find out the efficiency between actual output and predicted output\n",
        "\n",
        "from sklearn.metrics import r2_score\n",
        "\n",
        "acc = r2_score(Y_test, pred_y_lascv)\n",
        "\n",
        "print(\"Accuracy of the model is:\", (acc * 100.0))\n",
        "\n",
        "plt.scatter(Y_test, pred_y_lascv)"
      ]
    },
    {
      "cell_type": "markdown",
      "metadata": {
        "id": "uj3mpoo-P8Lf"
      },
      "source": [
        "**4. Ridge Regression**"
      ]
    },
    {
      "cell_type": "code",
      "execution_count": 183,
      "metadata": {
        "colab": {
          "base_uri": "https://localhost:8080/"
        },
        "id": "j0S7iyjNQB5o",
        "outputId": "4038584b-9e20-4386-af04-cfac6394b634"
      },
      "outputs": [
        {
          "name": "stdout",
          "output_type": "stream",
          "text": [
            "[ 8.23695957  7.77133489 -0.20576373  4.38641746  6.73014882  1.38083778\n",
            "  2.09821574  7.89573609  1.68710448  3.39608166  0.45955107  9.77115691\n",
            "  9.35289622 17.03184252 18.46891974  1.31920963  1.83197436 -0.12967473\n",
            "  7.18616187  3.15029834  1.4415705   0.20532056  6.60901914  0.34619299\n",
            " 20.97777968  5.22692975  5.97066219  9.82599838 -0.18171193  9.83698303\n",
            "  6.65050786 -0.43256887 10.40995342 14.57517502  1.52182034  0.47799404\n",
            "  2.09598786  6.18530003 -0.51720703 -0.27108924  6.74656177  1.8115675\n",
            "  8.60302337 -0.34697492 15.41467762  8.34164636  8.27783782  1.41852757\n",
            " 12.97837116  1.24905696 29.40913561  5.66093325 17.23898525 19.38721803\n",
            " 13.82278407 16.19164908  0.70419803  9.05107798  3.6760472  14.63186999\n",
            "  5.27050843]\n",
            "0.5642305340105692\n",
            "Accuracy of the model is: 0.9842993364555513\n"
          ]
        }
      ],
      "source": [
        "from sklearn.linear_model import Ridge\n",
        "\n",
        "ridge =   Ridge()\n",
        "\n",
        "\n",
        "# train the model\n",
        "\n",
        "ridge.fit(X_train_scaled, Y_train)\n",
        "\n",
        "pred_y = ridge.predict(X_test_scaled)\n",
        "\n",
        "print(pred_y)\n",
        "\n",
        "\n",
        "from sklearn.metrics import mean_absolute_error\n",
        "\n",
        "mae = mean_absolute_error(Y_test, pred_y)\n",
        "\n",
        "print(mae)\n",
        "\n",
        "\n",
        "from sklearn.metrics import r2_score\n",
        "\n",
        "acc = r2_score(Y_test, pred_y)\n",
        "\n",
        "print('Accuracy of the model is:', acc)"
      ]
    },
    {
      "cell_type": "code",
      "execution_count": 184,
      "metadata": {
        "colab": {
          "base_uri": "https://localhost:8080/",
          "height": 501
        },
        "id": "LhFqGiyCRWri",
        "outputId": "dadc516e-3a28-4550-b8a4-955ad3e3d83b"
      },
      "outputs": [
        {
          "data": {
            "text/plain": [
              "<matplotlib.collections.PathCollection at 0x790d5faba230>"
            ]
          },
          "execution_count": 184,
          "metadata": {},
          "output_type": "execute_result"
        },
        {
          "data": {
            "image/png": "[encoded data removed]",
            "text/plain": [
              "<Figure size 800x550 with 1 Axes>"
            ]
          },
          "metadata": {},
          "output_type": "display_data"
        }
      ],
      "source": [
        "plt.scatter(Y_test, pred_y)"
      ]
    },
    {
      "cell_type": "markdown",
      "metadata": {
        "id": "f8pCClnrRpct"
      },
      "source": [
        "**5. RidgeCV**"
      ]
    },
    {
      "cell_type": "code",
      "execution_count": 185,
      "metadata": {
        "colab": {
          "base_uri": "https://localhost:8080/",
          "height": 727
        },
        "id": "P2n5ayT6RkEr",
        "outputId": "1515a94d-6eb6-4413-ebfb-1421a666a8f0"
      },
      "outputs": [
        {
          "name": "stdout",
          "output_type": "stream",
          "text": [
            "[ 8.23695957  7.77133489 -0.20576373  4.38641746  6.73014882  1.38083778\n",
            "  2.09821574  7.89573609  1.68710448  3.39608166  0.45955107  9.77115691\n",
            "  9.35289622 17.03184252 18.46891974  1.31920963  1.83197436 -0.12967473\n",
            "  7.18616187  3.15029834  1.4415705   0.20532056  6.60901914  0.34619299\n",
            " 20.97777968  5.22692975  5.97066219  9.82599838 -0.18171193  9.83698303\n",
            "  6.65050786 -0.43256887 10.40995342 14.57517502  1.52182034  0.47799404\n",
            "  2.09598786  6.18530003 -0.51720703 -0.27108924  6.74656177  1.8115675\n",
            "  8.60302337 -0.34697492 15.41467762  8.34164636  8.27783782  1.41852757\n",
            " 12.97837116  1.24905696 29.40913561  5.66093325 17.23898525 19.38721803\n",
            " 13.82278407 16.19164908  0.70419803  9.05107798  3.6760472  14.63186999\n",
            "  5.27050843]\n",
            "0.5642305340105692\n",
            "Accuracy of the model is: 0.9842993364555513\n"
          ]
        },
        {
          "data": {
            "text/plain": [
              "<matplotlib.collections.PathCollection at 0x790d5fea2fb0>"
            ]
          },
          "execution_count": 185,
          "metadata": {},
          "output_type": "execute_result"
        },
        {
          "data": {
            "image/png": "[encoded data removed]",
            "text/plain": [
              "<Figure size 800x550 with 1 Axes>"
            ]
          },
          "metadata": {},
          "output_type": "display_data"
        }
      ],
      "source": [
        "from sklearn.linear_model import RidgeCV\n",
        "\n",
        "ridgecv = RidgeCV(cv = 5)\n",
        "\n",
        "ridgecv.fit(X_train_scaled, Y_train)\n",
        "\n",
        "pred_y_ridcv = ridgecv.predict(X_test_scaled)\n",
        "\n",
        "print(pred_y_ridcv)\n",
        "\n",
        "\n",
        "from sklearn.metrics import mean_absolute_error\n",
        "\n",
        "mae = mean_absolute_error(Y_test, pred_y)\n",
        "\n",
        "print(mae)\n",
        "\n",
        "\n",
        "from sklearn.metrics import r2_score\n",
        "\n",
        "acc = r2_score(Y_test, pred_y)\n",
        "\n",
        "print(\"Accuracy of the model is:\", acc)\n",
        "\n",
        "plt.scatter(Y_test, pred_y)"
      ]
    },
    {
      "cell_type": "markdown",
      "metadata": {
        "id": "ShF8uCqESnD4"
      },
      "source": [
        "**6. ElasticNet Regression:**\n",
        "\n"
      ]
    },
    {
      "cell_type": "code",
      "execution_count": 186,
      "metadata": {
        "colab": {
          "base_uri": "https://localhost:8080/",
          "height": 536
        },
        "id": "2QAebbAnS3UA",
        "outputId": "21c83178-ddf3-4859-9360-dcb87321b754"
      },
      "outputs": [
        {
          "name": "stdout",
          "output_type": "stream",
          "text": [
            "Mean Absolute Error is: 1.8822353634896005\n",
            "R2 Score is: 87.53460589519703\n"
          ]
        },
        {
          "data": {
            "text/plain": [
              "<matplotlib.collections.PathCollection at 0x790d5feab0a0>"
            ]
          },
          "execution_count": 186,
          "metadata": {},
          "output_type": "execute_result"
        },
        {
          "data": {
            "image/png": "[encoded data removed]",
            "text/plain": [
              "<Figure size 800x550 with 1 Axes>"
            ]
          },
          "metadata": {},
          "output_type": "display_data"
        }
      ],
      "source": [
        "from sklearn.linear_model import ElasticNet\n",
        "\n",
        "elastic = ElasticNet()\n",
        "\n",
        "elastic.fit(X_train_scaled, Y_train)\n",
        "\n",
        "pred_y = elastic.predict(X_test_scaled)\n",
        "\n",
        "\n",
        "from sklearn.metrics import mean_absolute_error\n",
        "\n",
        "mae = mean_absolute_error(Y_test, pred_y)\n",
        "\n",
        "from sklearn.metrics import r2_score\n",
        "\n",
        "score = (r2_score(Y_test, pred_y))*100.0\n",
        "\n",
        "\n",
        "print(\"Mean Absolute Error is:\", mae)\n",
        "\n",
        "print(\"R2 Score is:\", score)\n",
        "\n",
        "plt.scatter(Y_test, pred_y)"
      ]
    },
    {
      "cell_type": "markdown",
      "metadata": {
        "id": "8YrnYv8gTbqj"
      },
      "source": [
        "**7. ElasticNet CV**"
      ]
    },
    {
      "cell_type": "code",
      "execution_count": 187,
      "metadata": {
        "colab": {
          "base_uri": "https://localhost:8080/",
          "height": 536
        },
        "id": "su1saZ1rTgZJ",
        "outputId": "e9c4b2cb-8eaf-48ee-b96e-6f7b8408923e"
      },
      "outputs": [
        {
          "name": "stdout",
          "output_type": "stream",
          "text": [
            "Mean Absolute Error is: 0.6575946731430898\n",
            "R2 Score is: 98.14217587854941\n"
          ]
        },
        {
          "data": {
            "text/plain": [
              "<matplotlib.collections.PathCollection at 0x790d60b65990>"
            ]
          },
          "execution_count": 187,
          "metadata": {},
          "output_type": "execute_result"
        },
        {
          "data": {
            "image/png": "[encoded data removed]",
            "text/plain": [
              "<Figure size 800x550 with 1 Axes>"
            ]
          },
          "metadata": {},
          "output_type": "display_data"
        }
      ],
      "source": [
        "from sklearn.linear_model import ElasticNetCV\n",
        "\n",
        "elasticcv = ElasticNetCV()\n",
        "\n",
        "elasticcv.fit(X_train_scaled, Y_train)\n",
        "\n",
        "pred_y = elasticcv.predict(X_test_scaled)\n",
        "\n",
        "\n",
        "from sklearn.metrics import mean_absolute_error\n",
        "\n",
        "mae = mean_absolute_error(Y_test, pred_y)\n",
        "\n",
        "from sklearn.metrics import r2_score\n",
        "\n",
        "score = (r2_score(Y_test, pred_y))*100.0\n",
        "\n",
        "\n",
        "print(\"Mean Absolute Error is:\", mae)\n",
        "\n",
        "print(\"R2 Score is:\", score)\n",
        "\n",
        "plt.scatter(Y_test, pred_y)"
      ]
    },
    {
      "cell_type": "code",
      "execution_count": 188,
      "metadata": {
        "colab": {
          "base_uri": "https://localhost:8080/"
        },
        "id": "UCK5XANcUAXO",
        "outputId": "8f4c7394-c372-452a-8f31-d893958f6d84"
      },
      "outputs": [
        {
          "name": "stdout",
          "output_type": "stream",
          "text": [
            "[1.41170600e+01 1.31656174e+01 1.22782989e+01 1.14507826e+01\n",
            " 1.06790382e+01 9.95930678e+00 9.28808283e+00 8.66209714e+00\n",
            " 8.07830078e+00 7.53385034e+00 7.02609405e+00 6.55255882e+00\n",
            " 6.11093829e+00 5.69908150e+00 5.31498248e+00 4.95677045e+00\n",
            " 4.62270071e+00 4.31114616e+00 4.02058933e+00 3.74961507e+00\n",
            " 3.49690356e+00 3.26122397e+00 3.04142839e+00 2.83644629e+00\n",
            " 2.64527931e+00 2.46699633e+00 2.30072904e+00 2.14566760e+00\n",
            " 2.00105679e+00 1.86619226e+00 1.74041714e+00 1.62311885e+00\n",
            " 1.51372607e+00 1.41170600e+00 1.31656174e+00 1.22782989e+00\n",
            " 1.14507826e+00 1.06790382e+00 9.95930678e-01 9.28808283e-01\n",
            " 8.66209714e-01 8.07830078e-01 7.53385034e-01 7.02609405e-01\n",
            " 6.55255882e-01 6.11093829e-01 5.69908150e-01 5.31498248e-01\n",
            " 4.95677045e-01 4.62270071e-01 4.31114616e-01 4.02058933e-01\n",
            " 3.74961507e-01 3.49690356e-01 3.26122397e-01 3.04142839e-01\n",
            " 2.83644629e-01 2.64527931e-01 2.46699633e-01 2.30072904e-01\n",
            " 2.14566760e-01 2.00105679e-01 1.86619226e-01 1.74041714e-01\n",
            " 1.62311885e-01 1.51372607e-01 1.41170600e-01 1.31656174e-01\n",
            " 1.22782989e-01 1.14507826e-01 1.06790382e-01 9.95930678e-02\n",
            " 9.28808283e-02 8.66209714e-02 8.07830078e-02 7.53385034e-02\n",
            " 7.02609405e-02 6.55255882e-02 6.11093829e-02 5.69908150e-02\n",
            " 5.31498248e-02 4.95677045e-02 4.62270071e-02 4.31114616e-02\n",
            " 4.02058933e-02 3.74961507e-02 3.49690356e-02 3.26122397e-02\n",
            " 3.04142839e-02 2.83644629e-02 2.64527931e-02 2.46699633e-02\n",
            " 2.30072904e-02 2.14566760e-02 2.00105679e-02 1.86619226e-02\n",
            " 1.74041714e-02 1.62311885e-02 1.51372607e-02 1.41170600e-02]\n"
          ]
        }
      ],
      "source": [
        "print(elasticcv.alphas_)"
      ]
    },
    {
      "cell_type": "code",
      "execution_count": 189,
      "metadata": {
        "colab": {
          "base_uri": "https://localhost:8080/"
        },
        "id": "ivlbRSBqUGMI",
        "outputId": "7ddce6b2-2672-4080-a435-5377b9cdc844"
      },
      "outputs": [
        {
          "name": "stdout",
          "output_type": "stream",
          "text": [
            "[ 8.26896303  7.80499035 -0.10373519  4.5910001   6.88725274  1.59410811\n",
            "  2.35512483  8.0623476   1.72415002  3.53713054  0.6324586   9.86752845\n",
            "  9.43037004 16.93741658 18.24537235  1.65750426  1.70187606 -0.64660717\n",
            "  7.25494999  3.39769372  1.6585457   0.11316128  6.66222016  0.2768868\n",
            " 20.66780763  5.47501303  6.05587139  9.84868106 -0.65326652  9.93266416\n",
            "  6.72851251 -0.29425171 10.39747097 14.48835483  1.70083377  0.73634118\n",
            "  2.25453683  6.37570352 -0.71507088 -0.36129277  6.8083341   1.96274355\n",
            "  8.60448104 -0.79781122 15.32067065  8.39541208  8.43742252  1.41818555\n",
            " 13.00237268  1.28988758 28.93275959  5.88819725 17.04972357 19.1125176\n",
            " 13.71477759 16.09820311  0.99493652  9.16486312  3.91448039 14.57731138\n",
            "  5.50092909]\n"
          ]
        }
      ],
      "source": [
        "print(pred_y)"
      ]
    },
    {
      "cell_type": "code",
      "execution_count": 190,
      "metadata": {
        "colab": {
          "base_uri": "https://localhost:8080/"
        },
        "id": "2I4RD90SUIen",
        "outputId": "53b45fd8-8574-40b1-9acf-1923a807b6d3"
      },
      "outputs": [
        {
          "name": "stdout",
          "output_type": "stream",
          "text": [
            "24      8.4\n",
            "6       7.2\n",
            "152     0.5\n",
            "232     3.8\n",
            "238     6.5\n",
            "       ... \n",
            "162     0.8\n",
            "178     9.0\n",
            "224     3.9\n",
            "230    15.4\n",
            "154     5.2\n",
            "Name: FWI, Length: 61, dtype: float64\n"
          ]
        }
      ],
      "source": [
        "print(Y_test)"
      ]
    },
    {
      "cell_type": "markdown",
      "metadata": {
        "id": "ad6HDUcQUXOV"
      },
      "source": [
        "**OBSERVATIONS:**\n",
        "(i) From the above algorithms, we can see that Linear, Ridge and RidgeCV are best suited for the model as\n",
        "  \n",
        "*   mean absolute error is very low.\n",
        "*   R2 Score value is very high.\n",
        "\n"
      ]
    },
    {
      "cell_type": "markdown",
      "metadata": {
        "id": "iDv4KhHaUyK8"
      },
      "source": [
        "**Pickle the Machine Learning Model, preprocessing Standard Scaler Model:**"
      ]
    },
    {
      "cell_type": "code",
      "execution_count": 191,
      "metadata": {
        "id": "ryP2_fO6U3od"
      },
      "outputs": [],
      "source": [
        "import pickle\n",
        "\n",
        "# dump the standard scaler model into the file\n",
        "pickle.dump(sc, open('sc.pkl','wb'))\n",
        "\n",
        "# dump the ridge model into the file.\n",
        "pickle.dump(ridge, open('Ridge.pkl','wb'))"
      ]
    },
    {
      "cell_type": "code",
      "execution_count": 192,
      "metadata": {
        "id": "gfjdyukVVejF"
      },
      "outputs": [],
      "source": [
        "# Load the standard model from the file\n",
        "\n",
        "files_data = pickle.load(open('sc.pkl','rb'))"
      ]
    },
    {
      "cell_type": "code",
      "execution_count": 193,
      "metadata": {
        "colab": {
          "base_uri": "https://localhost:8080/"
        },
        "id": "R61ImWnVVqQd",
        "outputId": "8a0a0410-d650-425e-ae8e-49bd9f68aea5"
      },
      "outputs": [
        {
          "name": "stdout",
          "output_type": "stream",
          "text": [
            "StandardScaler()\n"
          ]
        }
      ],
      "source": [
        "print(files_data)"
      ]
    },
    {
      "cell_type": "code",
      "execution_count": 194,
      "metadata": {
        "id": "L1OUPep2VtEg"
      },
      "outputs": [],
      "source": [
        "# Load the Ridge model from the file\n",
        "\n",
        "ridge_data = pickle.load(open('Ridge.pkl','rb'))"
      ]
    },
    {
      "cell_type": "code",
      "execution_count": 195,
      "metadata": {
        "colab": {
          "base_uri": "https://localhost:8080/"
        },
        "id": "0n850zvKV7CX",
        "outputId": "ef8c594f-3cd2-4c10-9b2e-0f4c27391188"
      },
      "outputs": [
        {
          "name": "stdout",
          "output_type": "stream",
          "text": [
            "Ridge()\n"
          ]
        }
      ],
      "source": [
        "print(ridge_data)"
      ]
    }
  ],
  "metadata": {
    "colab": {
      "provenance": []
    },
    "kernelspec": {
      "display_name": "Python 3.8.10 64-bit",
      "language": "python",
      "name": "python3"
    },
    "language_info": {
      "name": "python",
      "version": "3.8.10"
    },
    "vscode": {
      "interpreter": {
        "hash": "e7370f93d1d0cde622a1f8e1c04877d8463912d04d973331ad4851f04de6915a"
      }
    }
  },
  "nbformat": 4,
  "nbformat_minor": 0
}
